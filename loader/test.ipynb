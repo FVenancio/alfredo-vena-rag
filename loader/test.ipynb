{
 "cells": [
  {
   "cell_type": "code",
   "execution_count": 27,
   "metadata": {},
   "outputs": [],
   "source": [
    "import os\n",
    "import tempfile\n",
    "\n",
    "from langchain_text_splitters import MarkdownHeaderTextSplitter\n",
    "from langchain.schema.document import Document\n",
    "from langchain_experimental.text_splitter import SemanticChunker\n",
    "from langchain_openai.embeddings import OpenAIEmbeddings\n",
    "from dotenv import load_dotenv\n",
    "from openai import OpenAI\n",
    "from pathlib import Path\n",
    "from supabase import create_client\n",
    "\n",
    "load_dotenv()\n",
    "\n",
    "\n",
    "def load_document(filename: str, document_type: str):\n",
    "    \"\"\"\n",
    "    Function use to load a PDF document onto a Supabase vector database.\n",
    "    It will convert it into Markdown, split it by its headers, create an embedding for each chunk.\n",
    "    Finally it will upload each embedded chunk to the 'embeddings' table.\n",
    "    \"\"\"\n",
    "    document_types = [\n",
    "        \"certidao_registo_predial\",\n",
    "        \"caderneta_predial\",\n",
    "        \"licenca_utilizacao\",\n",
    "        \"certidao_isencao\",\n",
    "        \"certidao_infraestruturas\",\n",
    "        \"ficha_tecnica_habitacao\",\n",
    "        \"certificado_energetico\",\n",
    "        \"planta_imovel\",\n",
    "        \"documento_kyc\",\n",
    "        \"documento_preferencia\"\n",
    "    ]\n",
    "\n",
    "    if document_type not in document_types:\n",
    "        raise Exception(\"Invalid document type\")\n",
    "    \n",
    "    with tempfile.TemporaryDirectory() as tmp_dirname:\n",
    "        # Parse the PDF and convert it to Markdown\n",
    "        os.system(f\"\"\"marker_single \"{filename}\" \"{tmp_dirname}\" --batch_multiplier 1\"\"\")\n",
    "\n",
    "        # Split the resulting Markdown into chunks\n",
    "        resulting_folder_name = Path(filename).stem\n",
    "        with open(f\"{tmp_dirname}/{resulting_folder_name}/{resulting_folder_name}.md\", \"r\") as f:\n",
    "            doc = f.read()\n",
    "\n",
    "            markdown_splitter = MarkdownHeaderTextSplitter(headers_to_split_on=[\n",
    "                (\"#\", \"Header 1\"),\n",
    "                (\"##\", \"Header 2\"),\n",
    "                (\"###\", \"Header 3\"),\n",
    "            ], strip_headers=False)\n",
    "            chunks = markdown_splitter.split_text(doc)\n",
    "            \n",
    "            # Instantiate a Supabase and an OpenAI client\n",
    "            supabase_client = create_client(os.environ.get(\"SUPABASE_URL\"), os.environ.get(\"SUPABASE_KEY\"))\n",
    "            openai_client = OpenAI(api_key=os.environ.get(\"OPENAI_API_KEY\"))\n",
    "\n",
    "            # Add an incrementing identifier to each chunk\n",
    "            chunk_idx = 0\n",
    "            for chunk in chunks:\n",
    "                # And split each chunk into semanticaly similar sub-chunks  \n",
    "                text_splitter = SemanticChunker(OpenAIEmbeddings(api_key=os.environ.get(\"OPENAI_API_KEY\")), breakpoint_threshold_type=\"percentile\") \n",
    "                semantic_chunks = text_splitter.create_documents([chunk.page_content])\n",
    "                for semantic_chunk in semantic_chunks:\n",
    "                    # Generate embeddings from OpenAI\n",
    "                    response = openai_client.embeddings.create(\n",
    "                        input=semantic_chunk.page_content,\n",
    "                        model=\"text-embedding-3-small\"\n",
    "                    )\n",
    "\n",
    "                    # Upload to table\n",
    "                    supabase_client.table(\"embeddings\").insert({\n",
    "                        \"content\": semantic_chunk.page_content,\n",
    "                        \"embedding\": response.data[0].embedding,\n",
    "                        \"metadata\": {\n",
    "                            \"name\": resulting_folder_name,\n",
    "                            \"chunk_idx\": chunk_idx,\n",
    "                            **chunk.metadata\n",
    "                        },\n",
    "                        \"document_type\": document_type\n",
    "                    }).execute()\n",
    "\n",
    "                    # Increment chunk index\n",
    "                    chunk_idx = chunk_idx + 1"
   ]
  },
  {
   "cell_type": "code",
   "execution_count": 14,
   "metadata": {},
   "outputs": [
    {
     "name": "stdout",
     "output_type": "stream",
     "text": [
      "Loaded detection model vikp/surya_det3 on device cpu with dtype torch.float32\n",
      "Loaded detection model vikp/surya_layout3 on device cpu with dtype torch.float32\n",
      "Loaded reading order model vikp/surya_order on device cpu with dtype torch.float32\n",
      "Loaded recognition model vikp/surya_rec2 on device cpu with dtype torch.float32\n",
      "Loaded texify model to cpu with torch.float32 dtype\n"
     ]
    },
    {
     "name": "stderr",
     "output_type": "stream",
     "text": [
      "Detecting bboxes: 100%|██████████| 3/3 [00:23<00:00,  7.81s/it]\n",
      "Recognizing Text: 100%|██████████| 24/24 [13:26<00:00, 33.60s/it]\n",
      "Detecting bboxes: 100%|██████████| 2/2 [00:15<00:00,  7.91s/it]\n",
      "Finding reading order: 100%|██████████| 2/2 [00:45<00:00, 22.97s/it]\n"
     ]
    },
    {
     "name": "stdout",
     "output_type": "stream",
     "text": [
      "Saved markdown to the /tmp/tmp_sfwqxcp/4355_8432 folder\n"
     ]
    },
    {
     "data": {
      "text/plain": [
       "[Document(page_content='![0_image_0.png](0_image_0.png)  \\n![0_image_1.png](0_image_1.png)  \\nSCE107727024 Válido até 15/07/2025 Edifício de Habitação IDENTIFICAÇÃO POSTAL\\nMorada ESTRADA DAS PEDRAS LAVRADAS, 28, Localidade SOBRAL DE SÃO MIGUEL Freguesia SOBRAL DE S. MIGUEL\\nConcelho COVILHÃ\\nGPS 40.212883, -7.741674 IDENTIFICAÇÃO PREDIAL/FISCAL\\nConservatória do Registo Predial de COVILHÃ\\nNº de Inscrição na Conservatória 1714 Artigo Matricial nº 637 INFORMAÇÃO ADICIONAL\\nÁrea útil de Pavimento 100,44 m²\\nFração Autónoma Este certificado apresenta a classificação energética deste edificio ou fração. Esta classificação é calculada comparando o desempenho energético deste edifício nas condições atuais, com o desempenho que este obteria nas condições mínimas (com base em valores de referência) a que estão obrigados os edifícios novos. Obtenha mais informação sobre a certificação energética no site da ADENE em www.adene.pt INDICADORES DE DESEMPENHO\\nDeterminam a classe energética do edifício e a eficiência na utilização de energia, incluindo o contributo de fontes renováveis. São apresentados comparativamente a um valor de referência e calculados em condições padrão.'),\n",
       " Document(metadata={'Header 2': 'Aquecimento Ambiente'}, page_content='## Aquecimento Ambiente  \\n| Referência:   | 94 kWh/m².ano   |\\n|---------------|-----------------|\\n| Edifício:     | 320 kWh/m².ano  |\\n| Renovável     | = %             |  \\neficiente que a referência  \\n|             | Ambiente       |\\n|-------------|----------------|\\n| Referência: | 4,3 kWh/m².ano |\\n| Edifício:   | 5,8 kWh/m².ano |\\n| Renovável   | - %            |'),\n",
       " Document(metadata={'Header 2': 'Arrefecimento'}, page_content='## Arrefecimento  \\neficiente que a referência  \\n| Referência:   | 25 kWh/m².ano   |\\n|---------------|-----------------|\\n| Edifício:     | 31 kWh/m².ano   |\\n| Renovável     | = %             |'),\n",
       " Document(metadata={'Header 2': 'Água Quente Sanitária'}, page_content='## Água Quente Sanitária  \\neficiente que a referência  \\n![0_image_3.png](0_image_3.png)  \\nMais de 251%\\nMenos eficiente ENERGIA RENOVÁVEL\\nContributo de energia renovável no consumo de energia deste edifício.  \\n![0_image_4.png](0_image_4.png)  \\nEmissões de CO₂ estimadas devido ao consumo de energia.  \\n![0_image_5.png](0_image_5.png)  \\nEntidade Gestora Entidade Fiscalizadora  \\n![0_image_6.png](0_image_6.png)  \\nDirecção Geral de Energia e Geologia\\nCLASSE ENERGÉTICA\\nMais eficiente  \\n![0_image_2.png](0_image_2.png)  \\n26% a 50%\\n1% a 759 6% a 100º Minimo; Edificios Novos Minimo; Grandes Intervenções 101% a 150%\\n151% a 200%\\n201% a 250%\\nEMISSÕES DE CO2 ADENE  \\n![1_image_0.png](1_image_0.png)  \\nEdifício de Habitação SCE107727024  \\n![1_image_1.png](1_image_1.png)'),\n",
       " Document(metadata={'Header 2': 'Descrição Sucinta Do Edifício Ou Fração'}, page_content='## Descrição Sucinta Do Edifício Ou Fração  \\nTrata-se de um edifício de habitação unifamiliar existente (com licença de construção emitida em 1978), que se localiza na periferia de uma zona urbana, na Estrada das Pedras Lavradas n.º 28, freguesia de Sobral de S. Miguel, concelho de Covilhã. O edificio é composto por rés do chão destinado a estacionamento e arrumos; piso 1, destinado a habitação; sótão destinado a arrumos. O piso de habitação é composto por: uma sala, uma cozinha, três quartos, duas instalações sanitárias, um arrumo e hall circulação. A fracção está sobre piso destinado a estacionamento e arrumos, o tecto da habitação está sob espaço não útil (sótão destinado a arrumos), tem parede interior com escadaria de acesso ao rés do chão e parede interior da escadaria com sótão. As paredes exteriores da fração encontram-se orientadas a N, S, W e E. A inércia térmica da fração é média. Para climatização não tem equipamentos e para AQS dispõe de um termoacumulador eléctrico.'),\n",
       " Document(metadata={'Header 2': 'Comportamento Térmico Dos Elementos Construtivos Da Habitação'}, page_content='## Comportamento Térmico Dos Elementos Construtivos Da Habitação  \\nDescreve e classifica o comportamento térmico dos elementos construtivos mais representativos desta habitação. Uma classilicação de 5 estrelas, expressa a referência adequada para esses elementos, tendo em conta, entre outros factores, as condições climáticas onde o edifício se localiza.  \\n| Tipo                                                                                                  | Descrição das Principais Soluções                     | �            | Classificação   |\\n|-------------------------------------------------------------------------------------------------------|-------------------------------------------------------|--------------|-----------------|\\n| Parede simples ou duplas rebocadas (posterior a 1960)                                                 |                                                       | ★★☆☆☆        |                 |\\n| PAREDES                                                                                               | Parede simples ou duplas rebocadas (posterior a 1960) | షిషిషిష         |                 |\\n| COBERTURAS                                                                                            |                                                       | పిషిషిష         |                 |\\n| Cobertura horizontal sem isolamento térmico                                                           |                                                       |              |                 |\\n| PAVIMENTOS                                                                                            | Pavimento sem isolamento térmico                      | ⭐⭐⭐⭐⭐⭐ |                 |\\n| Janela Simples com Caixilharia metálica sem corte térmico com vidro simples e com proteção solar pelo |                                                       | ななななな   |                 |\\n| JANELAS                                                                                               | exterior                                              |              |                 |  \\nSoluções sem isolamento, referem-se a soluções onde não existe isolamento térmico ou que não foi possível comprovar a sua existência.  \\nA classificação de janelas, inclui o contributo de eventuais dispositivos de oclusão noturna.  \\nPior និងការរួម Melhor 實實實實實'),\n",
       " Document(metadata={'Header 2': 'Perdas E Ganhos De Calor Da Habitação'}, page_content='## Perdas E Ganhos De Calor Da Habitação  \\nOs elementos construtivos contribuem para o consumo de energia associado à climatização e para o conforto na habitação. A informação apresentada, indica o contributo desses elementos, bem como, os locais onde ocorrem perdas e ganhos de calor.  \\n41%\\nCobertura  \\n![1_image_2.png](1_image_2.png)  \\n![1_image_3.png](1_image_3.png)  \\n![1_image_5.png](1_image_5.png)  \\n![1_image_4.png](1_image_4.png)  \\nque a referência Entidade Gestora Entidade Fiscalizadora  \\n![1_image_6.png](1_image_6.png)  \\nADENE  \\nia e Geologia  \\n![2_image_0.png](2_image_0.png)  \\nEdifício de Habitação SCE107727024  \\n![2_image_1.png](2_image_1.png)'),\n",
       " Document(metadata={'Header 2': 'Propostas De Medidas De Melhoria'}, page_content='## Propostas De Medidas De Melhoria  \\nAs medidas propostas foram identificadas pelo Perito Qualificado e têm como objectivo a melhoria do desempenho energético do edifício. A\\nimplementação destas medidas, para além de reduzir a fatura energética anual, poderá contribuir para uma melhoria na classificação energélica.  \\nNº da Medida Aplicação  \\n|                                                   | Redução Anual     | Classe        |\\n|---------------------------------------------------|-------------------|---------------|\\n| Custo Estimado                                    |                   |               |\\n| - Descrição da Medida de Melhoria Proposta        | Estimada da       | Energética    |\\n| do Investimento                                   | Fatura Energética | (após medida) |\\n| Isolamento térmico em paredes exteriores -        |                   |               |\\n| aplicação pelo exterior com revestimento aplicado | E                 | a             |\\n|                                                   | 4.700€            | até 895€      |\\n| sobre o isolante                                  | E                 | 9             |\\n| Aplicação de teto falso com isolamento térmico    | 4.000€            | até 1.165€    |\\n| Instalação de sistema solar térmico individual -  | 2.000€            | até 360€      |\\n| sistema de circulação forçada                     |                   |               |\\n| Substituição de vãos envidraçados existentes por  |                   |               |\\n| novos vãos envidraçados com melhor desempenho     | F                 |               |\\n|                                                   | 5.100€            | até 580€      |\\n| energético                                        |                   |               |\\n| Isolamento térmico de pavimentos interiores -     | E                 |               |\\n| aplicação sob a laje de pavimento                 | 2.500€            | até 1.020€    |  \\nSaiba mais sobre as medidas de melhoria nas restantes páginas do certificado.  \\nIncentivos financeiros - Saiba mais em www.adene.pt/sce/incentivos CONJUNTO DE MEDIDAS DE MELHORIA\\nRepresenta o impacto a nível financeiro e do desempenho energético na habitação, que este conjunto de medidas de melhoria terá, se for implementado.  \\n3.945€  \\n![2_image_2.png](2_image_2.png)  \\n18.300€\\nCUSTO TOTAL ESTIMADO  \\n| REDUCÃO ANUAI    |\\n|------------------|\\n| STIMADA DA FATUR |  \\nDO INVESTIMENTO\\nCLASSE ENERGETICA  \\n![2_image_3.png](2_image_3.png)  \\nAPOS MEDIDA'),\n",
       " Document(metadata={'Header 2': 'Recomendações Sobre Sistemas Técnicos'}, page_content='## Recomendações Sobre Sistemas Técnicos  \\nOs sistemas técnicos dos edifícios de habitação, com especial relevância para os equipamentos responsáveis pela produção de águas quentes sanitárias, aquecimento e arrefecimento são determinantes no consumo de energia. Face a essa importância é essencial que sejam promovidas, com regularidade, ações que assegurem o correto funcionamento desses equipamentos, especialmente em sistemas com caldeiras que produzam água quente sanitária e/ou aquecimento, bem como sistemas de ar condicionado. Neste sentido, é recomendável que sejam realizadas ações de manutenção e inspeção regulares a esses sistemas, por técnicos qualficados. Estas ações contribuem para manter os sistemas regulados de acordo com as suas especificações, garantir a segurança e o funcionamento otimizado do ponto de vista energético e ambiental. Nas situações de aquisição de novos equipamentos ou de substituição dos atuais, deverá obter, através de um técnico qualificado, informação sobre o dimensionamento e características adequadas em função das necessidades. A escolha correta de um equipamento permitirá otimizar os custos energéticos e de manutenção durante a vida útil do mesmo.  \\nEstas recomendações foram produzidas pela ADENE - Agência para a energia. Caso necessite de obter mais informações sobre como melhorar o desempenho dos seus equipamentos, contacte esta agência ou um técnico qualificado.  \\nEntidade Gestora Entidade Fiscalizadora  \\n![2_image_4.png](2_image_4.png)  \\nADENE  \\n![2_image_5.png](2_image_5.png)  \\não Energética Edifício de Habitação SCE107727024  \\n![3_image_1.png](3_image_1.png)'),\n",
       " Document(metadata={'Header 2': 'Definições'}, page_content='## Definições  \\n![3_Image_0.Png](3_Image_0.Png)  \\nEnergia Renovável - Energia proveniente de recursos naturais renováveis como o sol, vento, água, biomassa, geotermia entre outras, cuja ullização para suprimento dos diversos usos no edifício contribui para a redução do consumo de energia fóssil deste. Emissões CO₂ - Indicador que traduz a quantidade de gases de efeito de estufa libertados para a atmosfera em resultado do consumo de energia nos diversos usos considerados no edifício. Valores de Referência - Valores que expressam o desempenho energélico dos elementos construtivos ou sistemas técnicos e que conduzem ao cenário de referência determinado para efeito de comparação com o edifício real.  \\nCondições Padrão - Condições consideradas na avaliação do desempenho energético do edifício, admilindo-se para este efeito, uma temperatura interior de 18ºC na estacão de aquecimento e 25ºC na estação de arrefecimento, bem como o aquecimento de uma determinada quantidade de água quente sanitária, em função da tipologia da habitação.'),\n",
       " Document(metadata={'Header 2': 'Informação Adicional'}, page_content='## Informação Adicional  \\nTipo de Certificado Existente Nome do PQ CARLOS ALBERTO BORGES TEOFILO LOUREIRO\\nNúmero do PQ PQ00820 Data de Emissão 15/07/2015  \\n![3_image_2.png](3_image_2.png)'),\n",
       " Document(metadata={'Header 2': 'Notas E Observações'}, page_content='## Notas E Observações  \\nA classe energética foi determinada com base na comparação do desempenho energélico do edifício nas condições em que este se encontra, face ao desempenho que o mesmo teria com uma envolvente e sistemas técnicos de referência. Considera-se que os edifícios devem garantir as condições de conforto dos ocupantes, pelo que, caso não existam sistemas de climatização, assume-se a sua existência por forma a permitir comparações objetivas entre edifícios.  \\nOs consumos efetivos do edificio/fração podem divergir dos consumos previstos neste certificado, pois dependem da ocupação e padrões de comportamento dos utilizadores.  \\nEntidade Gestora  \\n![3_image_4.png](3_image_4.png)  \\nEntidade Fiscalizadora  \\n![3_image_3.png](3_image_3.png)  \\n![4_image_0.png](4_image_0.png)'),\n",
       " Document(metadata={'Header 1': 'Edifício De Habitação'}, page_content='# Edifício De Habitação  \\nSCE107727024  \\n![4_image_1.png](4_image_1.png)  \\nEsta secção do certificado energético apresenta, em detalhe, os elementos considerados pelo Perito Qualificado no processo de certificação do edificio/fração. Esta informação encontra-se desagregada entre os principais indicadores energéticos e dados climáticos relativos ao local do edificio, bem como as soluções construtivas e sistemas técnicos identificados em projeto e/ou durante a visita ao imóvel. As soluções construivas e sistemas técnicos encontram-se caracterizados tendo por base a melhor informação recolhida pelo Perito Qualificado e apresentam uma indicação dos valores referenciais ou limites admissíveis (quando aplicáveis)  \\n| PAREDES, COBERTURAS, PAVIMENTOS E PONTES TÉRMICAS PLANAS                  | Coeficiente de Transmissão Térmica*   |         |            |      |        |\\n|---------------------------------------------------------------------------|---------------------------------------|---------|------------|------|--------|\\n|                                                                           | [W/m².ºC]                             |         |            |      |        |\\n|                                                                           | Área Total                            |         |            |      |        |\\n|                                                                           | e Orientação                          |         |            |      |        |\\n| Descrição dos Elementos Identificados                                     | @                                     |         |            |      |        |\\n|                                                                           | [m²]                                  | Solução | Referência | �    | Máximo |\\n| Paredes                                                                   |                                       |         |            |      |        |\\n| PRE - Parede exterior com orientação a N, S, W e E, com 25 cm de          | 29                                    |         |            |      |        |\\n| espessura de alvenaria simples ou dupla rebocada (desconhecendo-se a      | N                                     |         |            |      |        |\\n| espessura da alvenaria e materiais que a compõe), com coeficiente de      | 22                                    | 22      | 1,30       | 0,35 |        |\\n| transmissão térmica (U) de acordo com o quadro II.3 da Nota Técnica, NT-  |                                       |         |            |      |        |\\n| SCE-01. U=1.3 W/m2.ºC.                                                    | ★★☆☆☆                                 |         |            |      |        |\\n|                                                                           | 20                                    |         |            |      |        |\\n| PRI1 - Parede interior com espaço não útil (caixa de escadas de acesso ao |                                       |         |            |      |        |\\n| estacionamento e arrumos do piso r/chão), com 13 cm de espessura de       |                                       |         |            |      |        |\\n| alvenaria simples (desconhecendo-se a espessura da alvenaria e materiais  | 6,5                                   | 1,82    | 0,35       |      |        |\\n| que a compõe), com coeficiente de transmissão térmica (U) de acordo com   |                                       |         |            |      |        |\\n| o quadro II.3 da Nota Técnica, NT-SCE-01 com correcção das resistências   | ជំងឺជំងឺ                                  |         |            |      |        |\\n| térmicas superficiais. U=1.82W/m2.ºC.                                     |                                       |         |            |      |        |\\n| PRI2 - Parede interior da escadaria de acesso ao sótão com espaço não     |                                       |         |            |      |        |\\n| útil (sótão destinado a arrumos), com 11 cm de espessura de alvenaria     |                                       |         |            |      |        |\\n| simples (desconhecendo-se a espessura da alvenaria e materiais que a      | 15,5                                  | 1,93    | 0,35       |      |        |\\n| compõe), com coeficiente de transmissão térmica (U) de acordo com o       |                                       |         |            |      |        |\\n| quadro II.3 da Nota Técnica, NT-SCE-01 com correcção das resistências     | ំងឺ ជំ ជំ ជំ ជំ                             |         |            |      |        |\\n| térmicas superficiais. U=1.93W/m2.ºC.                                     |                                       |         |            |      |        |\\n| Coberturas                                                                |                                       |         |            |      |        |\\n| COBext-Cobertura exterior pesada inclinada da caixa de escadas de         |                                       |         |            |      |        |\\n| acesso ao sótão, desconhecendo-se as espessuras dos materiais que a       |                                       |         |            |      |        |\\n| constituem, com coeficiente de transmissão térmica de acordo com o        | 3,2                                   | 3,40    | 0,30       |      |        |\\n| quadro III da Nota Técnica, NT-SCE-01. Coeficiente de transmissão         |                                       |         |            |      |        |\\n| térmica superficial (fluxo ascendente) de 3.4 W/m2.ºC e (fluxo            | ਕਿ ਕੇ ਕੇ ਕੇ ਕੇ                             |         |            |      |        |\\n| descendente) de 2.75 W/m2.ºC.                                             |                                       |         |            |      |        |\\n| COBint-Cobertura interior do piso da habitação sob espaço não útil        |                                       |         |            |      |        |\\n| destinado a arrumos do sótão, cobertura pesada horizontal,                |                                       |         |            |      |        |\\n| desconhecendo-se as espessuras dos materiais que a constituem, com        |                                       |         |            |      |        |\\n| coeficiente de transmissão térmica de acordo com o quadro III da Nota     | 97,9                                  | 2,25    | 0,30       |      |        |\\n| Técnica, NT-SCE-01, com correcção das resistência térmicas superficiais.  | ង់ ដំ ដំ ដំ ដំ                             |         |            |      |        |\\n| Coeficiente de transmissão térmica superficial (fluxo ascendente) de 2.25 |                                       |         |            |      |        |\\n| W/m2.ºC e (fluxo descendente) de 1.71 W/m2.ºC.                            |                                       |         |            |      |        |\\n| Pavimentos                                                                |                                       |         |            |      |        |\\n| Entidade Gestora                                                          | Entidade Fiscalizadora                | 5 de 9  |            |      |        |  \\n| RESUMO DOS PRINCIPAIS INDICADORES                                                                                     |                                                                               |                      | DADOS CLIMÁTICOS                    |               |\\n|-----------------------------------------------------------------------------------------------------------------------|-------------------------------------------------------------------------------|----------------------|-------------------------------------|---------------|\\n| Sigla                                                                                                                 | - Descrição                                                                   | ° Valor / Referência | Descrição                           | Valor         |\\n|                                                                                                                       | Necessidades nominais anuais de energia útil para aquecimento (kWh/m².ano)    |                      | Altitude                            | 624 m         |\\n| Nic                                                                                                                   |                                                                               | 319,8 / 94,2         |                                     |               |\\n| Nvc                                                                                                                   | Necessidades nominais anuais de energia útil para arrefecimento (kWh/m².ano)  | 16,1 / 12,1          | Graus-dia (18° C)                   | 1851          |\\n| Qa                                                                                                                    | Energia útil para preparação de água quente sanitária (kWh/ano)               | 2.377,3 | 2.377,3    | Temperatura média exterior ( I / V) | 6,9 / 21,8 °C |\\n| Wvm                                                                                                                   | Energia elétrica necessária ao funcionamento dos ventiladores (kWh/ano)       | 0,0                  | Zona Climática de inverno           | 13            |\\n| Eren                                                                                                                  | Energia produzida a partir de fontes renováveis para usos regulados (kWh/ano) | 0,0 / -*             | Zona Climática de verão             | V2            |\\n| Eren, ext                                                                                                             | Energia produzida a partir de fontes renováveis para outros usos (kWh/ano)    | 0,0                  | Duração da estação de aquecimento   | 7,1 meses     |\\n| Ntc                                                                                                                   | Necessidades nominais anuais globais de energia primária (kWheç/m².ano)       | 890,8 / 308,8        | Duração da estação de arrefecimento | 4,0 meses     |\\n| * respeitante à contribuição minima a que estão sujeitos os edificios novos ou grandes intervenções, quando aplicável |                                                                               |                      |                                     |               |  \\nADENE  \\n![4_image_2.png](4_image_2.png)  \\n![5_image_0.png](5_image_0.png)  \\nEdifício de Habitação SCE107727024 PAVint-Pavimento do piso de habitação sobre espaço destinado a estacionamento e arrumos, em laje pesada desconhecendo-se as espessuras dos materiais que a constituem, com coeficiente de transmissão térmica de acordo com o quadro III da Nota Técnica, NT-SCE-\\n01, com correcção das resistências térmicas superficiais. Coeficiente de transmissão térmica superficial (fluxo descendente) de 2.21 W/m2.ºC.  \\n100,4 2,21 0,30  \\n![5_image_1.png](5_image_1.png)  \\nជំងឺជំងឺ\\n* Menores valores representam soluções mais eficientes.  \\nMedida de Melhoria Isolamento térmico em paredes exteriores - aplicação pelo exterior com revestimento aplicado sobre o isolante Aplicação de isolamento térmico tipo capoto com placas de 8 cm de espessura com revestimento exterior a reboco nas paredes exteriores.  \\nConstituído por placas de poliestireno expandido, massa adesiva, rede em fibra de vidro e um revestimento final para acabamento. O valor das necessidades nominais anuais globais de energia primária (Ntc) reduz significativamente, o custo desta solução ronda os 4700 €.  \\n| Novos Indicadores de   |       |                          |     |\\n|------------------------|-------|--------------------------|-----|\\n| Uso                    |       | Outros Beneficios        |     |\\n| Desempenho             |       |                          |     |\\n| 184%                   |       |                          |     |\\n| 8                      | MENOS | ACU                      |     |\\n| eficiente              |       |                          |     |\\n| 32%                    |       |                          |     |\\n| 8                      | MENOS | QAI                      | SEG |\\n| eficiente              |       |                          |     |\\n| 23%                    |       |                          |     |\\n| 3                      | MENOS | FIM                      | REN |\\n| eficiente              |       | Beneficios identificados |     |  \\nMedida de Melhoria  \\n| Novos Indicadores de   |                   |     |     |     |\\n|------------------------|-------------------|-----|-----|-----|\\n| Uso                    | Outros Beneficios |     |     |     |\\n| Desempenho             |                   |     |     |     |\\n| 173%                   |                   |     |     |     |\\n| MENOS                  |                   |     |     |     |\\n| 8                      | ACU               |     |     |     |\\n| eficiente              |                   |     |     |     |\\n| 100%                   |                   |     |     |     |\\n| 8                      | MAIS              | PAT | QAI | SEG |\\n| eficiente              |                   |     |     |     |\\n| 23%                    |                   |     |     |     |\\n| 3                      | MENOS             | REN | vis |     |\\n| eficiente              |                   |     |     |     |  \\nAplicação de teto falso com isolamento térmico Aplicação de tecto falso no tecto da fracção sob sótão destinado a arrumos, constituído por placas de gesso cartonado e isolamento térmico do tipo XPS\\ncom 6 cm de espessura. O valor das necessidades nominais anuais globais de energia primária (Ntc) reduz significativamente, o custo desta solução ronda os 4000 €\\nBeneficios identificados Entidade Gestora Entidade Fiscalizadora  \\n![5_image_3.png](5_image_3.png)  \\n![5_image_2.png](5_image_2.png)  \\n![6_image_0.png](6_image_0.png)'),\n",
       " Document(metadata={'Header 1': 'Edifício De Habitação Sce107727024'}, page_content='# Edifício De Habitação Sce107727024  \\n![6_Image_1.Png](6_Image_1.Png)  \\n| N      |  1.7   | 4,80   | 2,40   | 0,88   | 0,09   |\\n|--------|--------|--------|--------|--------|--------|\\n| ಬೆಗೆಗೆಗೆಗೆ  |        |        |        |        |        |\\n| N      | 2.1    | 6,20   | 2,40   | 0,88   | 0,88   |\\n| dahink |        |        |        |        |        |  \\n| Medida de Melhoria                                                         | 6                    | Isolamento térmico de pavimentos interiores - aplicação sob a laje de pavimento   |                   |     |     |\\n|----------------------------------------------------------------------------|----------------------|-----------------------------------------------------------------------------------|-------------------|-----|-----|\\n|                                                                            | Novos Indicadores de |                                                                                   |                   |     |     |\\n|                                                                            | Uso                  | 0                                                                                 | Outros Beneficios |     |     |\\n|                                                                            | Desempenho           |                                                                                   |                   |     |     |\\n| Colocação de isolamento térmico constituído por placas de XPS de 6 cm de   | 174%                 |                                                                                   |                   |     |     |\\n| espessura no tecto do piso r/chão, sobre estacionamento e arrumos. O valor | 8                    | MENOS                                                                             | TER               | ACU |     |\\n| das necessidades nominais anuais globais de energia primária (Ntc) reduz   | eficiente            |                                                                                   |                   |     |     |\\n| significativamente, o custo desta solução ronda os 2500 €.                 | 68%                  |                                                                                   |                   |     |     |\\n|                                                                            | 8                    | MENOS                                                                             | PAT               | QAI | SEG |\\n|                                                                            | eficiente            |                                                                                   |                   |     |     |\\n|                                                                            | 23%                  |                                                                                   |                   |     |     |\\n|                                                                            | 6                    | MENOS                                                                             | FIM               | REN | vis |\\n|                                                                            | eficiente            | Beneficios identificados                                                          |                   |     |     |  \\n| Coef. de Transmissão                  |                   |             |       |        |\\n|---------------------------------------|-------------------|-------------|-------|--------|\\n| Área Total                            | Térmica*[W/m².ºC] | Fator Solar |       |        |\\n| Descrição dos Elementos Identificados | e Orientação      |             |       |        |\\n| [m²]                                  | �                 |             |       |        |\\n| Solução                               | �                 | Referência  | Vidro | Global |'),\n",
       " Document(metadata={'Header 1': 'Edifício De Habitação Sce107727024', 'Header 2': 'Vãos Envidraçados'}, page_content='## Vãos Envidraçados  \\nTipo 1 - Vãos envidraçados simples em caixilharia de alumínio de correr com vidro simples, com orientações a N (V1), a E (V4), S (V5 a V8) e a W\\n(V9 e V10). Localização dos Vãos, (V1-quarto2, V4 e V5-instalação sanitária1, V6 e V7-sala, V8 e V9-quarto3 e V10-quarto1). Os vãos não têm classificação de permeabilidade ao ar, com factor solar de 0,09 com o sistema 100% activo (estore de plástico branco e portada exterior de alumino castanho), Uw de 4.1 W/(m2.ºC). O coeficiente de transmissão térmica superficial foi retirado do quadro III.2 A do anexo III da publicação do LNEC (ITE 50) para vidro simples com dispositivo de oclusão noturna de permeabilidade ao ar baixa (estore de plástico). Portada de aluminio de cor castanha com permeabilidade ao ar e estore de plástico de cor branco.  \\nTipo 2 - Vão envidraçado simples em caixilharia de alumínio de correr com vidro simples, com orientação a Este. Localização do Vão, (V2-cozinha). O\\nvão não tem classificação de permeabilidade ao ar, com factor solar de 0,09 com o sistema 100% activo (portada exterior de alumino) e Uw de 4.8 W/(m2.ºC). O coeficiente de transmissão térmica superficial foi retirado do quadro III.2 A do anexo III da publicação do LNEC (ITE 50) para vidro simples com dispositivo de oclusão nocturna de permeabilidade ao ar elevada.  \\nPortada de aluminio de cor castanha com permeabilidade ao ar .  \\n* Menores valores representam soluções mais eficientes.  \\nEntidade Gestora Entidade Fiscalizadora  \\n![6_image_3.png](6_image_3.png)  \\n![6_image_2.png](6_image_2.png)  \\nTipo 3 - Vão envidraçado simples em caixilharia de alumínio de abrir com vidro simples, com orientação a Este. Localização do Vão, (V3-entrada  \\n| 0,09   |\\n|--------|  \\n| 1.7   |         |      |      |      |\\n|-------|---------|------|------|------|\\n| N     |         |      |      |      |\\n| 3.3   | 1.6     | 4,10 | 2,40 | 0,88 |\\n|       | tininki |      |      |      |\\n| 9.9   |         |      |      |      |  \\nhabitação). O vão não tem classificação de permeabilidade ao ar, com factor solar de 0,88 com o sistema 100% activo (sem protecções solares) e Uw de 6.2 W/(m2.ºC). O coeficiente de transmissão térmica superficial foi retirado do quadro III.2 A do anexo III da publicação do LNEC (ITE 50)\\npara vidro simples de abrir sem dispositivo de oclusão nocturna.  \\n![7_image_0.png](7_image_0.png)'),\n",
       " Document(metadata={'Header 1': 'Edifício De Habitação Sce107727024'}, page_content='# Edifício De Habitação Sce107727024  \\n![7_Image_1.Png](7_Image_1.Png)  \\nMedida de Melhoria 4 Substituição de vãos envidraçados existentes por novos vãos envidraçados com melhor desempenho energético  \\n|                                                                            | Novos Indicadores de   |                          |                   |     |     |\\n|----------------------------------------------------------------------------|------------------------|--------------------------|-------------------|-----|-----|\\n|                                                                            | Uso                    | 0                        | Outros Beneficios |     |     |\\n|                                                                            | Desempenho             |                          |                   |     |     |\\n| Substituição de caixilharia existente por uma nova caixilharia em PVC de   | 203%                   |                          |                   |     |     |\\n| vidro duplo (6+16+5mm). Nos vãos da sala, quartos, cozinha, instalação     | 8                      | MENOS                    | ACU               |     |     |\\n| sanitária e entrada da habitação com coeficiente de transmissão térmica de | eficiente              |                          |                   |     |     |\\n| 2.1 W/(m2.ºC), melhorando assim significativamente o conforto térmico da   |                        |                          |                   |     |     |\\n| fracção. O investimento ronda os 5100 €, sendo a redução do custo anual da |                        |                          |                   |     |     |\\n| factura energética de cerca de 580 €                                       | 32%                    |                          |                   |     |     |\\n|                                                                            | 8                      | MENOS                    | PAT               | QAI | SEG |\\n|                                                                            | eficiente              |                          |                   |     |     |\\n|                                                                            | 23%                    |                          |                   |     |     |\\n|                                                                            | 6                      | MENOS                    | REN               |     |     |\\n|                                                                            | eficiente              | Beneficios identificados |                   |     |     |'),\n",
       " Document(metadata={'Header 1': 'Edifício De Habitação Sce107727024', 'Header 2': 'Sistemas Técnicos E Ventilação'}, page_content='## Sistemas Técnicos E Ventilação  \\nDescrição dos Elementos Identificados Termoacumulador Termoacumulador eléctrico de 1000 W de potência de 75 litros de capacidade, da marca \"EDESA\", com rendimento final de 77.0 %,\\n(reduzido em 10 %, pelo facto que a fracção não dispõe de rede de AQS\\ncom pelo menos 10mm de isolamento e também reduzido por ter idade compreendida entre 1 e 10 anos).  \\n| Consumo   | Potência   | Perdas estáticas   |            |        |\\n|-----------|------------|--------------------|------------|--------|\\n| Uso       | de Energia | Nominal            | Solução  - | Máximo |\\n| [kWh/ano] | [KW]       |                    |            |        |  \\n●\\n5 3.089,39 1,00\\n*Valores menores representam soluções mais eficientes.  \\n| Taxa nominal de renovação de ar (h·1)   |         |    |        |\\n|-----------------------------------------|---------|----|--------|\\n| Uso                                     | Solução | 0  | Mínimo |  \\nDescrição dos Elementos Identificados Ventilação O sistema de ventilação da fracção é natural - não tem aberturas de admissão de ar na fachada - condutas de ventilação natural - os vãos da fracção face à sua distribuição permitem o arrefecimento nocturno.  \\n1,26 0,40 Medida de Melhoria Instalação de sistema solar térmico individual - sistema de circulação forçada 3 Instalação de sistema solar térmico com dois módulos de colector solar plano certificados com cerca de 3.8 m2 com permutador interno a depósito  \\n| Uso        | Novos Indicadores de   | Outros Beneficios   |     |     |\\n|------------|------------------------|---------------------|-----|-----|\\n| Desempenho |                        |                     |     |     |\\n| 239%       |                        |                     |     |     |\\n| 8          | MENOS                  | ENR                 | TER | ACU |\\n| eficiente  |                        |                     |     |     |\\n| 32%        |                        |                     |     |     |\\n| 8          | MENOS                  | PAT                 | QAI | SEG |\\n| eficiente  |                        |                     |     |     |\\n| 59%        |                        |                     |     |     |\\n| 6          | MAIS                   | FIM                 | VIS |     |\\n| eficiente  |                        |                     |     |     |  \\nseparado de 300 litros de capacidade. Colectores com azimute 22º e inclinação de 30º. Contribuição do sistema de colectores solares (Esolar) de cerca de 1608 KWh/ano, com um custo a rondar os 2000 €\\nBeneficios identificados Entidade Gestora  \\nADENE  \\n![7_image_3.png](7_image_3.png)  \\nEntidade Fiscalizadora  \\n![7_image_2.png](7_image_2.png)  \\n![8_image_0.png](8_image_0.png)  \\ne Ar Interior EDIFÍCIOS\\nEdifício de Habitação SCE107727024 Legenda:\\nUso 8 Arrefecimento Ca Aquecimento Água Quente  O\\nOutros Usos Ventilação e\\n(Eren, Ext)\\nExtração Ambiente Outros Benefícios Outros benefícios que poderão ocorrer após a implementação da medida de melhoria ENR\\nRedução de necessidades de energia TER\\nMelhoria das condições de conforto térmico Prevenção ou redução de patologias Melhoria da qualidade do ar interior Facilidade de implementação REN\\nACU\\nMelhoria das condições de conforto acústico  \\n![8_image_1.png](8_image_1.png)  \\nMelhoria das condições de segurança Promoção de energia proveniente de fontes renováveis SIN\\nMelhoria da qualidade visual e prestígio Entidade Gestora Entidade Fiscalizadora  \\n![8_image_2.png](8_image_2.png)  \\nde Energia e Geologia\\nADENE\\nagência para a energia')]"
      ]
     },
     "execution_count": 14,
     "metadata": {},
     "output_type": "execute_result"
    }
   ],
   "source": [
    "import os\n",
    "import tempfile\n",
    "\n",
    "from langchain_text_splitters import MarkdownHeaderTextSplitter\n",
    "from pathlib import Path\n",
    "\n",
    "filename = \"../data/certificado_energetico/4355_8432.pdf\"\n",
    "\n",
    "with tempfile.TemporaryDirectory() as tmp_dirname:\n",
    "    # Parse the PDF and convert it to Markdown\n",
    "    os.system(f\"\"\"marker_single \"{filename}\" \"{tmp_dirname}\" --batch_multiplier 1 --ocr_all_pages\"\"\")\n",
    "\n",
    "    # Split the resulting Markdown into chunks\n",
    "    resulting_folder_name = Path(filename).stem\n",
    "    with open(f\"{tmp_dirname}/{resulting_folder_name}/{resulting_folder_name}.md\", \"r\") as f:\n",
    "        doc = f.read()\n",
    "\n",
    "        markdown_splitter = MarkdownHeaderTextSplitter(headers_to_split_on=[\n",
    "            (\"#\", \"Header 1\"),\n",
    "            (\"##\", \"Header 2\"),\n",
    "            (\"###\", \"Header 3\"),\n",
    "        ], strip_headers=False)\n",
    "        chunks = markdown_splitter.split_text(doc)\n",
    "\n",
    "chunks"
   ]
  },
  {
   "cell_type": "code",
   "execution_count": 17,
   "metadata": {},
   "outputs": [
    {
     "name": "stdout",
     "output_type": "stream",
     "text": [
      "![0_image_0.png](0_image_0.png)  \n",
      "![0_image_1.png](0_image_1.png)  \n",
      "SCE107727024 Válido até 15/07/2025 Edifício de Habitação IDENTIFICAÇÃO POSTAL\n",
      "Morada ESTRADA DAS PEDRAS LAVRADAS, 28, Localidade SOBRAL DE SÃO MIGUEL Freguesia SOBRAL DE S. MIGUEL\n",
      "Concelho COVILHÃ\n",
      "GPS 40.212883, -7.741674 IDENTIFICAÇÃO PREDIAL/FISCAL\n",
      "Conservatória do Registo Predial de COVILHÃ\n",
      "Nº de Inscrição na Conservatória 1714 Artigo Matricial nº 637 INFORMAÇÃO ADICIONAL\n",
      "Área útil de Pavimento 100,44 m²\n",
      "Fração Autónoma Este certificado apresenta a classificação energética deste edificio ou fração. Esta classificação é calculada comparando o desempenho energético deste edifício nas condições atuais, com o desempenho que este obteria nas condições mínimas (com base em valores de referência) a que estão obrigados os edifícios novos. Obtenha mais informação sobre a certificação energética no site da ADENE em www.adene.pt INDICADORES DE DESEMPENHO\n",
      "Determinam a classe energética do edifício e a eficiência na utilização de energia, incluindo o contributo de fontes renováveis. São apresentados comparativamente a um valor de referência e calculados em condições padrão.\n",
      "--------------------------------------------------\n",
      "## Água Quente Sanitária  \n",
      "eficiente que a referência  \n",
      "![0_image_3.png](0_image_3.png)  \n",
      "Mais de 251%\n",
      "Menos eficiente ENERGIA RENOVÁVEL\n",
      "Contributo de energia renovável no consumo de energia deste edifício.  \n",
      "![0_image_4.png](0_image_4.png)  \n",
      "Emissões de CO₂ estimadas devido ao consumo de energia.  \n",
      "![0_image_5.png](0_image_5.png)  \n",
      "Entidade Gestora Entidade Fiscalizadora  \n",
      "![0_image_6.png](0_image_6.png)  \n",
      "Direcção Geral de Energia e Geologia\n",
      "CLASSE ENERGÉTICA\n",
      "Mais eficiente  \n",
      "![0_image_2.png](0_image_2.png)  \n",
      "26% a 50%\n",
      "1% a 759 6% a 100º Minimo; Edificios Novos Minimo; Grandes Intervenções 101% a 150%\n",
      "151% a 200%\n",
      "201% a 250%\n",
      "EMISSÕES DE CO2 ADENE  \n",
      "![1_image_0.png](1_image_0.png)  \n",
      "Edifício de Habitação SCE107727024  \n",
      "![1_image_1.png](1_image_1.png)\n",
      "--------------------------------------------------\n",
      "## Perdas E Ganhos De Calor Da Habitação  \n",
      "Os elementos construtivos contribuem para o consumo de energia associado à climatização e para o conforto na habitação. A informação apresentada, indica o contributo desses elementos, bem como, os locais onde ocorrem perdas e ganhos de calor.  \n",
      "41%\n",
      "Cobertura  \n",
      "![1_image_2.png](1_image_2.png)  \n",
      "![1_image_3.png](1_image_3.png)  \n",
      "![1_image_5.png](1_image_5.png)  \n",
      "![1_image_4.png](1_image_4.png)  \n",
      "que a referência Entidade Gestora Entidade Fiscalizadora  \n",
      "![1_image_6.png](1_image_6.png)  \n",
      "ADENE  \n",
      "ia e Geologia  \n",
      "![2_image_0.png](2_image_0.png)  \n",
      "Edifício de Habitação SCE107727024  \n",
      "![2_image_1.png](2_image_1.png)\n",
      "--------------------------------------------------\n",
      "## Recomendações Sobre Sistemas Técnicos  \n",
      "Os sistemas técnicos dos edifícios de habitação, com especial relevância para os equipamentos responsáveis pela produção de águas quentes sanitárias, aquecimento e arrefecimento são determinantes no consumo de energia. Face a essa importância é essencial que sejam promovidas, com regularidade, ações que assegurem o correto funcionamento desses equipamentos, especialmente em sistemas com caldeiras que produzam água quente sanitária e/ou aquecimento, bem como sistemas de ar condicionado. Neste sentido, é recomendável que sejam realizadas ações de manutenção e inspeção regulares a esses sistemas, por técnicos qualficados. Estas ações contribuem para manter os sistemas regulados de acordo com as suas especificações, garantir a segurança e o funcionamento otimizado do ponto de vista energético e ambiental. Nas situações de aquisição de novos equipamentos ou de substituição dos atuais, deverá obter, através de um técnico qualificado, informação sobre o dimensionamento e características adequadas em função das necessidades. A escolha correta de um equipamento permitirá otimizar os custos energéticos e de manutenção durante a vida útil do mesmo.  \n",
      "Estas recomendações foram produzidas pela ADENE - Agência para a energia. Caso necessite de obter mais informações sobre como melhorar o desempenho dos seus equipamentos, contacte esta agência ou um técnico qualificado.  \n",
      "Entidade Gestora Entidade Fiscalizadora  \n",
      "![2_image_4.png](2_image_4.png)  \n",
      "ADENE  \n",
      "![2_image_5.png](2_image_5.png)  \n",
      "ão Energética Edifício de Habitação SCE107727024  \n",
      "![3_image_1.png](3_image_1.png)\n",
      "--------------------------------------------------\n",
      "# Edifício De Habitação  \n",
      "SCE107727024  \n",
      "![4_image_1.png](4_image_1.png)  \n",
      "Esta secção do certificado energético apresenta, em detalhe, os elementos considerados pelo Perito Qualificado no processo de certificação do edificio/fração. Esta informação encontra-se desagregada entre os principais indicadores energéticos e dados climáticos relativos ao local do edificio, bem como as soluções construtivas e sistemas técnicos identificados em projeto e/ou durante a visita ao imóvel. As soluções construivas e sistemas técnicos encontram-se caracterizados tendo por base a melhor informação recolhida pelo Perito Qualificado e apresentam uma indicação dos valores referenciais ou limites admissíveis (quando aplicáveis)  \n",
      "| PAREDES, COBERTURAS, PAVIMENTOS E PONTES TÉRMICAS PLANAS                  | Coeficiente de Transmissão Térmica*   |         |            |      |        |\n",
      "|---------------------------------------------------------------------------|---------------------------------------|---------|------------|------|--------|\n",
      "|                                                                           | [W/m².ºC]                             |         |            |      |        |\n",
      "|                                                                           | Área Total                            |         |            |      |        |\n",
      "|                                                                           | e Orientação                          |         |            |      |        |\n",
      "| Descrição dos Elementos Identificados                                     | @                                     |         |            |      |        |\n",
      "|                                                                           | [m²]                                  | Solução | Referência | �    | Máximo |\n",
      "| Paredes                                                                   |                                       |         |            |      |        |\n",
      "| PRE - Parede exterior com orientação a N, S, W e E, com 25 cm de          | 29                                    |         |            |      |        |\n",
      "| espessura de alvenaria simples ou dupla rebocada (desconhecendo-se a      | N                                     |         |            |      |        |\n",
      "| espessura da alvenaria e materiais que a compõe), com coeficiente de      | 22                                    | 22      | 1,30       | 0,35 |        |\n",
      "| transmissão térmica (U) de acordo com o quadro II.3 da Nota Técnica, NT-  |                                       |         |            |      |        |\n",
      "| SCE-01. U=1.3 W/m2.ºC.                                                    | ★★☆☆☆                                 |         |            |      |        |\n",
      "|                                                                           | 20                                    |         |            |      |        |\n",
      "| PRI1 - Parede interior com espaço não útil (caixa de escadas de acesso ao |                                       |         |            |      |        |\n",
      "| estacionamento e arrumos do piso r/chão), com 13 cm de espessura de       |                                       |         |            |      |        |\n",
      "| alvenaria simples (desconhecendo-se a espessura da alvenaria e materiais  | 6,5                                   | 1,82    | 0,35       |      |        |\n",
      "| que a compõe), com coeficiente de transmissão térmica (U) de acordo com   |                                       |         |            |      |        |\n",
      "| o quadro II.3 da Nota Técnica, NT-SCE-01 com correcção das resistências   | ជំងឺជំងឺ                                  |         |            |      |        |\n",
      "| térmicas superficiais. U=1.82W/m2.ºC.                                     |                                       |         |            |      |        |\n",
      "| PRI2 - Parede interior da escadaria de acesso ao sótão com espaço não     |                                       |         |            |      |        |\n",
      "| útil (sótão destinado a arrumos), com 11 cm de espessura de alvenaria     |                                       |         |            |      |        |\n",
      "| simples (desconhecendo-se a espessura da alvenaria e materiais que a      | 15,5                                  | 1,93    | 0,35       |      |        |\n",
      "| compõe), com coeficiente de transmissão térmica (U) de acordo com o       |                                       |         |            |      |        |\n",
      "| quadro II.3 da Nota Técnica, NT-SCE-01 com correcção das resistências     | ំងឺ ជំ ជំ ជំ ជំ                             |         |            |      |        |\n",
      "| térmicas superficiais. U=1.93W/m2.ºC.                                     |                                       |         |            |      |        |\n",
      "| Coberturas                                                                |                                       |         |            |      |        |\n",
      "| COBext-Cobertura exterior pesada inclinada da caixa de escadas de         |                                       |         |            |      |        |\n",
      "| acesso ao sótão, desconhecendo-se as espessuras dos materiais que a       |                                       |         |            |      |        |\n",
      "| constituem, com coeficiente de transmissão térmica de acordo com o        | 3,2                                   | 3,40    | 0,30       |      |        |\n",
      "| quadro III da Nota Técnica, NT-SCE-01. Coeficiente de transmissão         |                                       |         |            |      |        |\n",
      "| térmica superficial (fluxo ascendente) de 3.4 W/m2.ºC e (fluxo            | ਕਿ ਕੇ ਕੇ ਕੇ ਕੇ                             |         |            |      |        |\n",
      "| descendente) de 2.75 W/m2.ºC.                                             |                                       |         |            |      |        |\n",
      "| COBint-Cobertura interior do piso da habitação sob espaço não útil        |                                       |         |            |      |        |\n",
      "| destinado a arrumos do sótão, cobertura pesada horizontal,                |                                       |         |            |      |        |\n",
      "| desconhecendo-se as espessuras dos materiais que a constituem, com        |                                       |         |            |      |        |\n",
      "| coeficiente de transmissão térmica de acordo com o quadro III da Nota     | 97,9                                  | 2,25    | 0,30       |      |        |\n",
      "| Técnica, NT-SCE-01, com correcção das resistência térmicas superficiais.  | ង់ ដំ ដំ ដំ ដំ                             |         |            |      |        |\n",
      "| Coeficiente de transmissão térmica superficial (fluxo ascendente) de 2.25 |                                       |         |            |      |        |\n",
      "| W/m2.ºC e (fluxo descendente) de 1.71 W/m2.ºC.                            |                                       |         |            |      |        |\n",
      "| Pavimentos                                                                |                                       |         |            |      |        |\n",
      "| Entidade Gestora                                                          | Entidade Fiscalizadora                | 5 de 9  |            |      |        |  \n",
      "| RESUMO DOS PRINCIPAIS INDICADORES                                                                                     |                                                                               |                      | DADOS CLIMÁTICOS                    |               |\n",
      "|-----------------------------------------------------------------------------------------------------------------------|-------------------------------------------------------------------------------|----------------------|-------------------------------------|---------------|\n",
      "| Sigla                                                                                                                 | - Descrição                                                                   | ° Valor / Referência | Descrição                           | Valor         |\n",
      "|                                                                                                                       | Necessidades nominais anuais de energia útil para aquecimento (kWh/m².ano)    |                      | Altitude                            | 624 m         |\n",
      "| Nic                                                                                                                   |                                                                               | 319,8 / 94,2         |                                     |               |\n",
      "| Nvc                                                                                                                   | Necessidades nominais anuais de energia útil para arrefecimento (kWh/m².ano)  | 16,1 / 12,1          | Graus-dia (18° C)                   | 1851          |\n",
      "| Qa                                                                                                                    | Energia útil para preparação de água quente sanitária (kWh/ano)               | 2.377,3 | 2.377,3    | Temperatura média exterior ( I / V) | 6,9 / 21,8 °C |\n",
      "| Wvm                                                                                                                   | Energia elétrica necessária ao funcionamento dos ventiladores (kWh/ano)       | 0,0                  | Zona Climática de inverno           | 13            |\n",
      "| Eren                                                                                                                  | Energia produzida a partir de fontes renováveis para usos regulados (kWh/ano) | 0,0 / -*             | Zona Climática de verão             | V2            |\n",
      "| Eren, ext                                                                                                             | Energia produzida a partir de fontes renováveis para outros usos (kWh/ano)    | 0,0                  | Duração da estação de aquecimento   | 7,1 meses     |\n",
      "| Ntc                                                                                                                   | Necessidades nominais anuais globais de energia primária (kWheç/m².ano)       | 890,8 / 308,8        | Duração da estação de arrefecimento | 4,0 meses     |\n",
      "| * respeitante à contribuição minima a que estão sujeitos os edificios novos ou grandes intervenções, quando aplicável |                                                                               |                      |                                     |               |  \n",
      "ADENE  \n",
      "![4_image_2.png](4_image_2.png)  \n",
      "![5_image_0.png](5_image_0.png)  \n",
      "Edifício de Habitação SCE107727024 PAVint-Pavimento do piso de habitação sobre espaço destinado a estacionamento e arrumos, em laje pesada desconhecendo-se as espessuras dos materiais que a constituem, com coeficiente de transmissão térmica de acordo com o quadro III da Nota Técnica, NT-SCE-\n",
      "01, com correcção das resistências térmicas superficiais. Coeficiente de transmissão térmica superficial (fluxo descendente) de 2.21 W/m2.ºC.  \n",
      "100,4 2,21 0,30  \n",
      "![5_image_1.png](5_image_1.png)  \n",
      "ជំងឺជំងឺ\n",
      "* Menores valores representam soluções mais eficientes.  \n",
      "Medida de Melhoria Isolamento térmico em paredes exteriores - aplicação pelo exterior com revestimento aplicado sobre o isolante Aplicação de isolamento térmico tipo capoto com placas de 8 cm de espessura com revestimento exterior a reboco nas paredes exteriores.  \n",
      "Constituído por placas de poliestireno expandido, massa adesiva, rede em fibra de vidro e um revestimento final para acabamento. O valor das necessidades nominais anuais globais de energia primária (Ntc) reduz significativamente, o custo desta solução ronda os 4700 €.  \n",
      "| Novos Indicadores de   |       |                          |     |\n",
      "|------------------------|-------|--------------------------|-----|\n",
      "| Uso                    |       | Outros Beneficios        |     |\n",
      "| Desempenho             |       |                          |     |\n",
      "| 184%                   |       |                          |     |\n",
      "| 8                      | MENOS | ACU                      |     |\n",
      "| eficiente              |       |                          |     |\n",
      "| 32%                    |       |                          |     |\n",
      "| 8                      | MENOS | QAI                      | SEG |\n",
      "| eficiente              |       |                          |     |\n",
      "| 23%                    |       |                          |     |\n",
      "| 3                      | MENOS | FIM                      | REN |\n",
      "| eficiente              |       | Beneficios identificados |     |  \n",
      "Medida de Melhoria  \n",
      "| Novos Indicadores de   |                   |     |     |     |\n",
      "|------------------------|-------------------|-----|-----|-----|\n",
      "| Uso                    | Outros Beneficios |     |     |     |\n",
      "| Desempenho             |                   |     |     |     |\n",
      "| 173%                   |                   |     |     |     |\n",
      "| MENOS                  |                   |     |     |     |\n",
      "| 8                      | ACU               |     |     |     |\n",
      "| eficiente              |                   |     |     |     |\n",
      "| 100%                   |                   |     |     |     |\n",
      "| 8                      | MAIS              | PAT | QAI | SEG |\n",
      "| eficiente              |                   |     |     |     |\n",
      "| 23%                    |                   |     |     |     |\n",
      "| 3                      | MENOS             | REN | vis |     |\n",
      "| eficiente              |                   |     |     |     |  \n",
      "Aplicação de teto falso com isolamento térmico Aplicação de tecto falso no tecto da fracção sob sótão destinado a arrumos, constituído por placas de gesso cartonado e isolamento térmico do tipo XPS\n",
      "com 6 cm de espessura. O valor das necessidades nominais anuais globais de energia primária (Ntc) reduz significativamente, o custo desta solução ronda os 4000 €\n",
      "Beneficios identificados Entidade Gestora Entidade Fiscalizadora  \n",
      "![5_image_3.png](5_image_3.png)  \n",
      "![5_image_2.png](5_image_2.png)  \n",
      "![6_image_0.png](6_image_0.png)\n",
      "--------------------------------------------------\n",
      "## Sistemas Técnicos E Ventilação  \n",
      "Descrição dos Elementos Identificados Termoacumulador Termoacumulador eléctrico de 1000 W de potência de 75 litros de capacidade, da marca \"EDESA\", com rendimento final de 77.0 %,\n",
      "(reduzido em 10 %, pelo facto que a fracção não dispõe de rede de AQS\n",
      "com pelo menos 10mm de isolamento e também reduzido por ter idade compreendida entre 1 e 10 anos).  \n",
      "| Consumo   | Potência   | Perdas estáticas   |            |        |\n",
      "|-----------|------------|--------------------|------------|--------|\n",
      "| Uso       | de Energia | Nominal            | Solução  - | Máximo |\n",
      "| [kWh/ano] | [KW]       |                    |            |        |  \n",
      "●\n",
      "5 3.089,39 1,00\n",
      "*Valores menores representam soluções mais eficientes.  \n",
      "| Taxa nominal de renovação de ar (h·1)   |         |    |        |\n",
      "|-----------------------------------------|---------|----|--------|\n",
      "| Uso                                     | Solução | 0  | Mínimo |  \n",
      "Descrição dos Elementos Identificados Ventilação O sistema de ventilação da fracção é natural - não tem aberturas de admissão de ar na fachada - condutas de ventilação natural - os vãos da fracção face à sua distribuição permitem o arrefecimento nocturno.  \n",
      "1,26 0,40 Medida de Melhoria Instalação de sistema solar térmico individual - sistema de circulação forçada 3 Instalação de sistema solar térmico com dois módulos de colector solar plano certificados com cerca de 3.8 m2 com permutador interno a depósito  \n",
      "| Uso        | Novos Indicadores de   | Outros Beneficios   |     |     |\n",
      "|------------|------------------------|---------------------|-----|-----|\n",
      "| Desempenho |                        |                     |     |     |\n",
      "| 239%       |                        |                     |     |     |\n",
      "| 8          | MENOS                  | ENR                 | TER | ACU |\n",
      "| eficiente  |                        |                     |     |     |\n",
      "| 32%        |                        |                     |     |     |\n",
      "| 8          | MENOS                  | PAT                 | QAI | SEG |\n",
      "| eficiente  |                        |                     |     |     |\n",
      "| 59%        |                        |                     |     |     |\n",
      "| 6          | MAIS                   | FIM                 | VIS |     |\n",
      "| eficiente  |                        |                     |     |     |  \n",
      "separado de 300 litros de capacidade. Colectores com azimute 22º e inclinação de 30º. Contribuição do sistema de colectores solares (Esolar) de cerca de 1608 KWh/ano, com um custo a rondar os 2000 €\n",
      "Beneficios identificados Entidade Gestora  \n",
      "ADENE  \n",
      "![7_image_3.png](7_image_3.png)  \n",
      "Entidade Fiscalizadora  \n",
      "![7_image_2.png](7_image_2.png)  \n",
      "![8_image_0.png](8_image_0.png)  \n",
      "e Ar Interior EDIFÍCIOS\n",
      "Edifício de Habitação SCE107727024 Legenda:\n",
      "Uso 8 Arrefecimento Ca Aquecimento Água Quente  O\n",
      "Outros Usos Ventilação e\n",
      "(Eren, Ext)\n",
      "Extração Ambiente Outros Benefícios Outros benefícios que poderão ocorrer após a implementação da medida de melhoria ENR\n",
      "Redução de necessidades de energia TER\n",
      "Melhoria das condições de conforto térmico Prevenção ou redução de patologias Melhoria da qualidade do ar interior Facilidade de implementação REN\n",
      "ACU\n",
      "Melhoria das condições de conforto acústico  \n",
      "![8_image_1.png](8_image_1.png)  \n",
      "Melhoria das condições de segurança Promoção de energia proveniente de fontes renováveis SIN\n",
      "Melhoria da qualidade visual e prestígio Entidade Gestora Entidade Fiscalizadora  \n",
      "![8_image_2.png](8_image_2.png)  \n",
      "de Energia e Geologia\n",
      "ADENE\n",
      "agência para a energia\n",
      "--------------------------------------------------\n"
     ]
    }
   ],
   "source": [
    "for i in chunks:\n",
    "    if \"SCE107727024\" in i.page_content and \"Edifício de Habitação\" in i.page_content:\n",
    "        print(i.page_content)\n",
    "        print(\"--------------------------------------------------\")\n",
    "# print(chunks[3].page_content)"
   ]
  },
  {
   "cell_type": "code",
   "execution_count": null,
   "metadata": {},
   "outputs": [],
   "source": [
    "load_document(filename=\"../data/4355_8432.pdf\", document_type=\"certificado_energetico\")"
   ]
  },
  {
   "cell_type": "code",
   "execution_count": 29,
   "metadata": {},
   "outputs": [
    {
     "name": "stdout",
     "output_type": "stream",
     "text": [
      "escritura\n",
      "certificado_energetico\n",
      "caderneta_predial\n",
      "ficha_tecnica_habitacao\n"
     ]
    }
   ],
   "source": [
    "for document_type_folder in Path(\"../data\").glob('*/'):\n",
    "    print(document_type_folder.name)"
   ]
  },
  {
   "cell_type": "code",
   "execution_count": 30,
   "metadata": {},
   "outputs": [
    {
     "name": "stderr",
     "output_type": "stream",
     "text": [
      "0it [00:00, ?it/s]"
     ]
    },
    {
     "name": "stdout",
     "output_type": "stream",
     "text": [
      "Loaded detection model vikp/surya_det3 on device cpu with dtype torch.float32\n",
      "Loaded detection model vikp/surya_layout3 on device cpu with dtype torch.float32\n",
      "Loaded reading order model vikp/surya_order on device cpu with dtype torch.float32\n",
      "Loaded recognition model vikp/surya_rec2 on device cpu with dtype torch.float32\n",
      "Loaded texify model to cpu with torch.float32 dtype\n"
     ]
    },
    {
     "name": "stderr",
     "output_type": "stream",
     "text": [
      "Detecting bboxes: 100%|██████████| 2/2 [00:23<00:00, 11.59s/it]\n",
      "Detecting bboxes: 100%|██████████| 2/2 [00:15<00:00,  7.59s/it]\n",
      "Finding reading order: 100%|██████████| 2/2 [00:31<00:00, 15.62s/it]\n"
     ]
    },
    {
     "name": "stdout",
     "output_type": "stream",
     "text": [
      "Saved markdown to the /tmp/tmp7t5mrb18/ID92ff3b00-0000-0500-0000-000002081286 folder\n"
     ]
    },
    {
     "name": "stderr",
     "output_type": "stream",
     "text": [
      "1it [02:23, 143.22s/it]"
     ]
    },
    {
     "name": "stdout",
     "output_type": "stream",
     "text": [
      "Loaded detection model vikp/surya_det3 on device cpu with dtype torch.float32\n",
      "Loaded detection model vikp/surya_layout3 on device cpu with dtype torch.float32\n",
      "Loaded reading order model vikp/surya_order on device cpu with dtype torch.float32\n",
      "Loaded recognition model vikp/surya_rec2 on device cpu with dtype torch.float32\n",
      "Loaded texify model to cpu with torch.float32 dtype\n"
     ]
    },
    {
     "name": "stderr",
     "output_type": "stream",
     "text": [
      "Detecting bboxes: 100%|██████████| 3/3 [00:22<00:00,  7.55s/it]\n",
      "Detecting bboxes: 100%|██████████| 2/2 [00:18<00:00,  9.34s/it]\n",
      "Finding reading order: 100%|██████████| 2/2 [00:34<00:00, 17.22s/it]\n"
     ]
    },
    {
     "name": "stdout",
     "output_type": "stream",
     "text": [
      "Saved markdown to the /tmp/tmpy9aws1zz/SCE_BlocoA_final folder\n"
     ]
    },
    {
     "name": "stderr",
     "output_type": "stream",
     "text": [
      "2it [04:35, 136.69s/it]"
     ]
    },
    {
     "name": "stdout",
     "output_type": "stream",
     "text": [
      "Loaded detection model vikp/surya_det3 on device cpu with dtype torch.float32\n",
      "Loaded detection model vikp/surya_layout3 on device cpu with dtype torch.float32\n",
      "Loaded reading order model vikp/surya_order on device cpu with dtype torch.float32\n",
      "Loaded recognition model vikp/surya_rec2 on device cpu with dtype torch.float32\n",
      "Loaded texify model to cpu with torch.float32 dtype\n"
     ]
    },
    {
     "name": "stderr",
     "output_type": "stream",
     "text": [
      "Detecting bboxes: 100%|██████████| 2/2 [00:19<00:00,  9.54s/it]\n",
      "Detecting bboxes: 100%|██████████| 2/2 [00:14<00:00,  7.31s/it]\n",
      "Finding reading order: 100%|██████████| 2/2 [00:33<00:00, 16.78s/it]\n"
     ]
    },
    {
     "name": "stdout",
     "output_type": "stream",
     "text": [
      "Saved markdown to the /tmp/tmp4f2lqgjt/ADENE_certificado_energético_comércio_e_serviços folder\n"
     ]
    },
    {
     "name": "stderr",
     "output_type": "stream",
     "text": [
      "3it [06:32, 127.58s/it]"
     ]
    },
    {
     "name": "stdout",
     "output_type": "stream",
     "text": [
      "Loaded detection model vikp/surya_det3 on device cpu with dtype torch.float32\n",
      "Loaded detection model vikp/surya_layout3 on device cpu with dtype torch.float32\n",
      "Loaded reading order model vikp/surya_order on device cpu with dtype torch.float32\n",
      "Loaded recognition model vikp/surya_rec2 on device cpu with dtype torch.float32\n",
      "Loaded texify model to cpu with torch.float32 dtype\n"
     ]
    },
    {
     "name": "stderr",
     "output_type": "stream",
     "text": [
      "Detecting bboxes: 100%|██████████| 2/2 [00:18<00:00,  9.30s/it]\n",
      "Detecting bboxes: 100%|██████████| 2/2 [00:14<00:00,  7.33s/it]\n",
      "Finding reading order: 100%|██████████| 2/2 [00:35<00:00, 17.55s/it]\n"
     ]
    },
    {
     "name": "stdout",
     "output_type": "stream",
     "text": [
      "Saved markdown to the /tmp/tmpl2c5y970/CE-Rua-Arco-da-Graca-83-RC folder\n"
     ]
    },
    {
     "name": "stderr",
     "output_type": "stream",
     "text": [
      "4it [08:31, 124.45s/it]"
     ]
    },
    {
     "name": "stdout",
     "output_type": "stream",
     "text": [
      "Loaded detection model vikp/surya_det3 on device cpu with dtype torch.float32\n",
      "Loaded detection model vikp/surya_layout3 on device cpu with dtype torch.float32\n",
      "Loaded reading order model vikp/surya_order on device cpu with dtype torch.float32\n",
      "Loaded recognition model vikp/surya_rec2 on device cpu with dtype torch.float32\n",
      "Loaded texify model to cpu with torch.float32 dtype\n"
     ]
    },
    {
     "name": "stderr",
     "output_type": "stream",
     "text": [
      "Detecting bboxes: 100%|██████████| 2/2 [00:16<00:00,  8.26s/it]\n",
      "Detecting bboxes: 100%|██████████| 2/2 [00:14<00:00,  7.37s/it]\n",
      "Finding reading order: 100%|██████████| 2/2 [00:29<00:00, 14.93s/it]\n"
     ]
    },
    {
     "name": "stdout",
     "output_type": "stream",
     "text": [
      "Saved markdown to the /tmp/tmpb46z7wbz/ADENE_SCE_SCE0000276598643 folder\n"
     ]
    },
    {
     "name": "stderr",
     "output_type": "stream",
     "text": [
      "5it [10:27, 121.28s/it]"
     ]
    },
    {
     "name": "stdout",
     "output_type": "stream",
     "text": [
      "Loaded detection model vikp/surya_det3 on device cpu with dtype torch.float32\n",
      "Loaded detection model vikp/surya_layout3 on device cpu with dtype torch.float32\n",
      "Loaded reading order model vikp/surya_order on device cpu with dtype torch.float32\n",
      "Loaded recognition model vikp/surya_rec2 on device cpu with dtype torch.float32\n",
      "Loaded texify model to cpu with torch.float32 dtype\n"
     ]
    },
    {
     "name": "stderr",
     "output_type": "stream",
     "text": [
      "Detecting bboxes: 100%|██████████| 3/3 [00:20<00:00,  7.00s/it]\n",
      "Detecting bboxes: 100%|██████████| 2/2 [00:18<00:00,  9.16s/it]\n",
      "Finding reading order: 100%|██████████| 2/2 [00:41<00:00, 20.81s/it]\n"
     ]
    },
    {
     "name": "stdout",
     "output_type": "stream",
     "text": [
      "Saved markdown to the /tmp/tmp6t8dfk0a/4355_8432 folder\n"
     ]
    },
    {
     "name": "stderr",
     "output_type": "stream",
     "text": [
      "6it [12:47, 127.64s/it]"
     ]
    },
    {
     "name": "stdout",
     "output_type": "stream",
     "text": [
      "Loaded detection model vikp/surya_det3 on device cpu with dtype torch.float32\n",
      "Loaded detection model vikp/surya_layout3 on device cpu with dtype torch.float32\n",
      "Loaded reading order model vikp/surya_order on device cpu with dtype torch.float32\n",
      "Loaded recognition model vikp/surya_rec2 on device cpu with dtype torch.float32\n",
      "Loaded texify model to cpu with torch.float32 dtype\n"
     ]
    },
    {
     "name": "stderr",
     "output_type": "stream",
     "text": [
      "Detecting bboxes: 100%|██████████| 5/5 [00:46<00:00,  9.27s/it]\n",
      "Detecting bboxes: 100%|██████████| 4/4 [00:37<00:00,  9.32s/it]\n",
      "Finding reading order: 100%|██████████| 4/4 [01:18<00:00, 19.63s/it]\n"
     ]
    },
    {
     "name": "stdout",
     "output_type": "stream",
     "text": [
      "Saved markdown to the /tmp/tmp98ys_nay/CertificadoEnergetico folder\n"
     ]
    },
    {
     "name": "stderr",
     "output_type": "stream",
     "text": [
      "7it [16:42, 162.68s/it]"
     ]
    },
    {
     "name": "stdout",
     "output_type": "stream",
     "text": [
      "Loaded detection model vikp/surya_det3 on device cpu with dtype torch.float32\n",
      "Loaded detection model vikp/surya_layout3 on device cpu with dtype torch.float32\n",
      "Loaded reading order model vikp/surya_order on device cpu with dtype torch.float32\n",
      "Loaded recognition model vikp/surya_rec2 on device cpu with dtype torch.float32\n",
      "Loaded texify model to cpu with torch.float32 dtype\n"
     ]
    },
    {
     "name": "stderr",
     "output_type": "stream",
     "text": [
      "Detecting bboxes: 100%|██████████| 3/3 [00:24<00:00,  8.07s/it]\n",
      "Detecting bboxes: 100%|██████████| 2/2 [00:20<00:00, 10.32s/it]\n",
      "Finding reading order: 100%|██████████| 2/2 [00:43<00:00, 21.75s/it]\n"
     ]
    },
    {
     "name": "stdout",
     "output_type": "stream",
     "text": [
      "Saved markdown to the /tmp/tmp8bbwtjtt/ADENE_certificado_energético_habitação folder\n"
     ]
    },
    {
     "name": "stderr",
     "output_type": "stream",
     "text": [
      "8it [19:07, 157.15s/it]"
     ]
    },
    {
     "name": "stdout",
     "output_type": "stream",
     "text": [
      "Loaded detection model vikp/surya_det3 on device cpu with dtype torch.float32\n",
      "Loaded detection model vikp/surya_layout3 on device cpu with dtype torch.float32\n",
      "Loaded reading order model vikp/surya_order on device cpu with dtype torch.float32\n",
      "Loaded recognition model vikp/surya_rec2 on device cpu with dtype torch.float32\n",
      "Loaded texify model to cpu with torch.float32 dtype\n"
     ]
    },
    {
     "name": "stderr",
     "output_type": "stream",
     "text": [
      "Detecting bboxes: 100%|██████████| 2/2 [00:21<00:00, 10.86s/it]\n",
      "Detecting bboxes: 100%|██████████| 2/2 [00:15<00:00,  7.78s/it]\n",
      "Finding reading order: 100%|██████████| 2/2 [00:31<00:00, 15.94s/it]\n"
     ]
    },
    {
     "name": "stdout",
     "output_type": "stream",
     "text": [
      "Saved markdown to the /tmp/tmpog9rxdpi/certificado_energetico_deleg_queluz folder\n"
     ]
    },
    {
     "name": "stderr",
     "output_type": "stream",
     "text": [
      "9it [21:06, 145.25s/it]"
     ]
    },
    {
     "name": "stdout",
     "output_type": "stream",
     "text": [
      "Loaded detection model vikp/surya_det3 on device cpu with dtype torch.float32\n",
      "Loaded detection model vikp/surya_layout3 on device cpu with dtype torch.float32\n",
      "Loaded reading order model vikp/surya_order on device cpu with dtype torch.float32\n",
      "Loaded recognition model vikp/surya_rec2 on device cpu with dtype torch.float32\n",
      "Loaded texify model to cpu with torch.float32 dtype\n"
     ]
    },
    {
     "name": "stderr",
     "output_type": "stream",
     "text": [
      "Detecting bboxes: 100%|██████████| 2/2 [00:20<00:00, 10.09s/it]\n",
      "Detecting bboxes: 100%|██████████| 2/2 [00:16<00:00,  8.24s/it]\n",
      "Finding reading order: 100%|██████████| 2/2 [00:32<00:00, 16.37s/it]\n"
     ]
    },
    {
     "name": "stdout",
     "output_type": "stream",
     "text": [
      "Saved markdown to the /tmp/tmpcn376akt/ADENE_SCE_SCE0000147296433-Certificado-Energetico-ID010617-1 folder\n"
     ]
    },
    {
     "name": "stderr",
     "output_type": "stream",
     "text": [
      "10it [23:06, 137.32s/it]"
     ]
    },
    {
     "name": "stdout",
     "output_type": "stream",
     "text": [
      "Loaded detection model vikp/surya_det3 on device cpu with dtype torch.float32\n",
      "Loaded detection model vikp/surya_layout3 on device cpu with dtype torch.float32\n",
      "Loaded reading order model vikp/surya_order on device cpu with dtype torch.float32\n",
      "Loaded recognition model vikp/surya_rec2 on device cpu with dtype torch.float32\n",
      "Loaded texify model to cpu with torch.float32 dtype\n"
     ]
    },
    {
     "name": "stderr",
     "output_type": "stream",
     "text": [
      "Detecting bboxes: 100%|██████████| 2/2 [00:16<00:00,  8.40s/it]\n",
      "Detecting bboxes: 100%|██████████| 2/2 [00:15<00:00,  7.69s/it]\n",
      "Finding reading order: 100%|██████████| 2/2 [00:28<00:00, 14.20s/it]\n"
     ]
    },
    {
     "name": "stdout",
     "output_type": "stream",
     "text": [
      "Saved markdown to the /tmp/tmpgn6lk4it/certificado-comercio folder\n"
     ]
    },
    {
     "name": "stderr",
     "output_type": "stream",
     "text": [
      "11it [24:54, 128.42s/it]"
     ]
    },
    {
     "name": "stdout",
     "output_type": "stream",
     "text": [
      "Loaded detection model vikp/surya_det3 on device cpu with dtype torch.float32\n",
      "Loaded detection model vikp/surya_layout3 on device cpu with dtype torch.float32\n",
      "Loaded reading order model vikp/surya_order on device cpu with dtype torch.float32\n",
      "Loaded recognition model vikp/surya_rec2 on device cpu with dtype torch.float32\n",
      "Loaded texify model to cpu with torch.float32 dtype\n"
     ]
    },
    {
     "name": "stderr",
     "output_type": "stream",
     "text": [
      "Detecting bboxes: 100%|██████████| 3/3 [00:23<00:00,  7.75s/it]\n",
      "Detecting bboxes: 100%|██████████| 2/2 [00:19<00:00,  9.66s/it]\n",
      "Finding reading order: 100%|██████████| 2/2 [00:37<00:00, 18.52s/it]\n"
     ]
    },
    {
     "name": "stdout",
     "output_type": "stream",
     "text": [
      "Saved markdown to the /tmp/tmph_4ra2e8/ADENE_SCE_SCE0000138299335 folder\n"
     ]
    },
    {
     "name": "stderr",
     "output_type": "stream",
     "text": [
      "12it [27:04, 128.88s/it]"
     ]
    },
    {
     "name": "stdout",
     "output_type": "stream",
     "text": [
      "Loaded detection model vikp/surya_det3 on device cpu with dtype torch.float32\n",
      "Loaded detection model vikp/surya_layout3 on device cpu with dtype torch.float32\n",
      "Loaded reading order model vikp/surya_order on device cpu with dtype torch.float32\n",
      "Loaded recognition model vikp/surya_rec2 on device cpu with dtype torch.float32\n",
      "Loaded texify model to cpu with torch.float32 dtype\n"
     ]
    },
    {
     "name": "stderr",
     "output_type": "stream",
     "text": [
      "Detecting bboxes: 100%|██████████| 3/3 [00:22<00:00,  7.52s/it]\n",
      "Detecting bboxes: 100%|██████████| 2/2 [00:19<00:00,  9.53s/it]\n",
      "Finding reading order: 100%|██████████| 2/2 [00:40<00:00, 20.12s/it]\n"
     ]
    },
    {
     "name": "stdout",
     "output_type": "stream",
     "text": [
      "Saved markdown to the /tmp/tmp0j4ejf_s/bdf10200ae4052c8f7016f304e35afc0-certificado-energetico folder\n"
     ]
    },
    {
     "name": "stderr",
     "output_type": "stream",
     "text": [
      "13it [29:16, 130.03s/it]"
     ]
    },
    {
     "name": "stdout",
     "output_type": "stream",
     "text": [
      "Loaded detection model vikp/surya_det3 on device cpu with dtype torch.float32\n",
      "Loaded detection model vikp/surya_layout3 on device cpu with dtype torch.float32\n",
      "Loaded reading order model vikp/surya_order on device cpu with dtype torch.float32\n",
      "Loaded recognition model vikp/surya_rec2 on device cpu with dtype torch.float32\n",
      "Loaded texify model to cpu with torch.float32 dtype\n"
     ]
    },
    {
     "name": "stderr",
     "output_type": "stream",
     "text": [
      "Detecting bboxes: 100%|██████████| 2/2 [00:17<00:00,  8.89s/it]\n",
      "Detecting bboxes: 100%|██████████| 2/2 [00:15<00:00,  7.54s/it]\n",
      "Finding reading order: 100%|██████████| 2/2 [00:29<00:00, 14.79s/it]\n"
     ]
    },
    {
     "name": "stdout",
     "output_type": "stream",
     "text": [
      "Saved markdown to the /tmp/tmpdbz2g6w8/CE folder\n"
     ]
    },
    {
     "name": "stderr",
     "output_type": "stream",
     "text": [
      "14it [31:11, 125.27s/it]"
     ]
    },
    {
     "name": "stdout",
     "output_type": "stream",
     "text": [
      "Loaded detection model vikp/surya_det3 on device cpu with dtype torch.float32\n",
      "Loaded detection model vikp/surya_layout3 on device cpu with dtype torch.float32\n",
      "Loaded reading order model vikp/surya_order on device cpu with dtype torch.float32\n",
      "Loaded recognition model vikp/surya_rec2 on device cpu with dtype torch.float32\n",
      "Loaded texify model to cpu with torch.float32 dtype\n"
     ]
    },
    {
     "name": "stderr",
     "output_type": "stream",
     "text": [
      "Detecting bboxes: 100%|██████████| 3/3 [00:24<00:00,  8.10s/it]\n",
      "Detecting bboxes: 100%|██████████| 2/2 [00:18<00:00,  9.33s/it]\n",
      "Finding reading order: 100%|██████████| 2/2 [00:39<00:00, 19.91s/it]\n"
     ]
    },
    {
     "name": "stdout",
     "output_type": "stream",
     "text": [
      "Saved markdown to the /tmp/tmpj9zjkh5m/ADENE_SCE_CE_IPC_ESAC_LabReprodAnimal folder\n"
     ]
    },
    {
     "name": "stderr",
     "output_type": "stream",
     "text": [
      "15it [33:33, 130.28s/it]"
     ]
    },
    {
     "name": "stdout",
     "output_type": "stream",
     "text": [
      "Loaded detection model vikp/surya_det3 on device cpu with dtype torch.float32\n",
      "Loaded detection model vikp/surya_layout3 on device cpu with dtype torch.float32\n",
      "Loaded reading order model vikp/surya_order on device cpu with dtype torch.float32\n",
      "Loaded recognition model vikp/surya_rec2 on device cpu with dtype torch.float32\n",
      "Loaded texify model to cpu with torch.float32 dtype\n"
     ]
    },
    {
     "name": "stderr",
     "output_type": "stream",
     "text": [
      "Detecting bboxes: 100%|██████████| 2/2 [00:19<00:00,  9.98s/it]\n",
      "Detecting bboxes: 100%|██████████| 2/2 [00:15<00:00,  7.62s/it]\n",
      "Finding reading order: 100%|██████████| 2/2 [00:34<00:00, 17.22s/it]\n"
     ]
    },
    {
     "name": "stdout",
     "output_type": "stream",
     "text": [
      "Saved markdown to the /tmp/tmpn93qv8r7/certificado-energe-tico-plot-23 folder\n"
     ]
    },
    {
     "name": "stderr",
     "output_type": "stream",
     "text": [
      "16it [35:36, 128.07s/it]"
     ]
    },
    {
     "name": "stdout",
     "output_type": "stream",
     "text": [
      "Loaded detection model vikp/surya_det3 on device cpu with dtype torch.float32\n",
      "Loaded detection model vikp/surya_layout3 on device cpu with dtype torch.float32\n",
      "Loaded reading order model vikp/surya_order on device cpu with dtype torch.float32\n",
      "Loaded recognition model vikp/surya_rec2 on device cpu with dtype torch.float32\n",
      "Loaded texify model to cpu with torch.float32 dtype\n"
     ]
    },
    {
     "name": "stderr",
     "output_type": "stream",
     "text": [
      "Detecting bboxes: 100%|██████████| 2/2 [00:18<00:00,  9.38s/it]\n",
      "Detecting bboxes: 100%|██████████| 2/2 [00:14<00:00,  7.12s/it]\n",
      "Finding reading order: 100%|██████████| 2/2 [00:25<00:00, 13.00s/it]\n"
     ]
    },
    {
     "name": "stdout",
     "output_type": "stream",
     "text": [
      "Saved markdown to the /tmp/tmpydskeskg/file_1 (1) folder\n"
     ]
    },
    {
     "name": "stderr",
     "output_type": "stream",
     "text": [
      "17it [37:27, 123.09s/it]"
     ]
    },
    {
     "name": "stdout",
     "output_type": "stream",
     "text": [
      "Loaded detection model vikp/surya_det3 on device cpu with dtype torch.float32\n",
      "Loaded detection model vikp/surya_layout3 on device cpu with dtype torch.float32\n",
      "Loaded reading order model vikp/surya_order on device cpu with dtype torch.float32\n",
      "Loaded recognition model vikp/surya_rec2 on device cpu with dtype torch.float32\n",
      "Loaded texify model to cpu with torch.float32 dtype\n"
     ]
    },
    {
     "name": "stderr",
     "output_type": "stream",
     "text": [
      "Detecting bboxes: 100%|██████████| 2/2 [00:21<00:00, 10.52s/it]\n",
      "Detecting bboxes: 100%|██████████| 2/2 [00:21<00:00, 10.64s/it]\n",
      "Finding reading order: 100%|██████████| 2/2 [00:34<00:00, 17.02s/it]\n"
     ]
    },
    {
     "name": "stdout",
     "output_type": "stream",
     "text": [
      "Saved markdown to the /tmp/tmpel1rfyz7/8-4-certificado-energetico-m2e-at-ahv.jsMAXHQ folder\n"
     ]
    },
    {
     "name": "stderr",
     "output_type": "stream",
     "text": [
      "18it [39:37, 132.10s/it]\n",
      "0it [00:00, ?it/s]"
     ]
    },
    {
     "name": "stdout",
     "output_type": "stream",
     "text": [
      "Loaded detection model vikp/surya_det3 on device cpu with dtype torch.float32\n",
      "Loaded detection model vikp/surya_layout3 on device cpu with dtype torch.float32\n",
      "Loaded reading order model vikp/surya_order on device cpu with dtype torch.float32\n",
      "Loaded recognition model vikp/surya_rec2 on device cpu with dtype torch.float32\n",
      "Loaded texify model to cpu with torch.float32 dtype\n"
     ]
    },
    {
     "name": "stderr",
     "output_type": "stream",
     "text": [
      "Detecting bboxes: 100%|██████████| 1/1 [00:04<00:00,  4.22s/it]\n",
      "Detecting bboxes: 100%|██████████| 1/1 [00:04<00:00,  4.08s/it]\n",
      "Finding reading order: 100%|██████████| 1/1 [00:08<00:00,  8.19s/it]\n"
     ]
    },
    {
     "name": "stdout",
     "output_type": "stream",
     "text": [
      "Saved markdown to the /tmp/tmpi2vdf5ay/29_CP 101608 U-1128 folder\n"
     ]
    },
    {
     "name": "stderr",
     "output_type": "stream",
     "text": [
      "1it [00:44, 44.95s/it]"
     ]
    },
    {
     "name": "stdout",
     "output_type": "stream",
     "text": [
      "Loaded detection model vikp/surya_det3 on device cpu with dtype torch.float32\n",
      "Loaded detection model vikp/surya_layout3 on device cpu with dtype torch.float32\n",
      "Loaded reading order model vikp/surya_order on device cpu with dtype torch.float32\n",
      "Loaded recognition model vikp/surya_rec2 on device cpu with dtype torch.float32\n",
      "Loaded texify model to cpu with torch.float32 dtype\n"
     ]
    },
    {
     "name": "stderr",
     "output_type": "stream",
     "text": [
      "Detecting bboxes: 100%|██████████| 1/1 [00:04<00:00,  4.36s/it]\n",
      "Detecting bboxes: 100%|██████████| 1/1 [00:03<00:00,  3.30s/it]\n",
      "Finding reading order: 100%|██████████| 1/1 [00:06<00:00,  6.96s/it]\n"
     ]
    },
    {
     "name": "stdout",
     "output_type": "stream",
     "text": [
      "Saved markdown to the /tmp/tmpkkvlhw0d/cpu atualizada folder\n"
     ]
    },
    {
     "name": "stderr",
     "output_type": "stream",
     "text": [
      "2it [01:27, 43.42s/it]"
     ]
    },
    {
     "name": "stdout",
     "output_type": "stream",
     "text": [
      "Loaded detection model vikp/surya_det3 on device cpu with dtype torch.float32\n",
      "Loaded detection model vikp/surya_layout3 on device cpu with dtype torch.float32\n",
      "Loaded reading order model vikp/surya_order on device cpu with dtype torch.float32\n",
      "Loaded recognition model vikp/surya_rec2 on device cpu with dtype torch.float32\n",
      "Loaded texify model to cpu with torch.float32 dtype\n"
     ]
    },
    {
     "name": "stderr",
     "output_type": "stream",
     "text": [
      "Detecting bboxes: 100%|██████████| 1/1 [00:04<00:00,  4.40s/it]\n",
      "Detecting bboxes: 100%|██████████| 1/1 [00:05<00:00,  5.72s/it]\n",
      "Finding reading order: 100%|██████████| 1/1 [00:06<00:00,  6.88s/it]\n"
     ]
    },
    {
     "name": "stdout",
     "output_type": "stream",
     "text": [
      "Saved markdown to the /tmp/tmp_dr7cgfu/caderneta predial urbana-fração B folder\n"
     ]
    },
    {
     "name": "stderr",
     "output_type": "stream",
     "text": [
      "3it [02:09, 42.69s/it]"
     ]
    },
    {
     "name": "stdout",
     "output_type": "stream",
     "text": [
      "Loaded detection model vikp/surya_det3 on device cpu with dtype torch.float32\n",
      "Loaded detection model vikp/surya_layout3 on device cpu with dtype torch.float32\n",
      "Loaded reading order model vikp/surya_order on device cpu with dtype torch.float32\n",
      "Loaded recognition model vikp/surya_rec2 on device cpu with dtype torch.float32\n",
      "Loaded texify model to cpu with torch.float32 dtype\n"
     ]
    },
    {
     "name": "stderr",
     "output_type": "stream",
     "text": [
      "Detecting bboxes: 100%|██████████| 1/1 [00:09<00:00,  9.04s/it]\n",
      "Recognizing Text: 100%|██████████| 1/1 [00:10<00:00, 10.31s/it]\n",
      "Detecting bboxes: 100%|██████████| 1/1 [00:06<00:00,  6.95s/it]\n",
      "Finding reading order: 100%|██████████| 1/1 [00:14<00:00, 14.19s/it]\n"
     ]
    },
    {
     "name": "stdout",
     "output_type": "stream",
     "text": [
      "Saved markdown to the /tmp/tmpgckp1f9g/023754_1_6847_Caderneta-Predio-31 folder\n"
     ]
    },
    {
     "name": "stderr",
     "output_type": "stream",
     "text": [
      "4it [03:15, 51.99s/it]"
     ]
    },
    {
     "name": "stdout",
     "output_type": "stream",
     "text": [
      "Loaded detection model vikp/surya_det3 on device cpu with dtype torch.float32\n",
      "Loaded detection model vikp/surya_layout3 on device cpu with dtype torch.float32\n",
      "Loaded reading order model vikp/surya_order on device cpu with dtype torch.float32\n",
      "Loaded recognition model vikp/surya_rec2 on device cpu with dtype torch.float32\n",
      "Loaded texify model to cpu with torch.float32 dtype\n"
     ]
    },
    {
     "name": "stderr",
     "output_type": "stream",
     "text": [
      "Detecting bboxes: 100%|██████████| 1/1 [00:06<00:00,  6.79s/it]\n",
      "Detecting bboxes: 100%|██████████| 1/1 [00:05<00:00,  5.19s/it]\n",
      "Finding reading order: 100%|██████████| 1/1 [00:10<00:00, 10.22s/it]\n"
     ]
    },
    {
     "name": "stdout",
     "output_type": "stream",
     "text": [
      "Saved markdown to the /tmp/tmp83evqe55/1451477103 folder\n"
     ]
    },
    {
     "name": "stderr",
     "output_type": "stream",
     "text": [
      "5it [04:01, 49.80s/it]"
     ]
    },
    {
     "name": "stdout",
     "output_type": "stream",
     "text": [
      "Loaded detection model vikp/surya_det3 on device cpu with dtype torch.float32\n",
      "Loaded detection model vikp/surya_layout3 on device cpu with dtype torch.float32\n",
      "Loaded reading order model vikp/surya_order on device cpu with dtype torch.float32\n",
      "Loaded recognition model vikp/surya_rec2 on device cpu with dtype torch.float32\n",
      "Loaded texify model to cpu with torch.float32 dtype\n"
     ]
    },
    {
     "name": "stderr",
     "output_type": "stream",
     "text": [
      "Detecting bboxes: 100%|██████████| 1/1 [00:04<00:00,  4.68s/it]\n",
      "Detecting bboxes: 100%|██████████| 1/1 [00:03<00:00,  3.61s/it]\n",
      "Finding reading order: 100%|██████████| 1/1 [00:07<00:00,  7.33s/it]\n"
     ]
    },
    {
     "name": "stdout",
     "output_type": "stream",
     "text": [
      "Saved markdown to the /tmp/tmph_74kpa2/025942_1_4670_Caderneta-Predio-2929-B-verba-2 folder\n"
     ]
    },
    {
     "name": "stderr",
     "output_type": "stream",
     "text": [
      "6it [04:48, 48.80s/it]"
     ]
    },
    {
     "name": "stdout",
     "output_type": "stream",
     "text": [
      "Loaded detection model vikp/surya_det3 on device cpu with dtype torch.float32\n",
      "Loaded detection model vikp/surya_layout3 on device cpu with dtype torch.float32\n",
      "Loaded reading order model vikp/surya_order on device cpu with dtype torch.float32\n",
      "Loaded recognition model vikp/surya_rec2 on device cpu with dtype torch.float32\n",
      "Loaded texify model to cpu with torch.float32 dtype\n"
     ]
    },
    {
     "name": "stderr",
     "output_type": "stream",
     "text": [
      "Detecting bboxes: 100%|██████████| 1/1 [00:04<00:00,  4.60s/it]\n",
      "Detecting bboxes: 100%|██████████| 1/1 [00:04<00:00,  4.67s/it]\n",
      "Finding reading order: 100%|██████████| 1/1 [00:07<00:00,  7.02s/it]\n"
     ]
    },
    {
     "name": "stdout",
     "output_type": "stream",
     "text": [
      "Saved markdown to the /tmp/tmpskgob0sn/O6-FYW_W-NBNFIDB3UNCHIPL4T081LJZ folder\n"
     ]
    },
    {
     "name": "stderr",
     "output_type": "stream",
     "text": [
      "7it [05:32, 47.21s/it]"
     ]
    },
    {
     "name": "stdout",
     "output_type": "stream",
     "text": [
      "Loaded detection model vikp/surya_det3 on device cpu with dtype torch.float32\n",
      "Loaded detection model vikp/surya_layout3 on device cpu with dtype torch.float32\n",
      "Loaded reading order model vikp/surya_order on device cpu with dtype torch.float32\n",
      "Loaded recognition model vikp/surya_rec2 on device cpu with dtype torch.float32\n",
      "Loaded texify model to cpu with torch.float32 dtype\n"
     ]
    },
    {
     "name": "stderr",
     "output_type": "stream",
     "text": [
      "Detecting bboxes: 100%|██████████| 1/1 [00:04<00:00,  4.57s/it]\n",
      "Detecting bboxes: 100%|██████████| 1/1 [00:03<00:00,  3.43s/it]\n",
      "Finding reading order: 100%|██████████| 1/1 [00:06<00:00,  6.91s/it]\n"
     ]
    },
    {
     "name": "stdout",
     "output_type": "stream",
     "text": [
      "Saved markdown to the /tmp/tmpir6bah4m/caderneta predial urbana folder\n"
     ]
    },
    {
     "name": "stderr",
     "output_type": "stream",
     "text": [
      "8it [06:12, 45.16s/it]"
     ]
    },
    {
     "name": "stdout",
     "output_type": "stream",
     "text": [
      "Loaded detection model vikp/surya_det3 on device cpu with dtype torch.float32\n",
      "Loaded detection model vikp/surya_layout3 on device cpu with dtype torch.float32\n",
      "Loaded reading order model vikp/surya_order on device cpu with dtype torch.float32\n",
      "Loaded recognition model vikp/surya_rec2 on device cpu with dtype torch.float32\n",
      "Loaded texify model to cpu with torch.float32 dtype\n"
     ]
    },
    {
     "name": "stderr",
     "output_type": "stream",
     "text": [
      "Detecting bboxes: 100%|██████████| 6/6 [00:54<00:00,  9.03s/it]\n",
      "Detecting bboxes: 100%|██████████| 4/4 [00:43<00:00, 10.87s/it]\n",
      "Finding reading order: 100%|██████████| 4/4 [01:22<00:00, 20.64s/it]\n"
     ]
    },
    {
     "name": "stdout",
     "output_type": "stream",
     "text": [
      "Saved markdown to the /tmp/tmpwx82bjmi/PDF20230428150227331 folder\n"
     ]
    },
    {
     "name": "stderr",
     "output_type": "stream",
     "text": [
      "9it [09:49, 98.78s/it]"
     ]
    },
    {
     "name": "stdout",
     "output_type": "stream",
     "text": [
      "Loaded detection model vikp/surya_det3 on device cpu with dtype torch.float32\n",
      "Loaded detection model vikp/surya_layout3 on device cpu with dtype torch.float32\n",
      "Loaded reading order model vikp/surya_order on device cpu with dtype torch.float32\n",
      "Loaded recognition model vikp/surya_rec2 on device cpu with dtype torch.float32\n",
      "Loaded texify model to cpu with torch.float32 dtype\n"
     ]
    },
    {
     "name": "stderr",
     "output_type": "stream",
     "text": [
      "Detecting bboxes: 100%|██████████| 1/1 [00:03<00:00,  3.32s/it]\n",
      "Detecting bboxes: 100%|██████████| 1/1 [00:02<00:00,  2.01s/it]\n",
      "Finding reading order: 100%|██████████| 1/1 [00:03<00:00,  3.56s/it]\n"
     ]
    },
    {
     "name": "stdout",
     "output_type": "stream",
     "text": [
      "Saved markdown to the /tmp/tmpw_4g0boi/Anexo_2_CadernetaPredial folder\n"
     ]
    },
    {
     "name": "stderr",
     "output_type": "stream",
     "text": [
      "10it [10:21, 78.29s/it]"
     ]
    },
    {
     "name": "stdout",
     "output_type": "stream",
     "text": [
      "Loaded detection model vikp/surya_det3 on device cpu with dtype torch.float32\n",
      "Loaded detection model vikp/surya_layout3 on device cpu with dtype torch.float32\n",
      "Loaded reading order model vikp/surya_order on device cpu with dtype torch.float32\n",
      "Loaded recognition model vikp/surya_rec2 on device cpu with dtype torch.float32\n",
      "Loaded texify model to cpu with torch.float32 dtype\n"
     ]
    },
    {
     "name": "stderr",
     "output_type": "stream",
     "text": [
      "Detecting bboxes: 100%|██████████| 3/3 [00:20<00:00,  6.83s/it]\n",
      "Detecting bboxes: 100%|██████████| 2/2 [00:17<00:00,  8.53s/it]\n",
      "Finding reading order: 100%|██████████| 2/2 [00:34<00:00, 17.08s/it]\n"
     ]
    },
    {
     "name": "stdout",
     "output_type": "stream",
     "text": [
      "Saved markdown to the /tmp/tmpkaw085hr/Cadernetas_Prediais folder\n"
     ]
    },
    {
     "name": "stderr",
     "output_type": "stream",
     "text": [
      "11it [11:59, 65.45s/it]\n",
      "0it [00:00, ?it/s]"
     ]
    },
    {
     "name": "stdout",
     "output_type": "stream",
     "text": [
      "Loaded detection model vikp/surya_det3 on device cpu with dtype torch.float32\n",
      "Loaded detection model vikp/surya_layout3 on device cpu with dtype torch.float32\n",
      "Loaded reading order model vikp/surya_order on device cpu with dtype torch.float32\n",
      "Loaded recognition model vikp/surya_rec2 on device cpu with dtype torch.float32\n",
      "Loaded texify model to cpu with torch.float32 dtype\n"
     ]
    },
    {
     "name": "stderr",
     "output_type": "stream",
     "text": [
      "Detecting bboxes: 100%|██████████| 3/3 [00:24<00:00,  8.25s/it]\n",
      "Detecting bboxes: 100%|██████████| 2/2 [00:18<00:00,  9.09s/it]\n",
      "Finding reading order: 100%|██████████| 2/2 [00:37<00:00, 18.65s/it]\n"
     ]
    },
    {
     "name": "stdout",
     "output_type": "stream",
     "text": [
      "Saved markdown to the /tmp/tmp3lcbbckn/ficha_tecnica_da_habitacao folder\n"
     ]
    },
    {
     "name": "stderr",
     "output_type": "stream",
     "text": [
      "1it [02:24, 144.79s/it]\n"
     ]
    }
   ],
   "source": [
    "from pathlib import Path\n",
    "from tqdm.auto import tqdm\n",
    "\n",
    "for document_type_folder in Path(\"../data\").glob('*/'):\n",
    "    if document_type_folder.name == \"escritura\":\n",
    "        continue\n",
    "    \n",
    "    for document_path in tqdm(Path(document_type_folder).glob(\"*.pdf\")):\n",
    "        load_document(filename=document_path, document_type=document_type_folder.name)"
   ]
  },
  {
   "cell_type": "code",
   "execution_count": 22,
   "metadata": {},
   "outputs": [
    {
     "name": "stdout",
     "output_type": "stream",
     "text": [
      "../data/ficha_tecnica_habitacao/ficha_tecnica_da_habitacao.pdf\n"
     ]
    }
   ],
   "source": []
  },
  {
   "cell_type": "code",
   "execution_count": 3,
   "metadata": {},
   "outputs": [
    {
     "name": "stdout",
     "output_type": "stream",
     "text": [
      "Loaded detection model vikp/surya_det3 on device cpu with dtype torch.float32\n",
      "Loaded detection model vikp/surya_layout3 on device cpu with dtype torch.float32\n",
      "Loaded reading order model vikp/surya_order on device cpu with dtype torch.float32\n",
      "Loaded recognition model vikp/surya_rec2 on device cpu with dtype torch.float32\n",
      "Loaded texify model to cpu with torch.float32 dtype\n"
     ]
    },
    {
     "name": "stderr",
     "output_type": "stream",
     "text": [
      "Detecting bboxes: 100%|██████████| 1/1 [00:06<00:00,  6.58s/it]\n",
      "Detecting bboxes: 100%|██████████| 1/1 [00:03<00:00,  3.88s/it]\n",
      "Finding reading order: 100%|██████████| 1/1 [00:06<00:00,  6.87s/it]\n"
     ]
    },
    {
     "name": "stdout",
     "output_type": "stream",
     "text": [
      "Saved markdown to the /tmp/tmpmx253oww/cpu atualizada folder\n"
     ]
    }
   ],
   "source": [
    "load_document(filename=\"../data/cpu atualizada.pdf\", document_type=\"caderneta_predial\")\n",
    "load_document(filename=\"../data/Escritura.pdf\", document_type=\"licenca_utilizacao\")\n",
    "load_document(filename=\"../data/Acordo Partilha Assinado.pdf\", document_type=\"licenca_utilizacao\")"
   ]
  },
  {
   "cell_type": "code",
   "execution_count": null,
   "metadata": {},
   "outputs": [],
   "source": [
    "types = [\n",
    "    \"certificado_registo_predial\",\n",
    "    \"caderneta_predial\",\n",
    "    \"licenca_utilizacao\",\n",
    "    \"certidao_isencao\",\n",
    "    \"certificado_infraestruturas\",\n",
    "    \"ficha_tecnica_habitacao\",\n",
    "    \"certificado_energetico\",\n",
    "    \"planta_imovel\",\n",
    "    \"documento_kyc\",\n",
    "    \"documento_preferencia\"\n",
    "]"
   ]
  },
  {
   "cell_type": "code",
   "execution_count": null,
   "metadata": {},
   "outputs": [],
   "source": [
    "Quais eram os titulares da caderneta predial que fiz?"
   ]
  },
  {
   "cell_type": "code",
   "execution_count": 6,
   "metadata": {},
   "outputs": [
    {
     "data": {
      "text/plain": [
       "Document(metadata={'source': 'https://example.com'}, page_content='Hello, world!')"
      ]
     },
     "execution_count": 6,
     "metadata": {},
     "output_type": "execute_result"
    }
   ],
   "source": [
    "from langchain.schema.document import Document\n",
    "\n",
    "document = Document(\n",
    "    page_content=\"Hello, world!\",\n",
    "    metadata={\"source\": \"https://example.com\"}\n",
    ")\n",
    "document"
   ]
  },
  {
   "cell_type": "code",
   "execution_count": 7,
   "metadata": {},
   "outputs": [
    {
     "ename": "TypeError",
     "evalue": "argument 'text': 'Document' object cannot be converted to 'PyString'",
     "output_type": "error",
     "traceback": [
      "\u001b[0;31m---------------------------------------------------------------------------\u001b[0m",
      "\u001b[0;31mTypeError\u001b[0m                                 Traceback (most recent call last)",
      "Cell \u001b[0;32mIn[7], line 4\u001b[0m\n\u001b[1;32m      1\u001b[0m \u001b[38;5;28;01mfrom\u001b[39;00m \u001b[38;5;21;01mlangchain_openai\u001b[39;00m \u001b[38;5;28;01mimport\u001b[39;00m OpenAIEmbeddings\n\u001b[1;32m      3\u001b[0m embeddings_model \u001b[38;5;241m=\u001b[39m OpenAIEmbeddings()\n\u001b[0;32m----> 4\u001b[0m \u001b[43membeddings_model\u001b[49m\u001b[38;5;241;43m.\u001b[39;49m\u001b[43membed_documents\u001b[49m\u001b[43m(\u001b[49m\u001b[43m[\u001b[49m\u001b[43mdocument\u001b[49m\u001b[43m]\u001b[49m\u001b[43m)\u001b[49m\n",
      "File \u001b[0;32m~/.pyenv/versions/chatbot-rag-venv/lib/python3.12/site-packages/langchain_openai/embeddings/base.py:616\u001b[0m, in \u001b[0;36mOpenAIEmbeddings.embed_documents\u001b[0;34m(self, texts, chunk_size)\u001b[0m\n\u001b[1;32m    613\u001b[0m \u001b[38;5;66;03m# NOTE: to keep things simple, we assume the list may contain texts longer\u001b[39;00m\n\u001b[1;32m    614\u001b[0m \u001b[38;5;66;03m#       than the maximum context and use length-safe embedding function.\u001b[39;00m\n\u001b[1;32m    615\u001b[0m engine \u001b[38;5;241m=\u001b[39m cast(\u001b[38;5;28mstr\u001b[39m, \u001b[38;5;28mself\u001b[39m\u001b[38;5;241m.\u001b[39mdeployment)\n\u001b[0;32m--> 616\u001b[0m \u001b[38;5;28;01mreturn\u001b[39;00m \u001b[38;5;28;43mself\u001b[39;49m\u001b[38;5;241;43m.\u001b[39;49m\u001b[43m_get_len_safe_embeddings\u001b[49m\u001b[43m(\u001b[49m\u001b[43mtexts\u001b[49m\u001b[43m,\u001b[49m\u001b[43m \u001b[49m\u001b[43mengine\u001b[49m\u001b[38;5;241;43m=\u001b[39;49m\u001b[43mengine\u001b[49m\u001b[43m)\u001b[49m\n",
      "File \u001b[0;32m~/.pyenv/versions/chatbot-rag-venv/lib/python3.12/site-packages/langchain_openai/embeddings/base.py:511\u001b[0m, in \u001b[0;36mOpenAIEmbeddings._get_len_safe_embeddings\u001b[0;34m(self, texts, engine, chunk_size)\u001b[0m\n\u001b[1;32m    495\u001b[0m \u001b[38;5;250m\u001b[39m\u001b[38;5;124;03m\"\"\"\u001b[39;00m\n\u001b[1;32m    496\u001b[0m \u001b[38;5;124;03mGenerate length-safe embeddings for a list of texts.\u001b[39;00m\n\u001b[1;32m    497\u001b[0m \n\u001b[0;32m   (...)\u001b[0m\n\u001b[1;32m    508\u001b[0m \u001b[38;5;124;03m    List[List[float]]: A list of embeddings for each input text.\u001b[39;00m\n\u001b[1;32m    509\u001b[0m \u001b[38;5;124;03m\"\"\"\u001b[39;00m\n\u001b[1;32m    510\u001b[0m _chunk_size \u001b[38;5;241m=\u001b[39m chunk_size \u001b[38;5;129;01mor\u001b[39;00m \u001b[38;5;28mself\u001b[39m\u001b[38;5;241m.\u001b[39mchunk_size\n\u001b[0;32m--> 511\u001b[0m _iter, tokens, indices \u001b[38;5;241m=\u001b[39m \u001b[38;5;28;43mself\u001b[39;49m\u001b[38;5;241;43m.\u001b[39;49m\u001b[43m_tokenize\u001b[49m\u001b[43m(\u001b[49m\u001b[43mtexts\u001b[49m\u001b[43m,\u001b[49m\u001b[43m \u001b[49m\u001b[43m_chunk_size\u001b[49m\u001b[43m)\u001b[49m\n\u001b[1;32m    512\u001b[0m batched_embeddings: List[List[\u001b[38;5;28mfloat\u001b[39m]] \u001b[38;5;241m=\u001b[39m []\n\u001b[1;32m    513\u001b[0m \u001b[38;5;28;01mfor\u001b[39;00m i \u001b[38;5;129;01min\u001b[39;00m _iter:\n",
      "File \u001b[0;32m~/.pyenv/versions/chatbot-rag-venv/lib/python3.12/site-packages/langchain_openai/embeddings/base.py:472\u001b[0m, in \u001b[0;36mOpenAIEmbeddings._tokenize\u001b[0;34m(self, texts, chunk_size)\u001b[0m\n\u001b[1;32m    470\u001b[0m     token \u001b[38;5;241m=\u001b[39m encoding\u001b[38;5;241m.\u001b[39mencode(text, \u001b[38;5;241m*\u001b[39m\u001b[38;5;241m*\u001b[39mencoder_kwargs)\n\u001b[1;32m    471\u001b[0m \u001b[38;5;28;01melse\u001b[39;00m:\n\u001b[0;32m--> 472\u001b[0m     token \u001b[38;5;241m=\u001b[39m \u001b[43mencoding\u001b[49m\u001b[38;5;241;43m.\u001b[39;49m\u001b[43mencode_ordinary\u001b[49m\u001b[43m(\u001b[49m\u001b[43mtext\u001b[49m\u001b[43m)\u001b[49m\n\u001b[1;32m    474\u001b[0m \u001b[38;5;66;03m# Split tokens into chunks respecting the embedding_ctx_length\u001b[39;00m\n\u001b[1;32m    475\u001b[0m \u001b[38;5;28;01mfor\u001b[39;00m j \u001b[38;5;129;01min\u001b[39;00m \u001b[38;5;28mrange\u001b[39m(\u001b[38;5;241m0\u001b[39m, \u001b[38;5;28mlen\u001b[39m(token), \u001b[38;5;28mself\u001b[39m\u001b[38;5;241m.\u001b[39membedding_ctx_length):\n",
      "File \u001b[0;32m~/.pyenv/versions/chatbot-rag-venv/lib/python3.12/site-packages/tiktoken/core.py:69\u001b[0m, in \u001b[0;36mEncoding.encode_ordinary\u001b[0;34m(self, text)\u001b[0m\n\u001b[1;32m     60\u001b[0m \u001b[38;5;250m\u001b[39m\u001b[38;5;124;03m\"\"\"Encodes a string into tokens, ignoring special tokens.\u001b[39;00m\n\u001b[1;32m     61\u001b[0m \n\u001b[1;32m     62\u001b[0m \u001b[38;5;124;03mThis is equivalent to `encode(text, disallowed_special=())` (but slightly faster).\u001b[39;00m\n\u001b[0;32m   (...)\u001b[0m\n\u001b[1;32m     66\u001b[0m \u001b[38;5;124;03m[31373, 995]\u001b[39;00m\n\u001b[1;32m     67\u001b[0m \u001b[38;5;124;03m\"\"\"\u001b[39;00m\n\u001b[1;32m     68\u001b[0m \u001b[38;5;28;01mtry\u001b[39;00m:\n\u001b[0;32m---> 69\u001b[0m     \u001b[38;5;28;01mreturn\u001b[39;00m \u001b[38;5;28;43mself\u001b[39;49m\u001b[38;5;241;43m.\u001b[39;49m\u001b[43m_core_bpe\u001b[49m\u001b[38;5;241;43m.\u001b[39;49m\u001b[43mencode_ordinary\u001b[49m\u001b[43m(\u001b[49m\u001b[43mtext\u001b[49m\u001b[43m)\u001b[49m\n\u001b[1;32m     70\u001b[0m \u001b[38;5;28;01mexcept\u001b[39;00m \u001b[38;5;167;01mUnicodeEncodeError\u001b[39;00m:\n\u001b[1;32m     71\u001b[0m     \u001b[38;5;66;03m# See comment in encode\u001b[39;00m\n\u001b[1;32m     72\u001b[0m     text \u001b[38;5;241m=\u001b[39m text\u001b[38;5;241m.\u001b[39mencode(\u001b[38;5;124m\"\u001b[39m\u001b[38;5;124mutf-16\u001b[39m\u001b[38;5;124m\"\u001b[39m, \u001b[38;5;124m\"\u001b[39m\u001b[38;5;124msurrogatepass\u001b[39m\u001b[38;5;124m\"\u001b[39m)\u001b[38;5;241m.\u001b[39mdecode(\u001b[38;5;124m\"\u001b[39m\u001b[38;5;124mutf-16\u001b[39m\u001b[38;5;124m\"\u001b[39m, \u001b[38;5;124m\"\u001b[39m\u001b[38;5;124mreplace\u001b[39m\u001b[38;5;124m\"\u001b[39m)\n",
      "\u001b[0;31mTypeError\u001b[0m: argument 'text': 'Document' object cannot be converted to 'PyString'"
     ]
    }
   ],
   "source": [
    "from langchain_openai import OpenAIEmbeddings\n",
    "\n",
    "embeddings_model = OpenAIEmbeddings()\n",
    "embeddings_model.embed_documents([document])"
   ]
  },
  {
   "cell_type": "code",
   "execution_count": 9,
   "metadata": {},
   "outputs": [
    {
     "name": "stdout",
     "output_type": "stream",
     "text": [
      "Loaded detection model vikp/surya_det3 on device mps with dtype torch.float16\n",
      "Loaded detection model vikp/surya_layout3 on device mps with dtype torch.float16\n",
      "Loaded reading order model vikp/surya_order on device mps with dtype torch.float16\n",
      "Loaded recognition model vikp/surya_rec2 on device mps with dtype torch.float16\n",
      "Loaded texify model to mps with torch.float16 dtype\n"
     ]
    },
    {
     "name": "stderr",
     "output_type": "stream",
     "text": [
      "Detecting bboxes: 100%|██████████| 3/3 [00:05<00:00,  2.00s/it]\n",
      "Recognizing Text: 100%|██████████| 10/10 [02:26<00:00, 14.67s/it]\n",
      "Detecting bboxes: 100%|██████████| 2/2 [00:04<00:00,  2.18s/it]\n",
      "Finding reading order: 100%|██████████| 2/2 [00:24<00:00, 12.30s/it]\n"
     ]
    },
    {
     "name": "stdout",
     "output_type": "stream",
     "text": [
      "Saved markdown to the ../dataTest/Escritura folder\n"
     ]
    },
    {
     "data": {
      "text/plain": [
       "0"
      ]
     },
     "execution_count": 9,
     "metadata": {},
     "output_type": "execute_result"
    }
   ],
   "source": [
    "filename = \"../data/Escritura.pdf\"\n",
    "\n",
    "# Parse the PDF and convert it to Markdown\n",
    "os.system(f\"\"\"marker_single \"{filename}\" \"../dataTest\" --batch_multiplier 1\"\"\")"
   ]
  },
  {
   "cell_type": "code",
   "execution_count": 10,
   "metadata": {},
   "outputs": [],
   "source": [
    "with open(f\"../dataTest/Escritura/Escritura.md\", \"r\") as f:\n",
    "    doc = f.read()"
   ]
  },
  {
   "cell_type": "code",
   "execution_count": 5,
   "metadata": {},
   "outputs": [
    {
     "name": "stdout",
     "output_type": "stream",
     "text": [
      "# Cartório Notarial De Palmela\n",
      "\n",
      "Telef.:212 350 031 / 212 330 288 - Fax 212 332 542 Av. Rainha D. Leonor, 4 Loja E - 2950 - 204 PALMELA\n",
      "NOTÁRIO\n",
      "\n",
      "![0_image_0.png](0_image_0.png)\n",
      "\n",
      "Licenciado Jerónimo Monteiro Lourenço O Signatário, Ajudante do Cartório Notarial de Palmela\n",
      "-  Que a fotocópia apensa a esta Certidão está conforme o original que restituí o qual tem / não tem aposto o respectivo selo branco.\n",
      "\n",
      "- Que foi extraída neste Cartório da escritura exarada de folhas per\n",
      "-- a folhas ort do livro de notas para escrituras diversas número Que foi extraída neste Cartório do Testamento exarado de folhas _\n",
      "_ a folhas _\n",
      "do livro de Testamentos número_\n",
      "Que fiz extrair do Bilhete de Identidade número emitido em de de pelos\n",
      "- Que fiz extraír do Passaporte número -\n",
      "de_\n",
      "_ por de de de maine\n",
      "...\n",
      "\n",
      "- Que me foi presente para conferir. ----------------------\n",
      "- Que fiz extraír do documento. --------------------------\n",
      "- Que ocupa - Ou 3 l - folhas que têm aposto o respectivo selo branco deste Cartório, estão todas elas numeradas e por ele Ajudante rubricadas.\n",
      "\n",
      "Cartório Notarial de Palmela, aos larco de dois mil e cou CO.\n",
      "\n",
      "de CONTA:\n",
      "Art 020 N.º 4.1 Tip. GOUVELA, LOA\n",
      "Art º 20 N.º 4.1.1 ........................ €\n",
      "O Notário / O Ajudante, Art º 20 N.º 4.1.2 ..............\n",
      "\n",
      "Art.º 20 N.º 4.2 ... .\n",
      "\n",
      "Art º 20 N.º 4.4 ...\n",
      "\n",
      "Registada sob o n.º 008 20.00\n",
      "\n",
      "## Compra E Venda E Mútuo Com Hipoteca\n",
      "\n",
      "![1_Image_0.Png](1_Image_0.Png)\n",
      "\n",
      "-No dia dezoito de Março de dois mil e cinco, no Cartório Notarial de Palmela, perante mim, Licenciado Jerónimo Monteiro Lourenço, respectivo Notário, compareceram como outorgantes: ------ -Primeiro - ARMANDO ROSA DA GRAÇA, casado, natural da freguesia de Freixianda, concelho de Ourém, residente na Rua Carvalho Araújo, lote 5-A, Vale de Milhaços, Corroios, Seixal, que outorga na qualidade de gerente e em representação da sociedade comercia! por quotas de responsabilidade limitada, com a firma ARMANDO ROSA GRAÇA, LIMITADA, NIPC  501 669 523, com sede em Vila Amélia, lote quatrocentos e oito, em Cabanas, freguesia de Quinta do Anjo, concelho de Palmela, matriculada na Conservatória do Registo Comercial de Palmela, sob o número mil oitocentos e trinta, com o capital social de cem mil euros, qualidades e poderes que verifiquei pela certidão comercial que arquivo. \n",
      "\n",
      "-Segundo - TERESA DE JESUS VENTURA VERGUEIRO DE LIMA, casada, natural da freguesia de Pena, concelho de Lisboa, residente na Rua latino Coelho, lote 1688-B, Quinta do Conde 2, freguesia de Quinta do Conde, concelho de Sesimbra, que outorga na qualidade de procurador de : JOÃO MANUEL\n",
      "VENTURA VERGUEIRO e mulher ADELAIDE MADALENA PARADA VENTURA VERGUEIRO, casados sob o regime de comunhão de adquiridos, naturais ele da freguesia de Mina, concelho de Amadora e ela da freguesia de Santa Justa, concelho de Lisboa, residentes na Álemanha, em Seehofstr. 10-A, D-60594 Frankfurt/main, CF 153 103 957 e 158 503 074, respectivamente, nos termos da procuração que arquivo. -\n",
      "-Terceiro - LAUREANA FERNANDA DOS SANTOS CARDOSO, casada, natural da freguesia de Santo António da Charneca, concelho do Barreiro, residente na WOS foso GRACE\n",
      "14 Rua Samora Machel, número 23, 3º andar direito, Baixa da Banheira, concelho da Moita, que outorga na qualidade de procuradora do BANCO COMERCIAL\n",
      "PORTUGUÊS, S.A., com sede no Porto, na Praça D. João I, número vinte e oito, NIPC 501 525 882, matriculado na Conservatória do Registo Comercial do Porto, sob o número quarenta mil'e quarenta e três, com o capital social de três míl duzentos e cinquenta e sete milhões quatrocentos mil oitocentos e vinte e sete euros, adiante designado abreviadamente por Banco, com poderes para o acto, nos termos de fotocópia da procuração já arquivada neste Cartório, por ter servido para instruir o acto exarado com início a folhas quarenta e nove, do livro de notas para escrituras diversas número duzentos e trinta e cinco - E. —\n",
      "-Verifiquei a identidade da terceira outorgante pelo meu conhecimento pessoal e a dos restantes pela exibição dos seus bilhetes de identidade respectivamente números 5015132 de 19/03/2002 e 7044756 de 12/09/2001, ambos emitidos pelo SIC de Lisboa.\n",
      "\n",
      "← PELO PRIMEIRO OUTORGANTE, NA INDICADA QUALIDADE, FOI DITO:\n",
      "-Que, pela presente escritura vende aos representados da segunda outorgante, livre de quaisquer ónus ou encargos, e pelo preço de NOVENTA MIL EUROS, que já recebeu, para a sua representada, o seguinte imóvel:  منذ\n",
      "-Fracção autónoma designíada pela letra \"G\" que corresponde ao segunde andar A, para habitação, do prédio urbano em regime de propriedade horizontal, situado na Urbanização da Cova dos Vidros, Quinta do Conde, lote 26, freguesia de Quinta, do Conde, concelho de Sesimbra, descrito na  Conservatória do Registo Predial de Sesimbra, sob o núméro TRÊS MIL DUZENTOS E CATORZE DA DITA\n",
      "FREGUESIA DE QUINTA DO CONDE, registada a aquisição  a seu  favor péla inscrição G-dois, com a propriedade horizontal registada pela inscrição F-três, com autorização de loteamento registada pela inscrição F-um, inscrito na respectiva\n",
      "\n",
      "![3_image_0.png](3_image_0.png)\n",
      "\n",
      "![3_image_1.png](3_image_1.png)\n",
      "\n",
      "![3_image_2.png](3_image_2.png)\n",
      "\n",
      "matriz sob o artigo 11036, cóm o valor tributável correspondente de 56744,71€.\n",
      "\n",
      "--- PELA SEGUNDA OUTORGAÑTE, NA INDICADA QUALIDADE, FOI DITO:-\n",
      "-Que, para os seus representados, aceita a presente venda, nos termos exarados, e que a fracção adquirida no presente acto se destina a habitação própria permanente. \n",
      "\n",
      "-Que, confessa os seus representados, devedores ao Banco Comercial Português, S.A., que o terceiro outorgante representa, da importância de NOVENTA MIL\n",
      "EUROS, que  do mesmo Banco recebeu a título deste empréstimo e que vai ser aplicada na precedente aquisição.\n",
      "\n",
      "-Que, os seus representados, constituem a favor daquele Banco hipoteca sobre a fracção autónoma atrás identificada e ora adquirida para garantia do pagamento e liquidação da quantia mutuada, e bem assim dos respectivos juros à taxa anual efectiva de três virgula oitenta e cinco por cento, acrescidos de uma sobretaxa até quatro por  cento ao ano em caso de mora, a título de cláusula penal e despesas judiciais e extrajudiciais fixadas para efeitos de registo em três mil e seiscentos euros.\n",
      "\n",
      "-Que o empréstimo e a hipoteca se regulam pelo Decreto-Lei nº349/98, de 11 de Novembro (Regime Gerál) e demais disposições legais aplicáveis e pelas condições constantes do documento complementar, de que tem perfeito conhecimento e inteiramente aceitam, elaborado de harmonia com o número dois do artigo sessenta e quatro do Código do Notariado. \n",
      "\n",
      "PELO TERCEIRO OUTORGANTE, NA SUA INDICADA QUALIDADE, FOI -\n",
      "DITO: -\n",
      "-Que para o Banco seu representado, aceita a confissão de divida e hipoteca, nos COUVEIA, LDA\n",
      "termos exarados. (\n",
      "___ PELOS PRIMEIRO E SEGUNDA OUTORGANTES, NAS INDICADAS\n",
      "QUALIDADES, FOI DITO: \n",
      "-Que, dando cumprimento ao disposto no artº50 do Dec-Lei nº211/2004 de 20/08,\n",
      "/declaram que interveio como mediador  imobiliário/no presente acto, Calalau &\n",
      "Pereira - Sociedade Mediação Imobiliária, LDA, titular da licença número 826 -\n",
      "AMI advertindo-os das consequências previstas no mesmo, pelas falsas declarações. \n",
      "\n",
      "## Assim O Outorgaram\n",
      "\n",
      "-Arquivo:  a)Imposto  municipal  de  transmissões,  documento número 160.005.005.095.403 e respectiva declaração nº 57007, emitida em 16/03/2005, pelo 1º Serviço de Finanças do Seixal, e cobrado na mesma data, no montante de 168,00€; e\n",
      "-b) O mencionado documento complementar.\n",
      "\n",
      "-Exibiram: \n",
      "-a) Certidão emitida pela aludida Conservatória aos 04/03/2005, comprovativa dos elementos de registo;\n",
      "-b) Fotocópia certificada da declaração para a inscrição na matriz do citado prédio e do pedido para a sua inscrição na indicada data; e Alvará de licença de utilização nº 7/01, emitido em 08/01/2001, pela Câmara Municipal de Sesimbra, para o aludido prédio.\n",
      "\n",
      "-Esta escritura foi lida aos outorgantes é feita a explicação do seu conteúdo em voz alta e na presença simultânea de todos, tendo sido liquidado hoje por este acto de imposto de selo a quantia de setecentos e quarenta e cinco euros.\n",
      "\n",
      "![5_image_0.png](5_image_0.png)\n",
      "\n",
      "![5_image_1.png](5_image_1.png)\n",
      "\n",
      "TERESS de JESUS I trived JERGIEN de Lind Jamena Faucuda Sauks Coudes taind 1001 epe Estatística n.º ર રે\n",
      "Conta n.º ...\n",
      "\n",
      "3\n",
      "  \n",
      "11\n",
      " \\#\n",
      " มาร 190 2\n",
      "ાં\n",
      "  \n",
      ". \n",
      "\n",
      " ප 文 立 πρ. σουνεία, ισα. - τοπ DOCUMENTO COMPLEMENTAR ELABORADO NOS TERMOS DO\n",
      "\n",
      "![6_image_0.png](6_image_0.png)\n",
      "\n",
      "NÚMERO DOIS DO ARTIGO SESSENTA E QUATRO DO CÓDIGO DO\n",
      "NOTARIADO, e que faz parte integrante da escritura lavrada em pezorro  DE\n",
      "MARÇO DE DOIS MIL É CINCO A FOLHAS DEZ E SEGUINTES DO LOIVRO DE NOTAS PARA\n",
      "ESCRITURAS DIVERSA NUMERO DUZENTOS E SETENTA E ÜM-E DO CARTORIO NOTARIAL DE\n",
      "PALMELA . \n",
      "\n",
      "CLÁUSULAS DO CONTRATO DE MÚTUO COM HIPOTECA, no montante de NOVENTA MIL EUROS, celebrado entre \"Banco Comercial Português, S.A.\", pessoa colectiva número 501525882, adiante designado apenas por Banco, e JOÃO MANUEL -VENTURA VERGUEIRO re ADELAIDE MADALENA PARADA VENTURA VERGUEIRO, adiante designados por MUTUÁRIOS; -------------------\n",
      "PRIMEIRA : A quantia mutuada é nesta data entregue pelo Banco por crédito da conta de depósito à ordem número quatro cinco dois oito quatro oito quatro dois zero sete cinco aberta em nome dos MUTUÁRIOS junto do Banco Comercial Português, S.A. -\n",
      "SEGUNDA : 1. O empréstimo é concedido pelo prazo de quatrocentos e vinte meses a contar do próximo dia vinte e cinco, salvo se esse dia coincidir com a data da escritura, e sendo assim, o prazo iniciar-se-á a partir 'dessa data, e será amortizado em quatrocentos e vinte prestações mensais, de capital e juros, a primeira com vencimento no mesmo dia do mês seguinte e as restantes em igual dia dos meses subsequentes. ----------------------------\n",
      "2. Caso a escritura não coincida com o dia vinte e cinco, os juros respeitantes ao período que decorre entre a data da entrega, pelo Banco, da quantia mutuada e a data de início do prazo indicada no ponto anterior, serão cobrados nesse dia ---- TERCEIRA : 1. O empréstimo vence juros sobre o capital em dívida, AND AND\n",
      "\n",
      "![7_image_0.png](7_image_0.png)\n",
      "\n",
      "![7_image_1.png](7_image_1.png)\n",
      "\n",
      "calculados dia a dia e cobrados postecipadamente ao mês, à taxa resultante da EURIBOR (European InterBank Offer Rate) a noventa dias, que vigore no segundo dia útil anterior ao início do período de contagem de juros, acrescida de //\n",
      "um vírgula seis  pontos percentuàis, com arredondamento para o quarto ponto percentual imediatamente superior. - 2. À taxa nominal na data de aprovação do presente empréstimo de três vírgula setenta e cinco por cento corresponde a taxa anual efectiva de três vírgula oitenta e cinco por cento, calculada nos termos do Decreto Lei número Duzentos e Vinte barra Noventa e Quatro de Vinte e Três de Agosto. ------------\n",
      "3. Os períodos de contagem de juros serão trimestrais. -----------------------------\n",
      "4. Em cada período de contagem de juros a taxa de juro manter-se-á inalterável. \n",
      "\n",
      "5. Se o indexante referido no número um (EURIBOR) deixar de existir ou, no entender do Banco, perder a sua actual representatividade haverá lugar à sua substituição por iniciativa do Banco, obrigando-se este a escolher para indexante uma outra taxa disponível no mercado e que tenha uma representatividade o mais aproximada possível à actual representatividade da EURIBOR.---------------------\n",
      "QUARTA : 1. Em caso de mora, os juros serão contados dia a dia e calculados à taxa que estiver em vigor, acrescida de uma sobretaxa de quatro por cento ao ano, a título de cláusula penal. -\n",
      "2. O Banco reserva-se o direito de, a todo o tempo e independentemente de qualquer regime especial aplicável, capitalizar juros remuneratórios correspondentes a um período não inferior a três meses e juros moratórios correspondentes a um período não inferior a um ano, adicionando tais juros ao capital em dívida, passando aqueles a seguir todo o regime deste.----------------------\n",
      "QUINTA : 1. Não obstante se entender que o prazo de amortização fica estabelecido a favor de ambas as partes, os MUTUÁRIOS podem antecipar, no\n",
      "\n",
      "![8_image_0.png](8_image_0.png)\n",
      "\n",
      "![8_image_1.png](8_image_1.png)\n",
      "\n",
      "![8_image_2.png](8_image_2.png)\n",
      "\n",
      "![8_image_3.png](8_image_3.png)\n",
      "\n",
      "todo ou em parte, em qualquer altura do empréstimo, a amortização do mesmo desde que dessa intenção previnam o Banco com a antecedência mínima de quinze dias, não havendo, porém, em caso algum, qualquer restituição de juros já cobrados. \n",
      "\n",
      "2. As amortizações parciais deverão ser efectuadas em data coincidente com os vencimentos das prestações de reembolso do empréstimo. -------------------------\n",
      "3. Quando a antecipação da amortização seja parcial, ela não poderá ser inferior a mil duzentos e cinquenta euros. \n",
      "\n",
      "4. Sempre que na data de qualquer amortização parcial antecipada, ou por força desta, o capital em dívida, seja igual ou inferior a metade do capital inicialmente mutuado, por força quer das amortizações ordinárias quer das extraordinárias, os Mutuários indemnizarão o Banco em quantia equivalente a dois por cento do capital amortizado antecipadamente. \n",
      "\n",
      "5. Se os Mutuários optarem pela antecipação total da amortização, indemnizarão o Banco em quantia equivalente a três por cento do capital amortizado antecipadamente. \n",
      "\n",
      "SEXTA : Os pagamentos a efectuar pelos MUTUÁRIOS para liquidação do capital mutuado, respectivos juros ou outros encargos devidos por força do estipulado no presente contrato, serão efectuados por débito na conta de depósitos à ordem mencionada anteriormente ou em qualquer conta de que os mutuários sejam ou venham a ser titulares junto do Banco Comercial Português, S.A., autorizando, desde já, os MUTUÁRIOS os débitos. -\n",
      "SÉTIMA : A hipoteca ora constituída pelos MUTUÁRIOS abrange todas as construções, benfeitorias e acessões, presentes e futuras, do imóvel hipotecado, pelo que os MUTUÁRIOS desde já se obrigam a proceder aos respectivos averbamentos junto das repartições públicas competentes. ------------------------\n",
      "OITAVA : 1. O Banco, sempre que o julgue necessário, poderá mandar inspeccionar, bem como avaliar à custa dos MUTUÁRIOS, o imóvel hipotecado para o efeito do artigo setecentos e um do Gódigo Civil, sendo as correspondentes despesas, que ficam cobertas pela garantia ora prestada, debitadas na conta de depósitos à ordem mencionada anteriormente, autorizando, desde já, os MUTUÁRIOS os débitos. \n",
      "\n",
      "2. Os MUTUÁRIOS obrigam-se a reforçar a garantia prestada sempre que o Banco a considerar insuficiente para a segurança do seu crédito. ----------------\n",
      "NONA : A presente hipoteca poderá ser executada: \n",
      "a) se não forem pagas as prestações nas datas previstas, caso em que a falta de pagamento de uma delas importa o vencimento imediato de todas; ---------------\n",
      "b) se o imóvel ora hipotecado vier a ser alienado, onerado, arrendado, total ou parcialmente, objecto de arresto, execução ou qualquer outro procedimento cautelar ou acção judicial, casos em que se consideram igualmente vencidas e exigíveis as obrigações que assegura; c) se os MUTUÁRIOS utilizarem' para fim divérso do declarado, tanto o empréstimo como o imóvel; d) se se vencer qualquer das obrigações cujo cumprimento assegura, ou se não for cumprido qualquer dos deveres que para os MUTUÁRIOS decorrem deste contrato. \n",
      "\n",
      "DÉCIMA : 1. Os MUTUÁRIOS obrigam-se a subscrever um SEGURO\n",
      "MULTIRISCOS do imóvel ora hipotecado em sociedade de seguros de reconhecido crédito e da confiança do Banco, a pagar atempadamente os respectivos prémios, a fazer inserir na respectiva apólice a existência desta\n",
      "\n",
      "![10_image_0.png](10_image_0.png)\n",
      "\n",
      "hipoteca para o efeito de, em caso de sinistro e vencida alguma das obrigações asseguradas, o Banco receber a respectiva indemnização, assim como a trazer pontualmente pagas as contribuições que incidirem sobre o imóvel hipotecado. -\n",
      "2. Os MUTUÁRIOS obrigam-se a contratar um SEGURO DE VIDA cujas condições, constantes da respectiva apólice, serão as indicadas pelo Banco, em sociedade de seguros de reconhecido crédito e da confiança do Banco, a pagar atempadamente os respectivos prémios, a fazer inserir na respectiva apólice que o Banco é credor hipotecário e que, em consequência, as indemnizações que sejam devidas em caso de sinistro reverterão para o Banco. --------\n",
      "3. As apólices e actas adicionais dos seguros acima referidos ficarão em poder do Banco mutuante como interessado nos mesmos, na qualidade de credor hipotecário. Só por intermédio do Banco e com o seu acordo por escrito os seguros poderão ser alterados ou anulados. -----------------------\n",
      "DÉCIMA PRIMEIRA : 1. Os MUTUÁRIOS obrigam-se a trazer pontualmente pagos os seguros referidos na cláusula anterior. -----------------\n",
      "2. Os MUTUÁRIOS autorizam desde já, com expressa subrogação, que, em caso de incumprimento de tais obrigações, ó Banco as cumpra, efectuando por conta dos MUTUÁRIOS todos os pagamentos necessários, caso em que os correspondentes recibos e conhecimentos ficam igualmente a fazer parte desta escritura, para efeitos do artigo quinquagésimo do Código de Processo Civil e os débitos abrangidos pela garantia. \n",
      "\n",
      "3. Se o Banco efeetuar, na falta e por conta dos MUTUÁRIOS, o pagamento dos.\n",
      "\n",
      "prémios e das contribuições em dívida, nos termos do disposto no número anterior, os MUTUÁRIOS autorizam desde já o Banco a debitar os seus montantes em qualquer conta aberta em nome dos MUTUÁRIOS junto do Banco Comercial Português, S.A. ----------\n",
      "DÉCIMA SEGUNDA : O crédito cuja garantia é a hipoteca ora constituída fica afecto, sem qualquer prejuízo para os MUTUÁRIOS, ao cumprimento de\n",
      "\"Obrigações Hipotecárias\" a emitir pelo Banco, ao abrigo dos Decretos Lei número Gento e Vinte Cinco barra Noventa, de Dezasseis de Abril e Dezassete barra Noventa e Cinco, de Vinte e Sete de Janeiro, e demais legislação aplicável.\n",
      "\n",
      "DÉCIMA TERCEIRA : Ficam por conta dos MUTUÁRIOS todas as despesas de segurança e cobrança do empréstimo, designadamente as deste contrato, do registo da hipoteca e do seu distrate e as de qualquer avaliação que o Banco mande efectuar ao imóvel·hipotecado. -----------------------\n",
      "DÉCIMA QUARTA : Para todas as questões emergentes do presente contrato as partes convencionam o foro da comarca de Lisboa, com expressa renúncia a qualquer outro. ----\n",
      "76505 I trived 1678 circus de lima Scelebs Caudisd Ferrecuda\n"
     ]
    }
   ],
   "source": [
    "print(doc)"
   ]
  },
  {
   "cell_type": "markdown",
   "metadata": {},
   "source": [
    "# Header chunking"
   ]
  },
  {
   "cell_type": "code",
   "execution_count": 12,
   "metadata": {},
   "outputs": [
    {
     "data": {
      "text/plain": [
       "[Document(metadata={'Header 1': 'Cartório Notarial De Palmela'}, page_content='# Cartório Notarial De Palmela  \\nTelef.:212 350 031 / 212 330 288 - Fax 212 332 542 Av. Rainha D. Leonor, 4 Loja E - 2950 - 204 PALMELA\\nNOTÁRIO\\nLicenciado Jerónimo Monteiro Lourenço O Signatário, Ajudante do Cartório Notarial de Palmela\\n-  Que a fotocópia apensa a esta Certidão está conforme o original que restituí o qual tem / não tem aposto o respectivo selo branco.  \\n- Que foi extraída neste Cartório da escritura exarada de folhas per\\n-- a folhas ort do livro de notas para escrituras diversas número Que foi extraída neste Cartório do Testamento exarado de folhas _\\n_ a folhas _\\ndo livro de Testamentos número_\\nQue fiz extrair do Bilhete de Identidade número emitido em de de pelos\\n- Que fiz extraír do Passaporte número -\\nde_\\n_ por de de de maine\\n..  \\n- Que me foi presente para conferir. ----------------------\\n- Que fiz extraír do documento. -------------------------\\n- Que ocupa - Ou 3 l - folhas que têm aposto o respectivo selo branco deste Cartório, estão todas elas numeradas e por ele Ajudante rubricadas.  \\nCartório Notarial de Palmela, aos larco de dois mil e cou CO.  \\nde CONTA:\\nArt 020 N.º 4.1 Tip. GOUVELA, LOA\\nArt º 20 N.º 4.1.1 ........................ €\\nO Notário / O Ajudante, Art º 20 N.º 4.1.2 ..............  \\nArt.º 20 N.º 4.2 ... .  \\nArt º 20 N.º 4.4 ...  \\nRegistada sob o n.º 008 20.00'),\n",
       " Document(metadata={'Header 1': 'Cartório Notarial De Palmela', 'Header 2': 'Compra E Venda E Mútuo Com Hipoteca'}, page_content='## Compra E Venda E Mútuo Com Hipoteca  \\n-No dia dezoito de Março de dois mil e cinco, no Cartório Notarial de Palmela, perante mim, Licenciado Jerónimo Monteiro Lourenço, respectivo Notário, compareceram como outorgantes: ------ -Primeiro - ARMANDO ROSA DA GRAÇA, casado, natural da freguesia de Freixianda, concelho de Ourém, residente na Rua Carvalho Araújo, lote 5-A, Vale de Milhaços, Corroios, Seixal, que outorga na qualidade de gerente e em representação da sociedade comercia! por quotas de responsabilidade limitada, com a firma ARMANDO ROSA GRAÇA, LIMITADA, NIPC  501 669 523, com sede em Vila Amélia, lote quatrocentos e oito, em Cabanas, freguesia de Quinta do Anjo, concelho de Palmela, matriculada na Conservatória do Registo Comercial de Palmela, sob o número mil oitocentos e trinta, com o capital social de cem mil euros, qualidades e poderes que verifiquei pela certidão comercial que arquivo.  \\n-Segundo - TERESA DE JESUS VENTURA VERGUEIRO DE LIMA, casada, natural da freguesia de Pena, concelho de Lisboa, residente na Rua latino Coelho, lote 1688-B, Quinta do Conde 2, freguesia de Quinta do Conde, concelho de Sesimbra, que outorga na qualidade de procurador de : JOÃO MANUEL\\nVENTURA VERGUEIRO e mulher ADELAIDE MADALENA PARADA VENTURA VERGUEIRO, casados sob o regime de comunhão de adquiridos, naturais ele da freguesia de Mina, concelho de Amadora e ela da freguesia de Santa Justa, concelho de Lisboa, residentes na Álemanha, em Seehofstr. 10-A, D-60594 Frankfurt/main, CF 153 103 957 e 158 503 074, respectivamente, nos termos da procuração que arquivo. -\\n-Terceiro - LAUREANA FERNANDA DOS SANTOS CARDOSO, casada, natural da freguesia de Santo António da Charneca, concelho do Barreiro, residente na WOS foso GRACE\\n14 Rua Samora Machel, número 23, 3º andar direito, Baixa da Banheira, concelho da Moita, que outorga na qualidade de procuradora do BANCO COMERCIAL\\nPORTUGUÊS, S.A., com sede no Porto, na Praça D. João I, número vinte e oito, NIPC 501 525 882, matriculado na Conservatória do Registo Comercial do Porto, sob o número quarenta mil\\'e quarenta e três, com o capital social de três míl duzentos e cinquenta e sete milhões quatrocentos mil oitocentos e vinte e sete euros, adiante designado abreviadamente por Banco, com poderes para o acto, nos termos de fotocópia da procuração já arquivada neste Cartório, por ter servido para instruir o acto exarado com início a folhas quarenta e nove, do livro de notas para escrituras diversas número duzentos e trinta e cinco - E. —\\n-Verifiquei a identidade da terceira outorgante pelo meu conhecimento pessoal e a dos restantes pela exibição dos seus bilhetes de identidade respectivamente números 5015132 de 19/03/2002 e 7044756 de 12/09/2001, ambos emitidos pelo SIC de Lisboa.  \\n← PELO PRIMEIRO OUTORGANTE, NA INDICADA QUALIDADE, FOI DITO:\\n-Que, pela presente escritura vende aos representados da segunda outorgante, livre de quaisquer ónus ou encargos, e pelo preço de NOVENTA MIL EUROS, que já recebeu, para a sua representada, o seguinte imóvel:  نف\\n-Fracção autónoma designíada pela letra \"G\" que corresponde ao segunde andar A, para habitação, do prédio urbano em regime de propriedade horizontal, situado na Urbanização da Cova dos Vidros, Quinta do Conde, lote 26, freguesia de Quinta, do Conde, concelho de Sesimbra, descrito na  Conservatória do Registo Predial de Sesimbra, sob o núméro TRÊS MIL DUZENTOS E CATORZE DA DITA\\nFREGUESIA DE QUINTA DO CONDE, registada a aquisição  a seu  favor péla inscrição G-dois, com a propriedade horizontal registada pela inscrição F-três, com autorização de loteamento registada pela inscrição F-um, inscrito na respectiva matriz sob o artigo 11036, cóm o valor tributável correspondente de 56744,71€.  \\n--- PELA SEGUNDA OUTORGAÑTE, NA INDICADA QUALIDADE, FOI DITO:-\\n-Que, para os seus representados, aceita a presente venda, nos termos exarados, e que a fracção adquirida no presente acto se destina a habitação própria permanente.  \\n-Que, confessa os seus representados, devedores ao Banco Comercial Português, S.A., que o terceiro outorgante representa, da importância de NOVENTA MIL\\nEUROS, que  do mesmo Banco recebeu a título deste empréstimo e que vai ser aplicada na precedente aquisição.  \\n-Que, os seus representados, constituem a favor daquele Banco hipoteca sobre a fracção autónoma atrás identificada e ora adquirida para garantia do pagamento e liquidação da quantia mutuada, e bem assim dos respectivos juros à taxa anual efectiva de três virgula oitenta e cinco por cento, acrescidos de uma sobretaxa até quatro por  cento ao ano em caso de mora, a título de cláusula penal e despesas judiciais e extrajudiciais fixadas para efeitos de registo em três mil e seiscentos euros.  \\n-Que o empréstimo e a hipoteca se regulam pelo Decreto-Lei nº349/98, de 11 de Novembro (Regime Gerál) e demais disposições legais aplicáveis e pelas condições constantes do documento complementar, de que tem perfeito conhecimento e inteiramente aceitam, elaborado de harmonia com o número dois do artigo sessenta e quatro do Código do Notariado.  \\nPELO TERCEIRO OUTORGANTE, NA SUA INDICADA QUALIDADE, FOI -\\nDITO: -\\n-Que para o Banco seu representado, aceita a confissão de divida e hipoteca, nos COUVEIA, LDA\\ntermos exarados. (\\n___ PELOS PRIMEIRO E SEGUNDA OUTORGANTES, NAS INDICADAS\\nQUALIDADES, FOI DITO:\\n-Que, dando cumprimento ao disposto no artº50 do Dec-Lei nº211/2004 de 20/08,\\n/declaram que interveio como mediador  imobiliário/no presente acto, Calalau &\\nPereira - Sociedade Mediação Imobiliária, LDA, titular da licença número 826 -\\nAMI advertindo-os das consequências previstas no mesmo, pelas falsas declarações.'),\n",
       " Document(metadata={'Header 1': 'Cartório Notarial De Palmela', 'Header 2': 'Assim O Outorgaram'}, page_content='## Assim O Outorgaram  \\n-Arquivo:  a)Imposto  municipal  de  transmissões,  documento número 160.005.005.095.403 e respectiva declaração nº 57007, emitida em 16/03/2005, pelo 1º Serviço de Finanças do Seixal, e cobrado na mesma data, no montante de 168,00€; e\\n-b) O mencionado documento complementar.  \\n-Exibiram:\\n-a) Certidão emitida pela aludida Conservatória aos 04/03/2005, comprovativa dos elementos de registo;\\n-b) Fotocópia certificada da declaração para a inscrição na matriz do citado prédio e do pedido para a sua inscrição na indicada data; e Alvará de licença de utilização nº 7/01, emitido em 08/01/2001, pela Câmara Municipal de Sesimbra, para o aludido prédio.  \\n-Esta escritura foi lida aos outorgantes é feita a explicação do seu conteúdo em voz alta e na presença simultânea de todos, tendo sido liquidado hoje por este acto de imposto de selo a quantia de setecentos e quarenta e cinco euros.  \\nCARTÓRIO NOTARIAL\\nPAL MELA\\nLivro 27 Fls.\\nTERESS de JESUS I trived JERGIEN de Lind Jamena Faucuda Sauks Coudes taind 1001 epe Estatística n.º ર રે\\nConta n.º ...  \\n3  \\n11\\n::  \\n190 2\\nાં\\n100\\n.  \\nප 文 色 πρ. σουνεία, ισα. - τομ DOCUMENTO COMPLEMENTAR ELABORADO NOS TERMOS DO\\nNÚMERO DOIS DO ARTIGO SESSENTA E QUATRO DO CÓDIGO DO\\nNOTARIADO, e que faz parte integrante da escritura lavrada em pezorro  DE\\nMARÇO DE DOIS MIL É CINCO A FOLHAS DEZ E SEGUINTES DO LOIVRO DE NOTAS PARA\\nESCRITURAS DIVERSA NUMERO DUZENTOS E SETENTA E ÜM-E DO CARTORIO NOTARIAL DE\\nPALMELA .  \\nCLÁUSULAS DO CONTRATO DE MÚTUO COM HIPOTECA, no montante de NOVENTA MIL EUROS, celebrado entre \"Banco Comercial Português, S.A.\", pessoa colectiva número 501525882, adiante designado apenas por Banco, e JOÃO MANUEL -VENTURA VERGUEIRO re ADELAIDE MADALENA PARADA VENTURA VERGUEIRO, adiante designados por MUTUÁRIOS; -------------------\\nPRIMEIRA : A quantia mutuada é nesta data entregue pelo Banco por crédito da conta de depósito à ordem número quatro cinco dois oito quatro oito quatro dois zero sete cinco aberta em nome dos MUTUÁRIOS junto do Banco Comercial Português, S.A.  \\nSEGUNDA : 1. O empréstimo é concedido pelo prazo de quatrocentos e vinte meses a contar do próximo dia vinte e cinco, salvo se esse dia coincidir com a data da escritura, e sendo assim, o prazo iniciar-se-á a partir \\'dessa data, e será amortizado em quatrocentos e vinte prestações mensais, de capital e juros, a primeira com vencimento no mesmo dia do mês seguinte e as restantes em igual dia dos meses subsequentes. ----------------------------\\n2. Caso a escritura não coincida com o dia vinte e cinco, os juros respeitantes ao período que decorre entre a data da entrega, pelo Banco, da quantia mutuada e a data de início do prazo indicada no ponto anterior, serão cobrados nesse dia.---- TERCEIRA : 1. O empréstimo vence juros sobre o capital em dívida, AND AND\\ncalculados dia a dia e cobrados postecipadamente ao mês, à taxa resultante da EURIBOR (European InterBank Offer Rate) a noventa dias, que vigore no segundo dia útil anterior ao início do período de contagem de juros, acrescida de // um vírgula seis  pontos percentuais, com arredondamento para o quarto ponto percentual imediatamente superior. - 2. À taxa nominal na data de aprovação do presente empréstimo de três vírgula setenta e cinco por cento corresponde a taxa anual efectiva de três vírgula oitenta e cinco por cento, calculada nos termos do Decreto Lei número Duzentos e Vinte barra Noventa e Quatro de Vinte e Três de Agosto. ------------\\n3. Os períodos de contagem de juros serão trimestrais. ----------------------------\\n4. Em cada período de contagem de juros a taxa de juro manter-se-á inalterável.  \\n5. Se o indexante referido no número um (EURIBOR) deixar de existir ou, no entender do Banco, perder a sua actual representatividade haverá lugar à sua substituição por iniciativa do Banco, obrigando-se este a escolher para indexante uma outra taxa disponível no mercado e que tenha uma representatividade o mais aproximada possível à actual representatividade da EURIBOR.---------------------\\nQUARTA : 1. Em caso de mora, os juros serão contados dia a dia e calculados à taxa que estiver em vigor, acrescida de uma sobretaxa de quatro por cento ao ano, a título de cláusula penal. -\\n2. O Banco reserva-se o direito de, a todo o tempo e independentemente de qualquer regime especial aplicável, capitalizar juros remuneratórios correspondentes a um período não inferior a três meses e juros moratórios correspondentes a um período não inferior a um ano, adicionando tais juros ao capital em dívida, passando aqueles a seguir todo o regime deste.----------------------------\\nQUINTA : 1. Não obstante se entender que o prazo de amortização fica estabelecido a favor de ambas as partes, os MUTUÁRIOS podem antecipar, no todo ou em parte, em qualquer altura do empréstimo, a amortização do mesmo desde que dessa intenção previnam o Banco com a antecedência mínima de quinze dias, não havendo, porém, em caso algum, qualquer restituição de juros já cobrados.  \\n2. As amortizações parciais deverão ser efectuadas em data coincidente com os vencimentos das prestações de reembolso do empréstimo. -------------------------\\n3. Quando a antecipação da amortização seja parcial, ela não poderá ser inferior a mil duzentos e cinquenta euros.  \\n4. Sempre que na data de qualquer amortização parcial antecipada, ou por força desta, o capital em dívida, seja igual ou inferior a metade do capital inicialmente mutuado, por força quer das amortizações ordinárias quer das extraordinárias, os Mutuários indemnizarão o Banco em quantia equivalente a dois por cento do capital amortizado antecipadamente.  \\n5. Se os Mutuários optarem pela antecipação total da amortização, indemnizarão o Banco em quantia equivalente a três por cento do capital amortizado antecipadamente.  \\nSEXTA : Os pagamentos a efectuar pelos MUTUÁRIOS para liquidação do capital mutuado, respectivos juros ou outros encargos devidos por força do estipulado no presente contrato, serão efectuados por débito na conta de depósitos à ordem mencionada anteriormente ou em qualquer conta de que os mutuários sejam ou venham a ser titulares junto do Banco Comercial Português, S.A., autorizando, desde já, os MUTUÁRIOS os débitos. -\\nSÉTIMA : A hipoteca ora constituída pelos MUTUÁRIOS abrange todas as construções, benfeitorias e acessões, presentes e futuras, do imóvel hipotecado, pelo que os MUTUÁRIOS desde já se obrigam a proceder aos respectivos averbamentos junto das repartições públicas competentes. ------------------------\\nOITAVA : 1. O Banco, sempre que o julgue necessário, poderá mandar inspeccionar, bem como avaliar à custa dos MUTUÁRIOS, o imóvel hipotecado para o efeito do artigo setecentos e um do Gódigo Civil, sendo as correspondentes despesas, que ficam cobertas pela garantia ora prestada, debitadas na conta de depósitos à ordem mencionada anteriormente, autorizando, desde já, os MUTUÁRIOS os débitos.  \\n2. Os MUTUÁRIOS obrigam-se a reforçar a garantia prestada sempre que o Banco a considerar insuficiente para a segurança do seu crédito. ----------------\\nNONA : A presente hipoteca poderá ser executada:\\na) se não forem pagas as prestações nas datas previstas, caso em que a falta de pagamento de uma delas importa o vencimento imediato de todas; ---------------\\nb) se o imóvel ora hipotecado vier a ser alienado, onerado, arrendado, total ou parcialmente, objecto de arresto, execução ou qualquer outro procedimento cautelar ou acção judicial, casos em que se consideram igualmente vencidas e exigíveis as obrigações que assegura; c) se os MUTUÁRIOS utilizarem\\' para fim divérso do declarado, tanto o empréstimo como o imóvel; d) se se vencer qualquer das obrigações cujo cumprimento assegura, ou se não for cumprido qualquer dos deveres que para os MUTUÁRIOS decorrem deste contrato.  \\nDÉCIMA : 1. Os MUTUÁRIOS obrigam-se a subscrever um SEGURO\\nMULTIRISCOS do imóvel ora hipotecado em sociedade de seguros de reconhecido crédito e da confiança do Banco, a pagar atempadamente os respectivos prémios, a fazer inserir na respectiva apólice a existência desta hipoteca para o efeito de, em caso de sinistro e vencida alguma das obrigações asseguradas, o Banco receber a respectiva indemnização, assim como a trazer pontualmente pagas as contribuições que incidirem sobre o imóvel hipotecado. -\\n2. Os MUTUÁRIOS obrigam-se a contratar um SEGURO DE VIDA cujas condições, constantes da respectiva apólice, serão as indicadas pelo Banco, em sociedade de seguros de reconhecido crédito e da confiança do Banco, a pagar atempadamente os respectivos prémios, a fazer inserir na respectiva apólice que o Banco é credor hipotecário e que, em consequência, as indemnizações que sejam devidas em caso de sinistro reverterão para o Banco. --------\\n3. As apólices e actas adicionais dos seguros acima referidos ficarão em poder do Banco mutuante como interessado nos mesmos, na qualidade de credor hipotecário. Só por intermédio do Banco e com o seu acordo por escrito os seguros poderão ser alterados ou anulados. -----------------------\\nDÉCIMA PRIMEIRA : 1. Os MUTUÁRIOS obrigam-se a trazer pontualmente pagos os seguros referidos na cláusula anterior. -----------------\\n2. Os MUTUÁRIOS autorizam desde já, com expressa subrogação, que, em caso de incumprimento de tais obrigações, ó Banco as cumpra, efectuando por conta dos MUTUÁRIOS todos os pagamentos necessários, caso em que os correspondentes recibos e conhecimentos ficam igualmente a fazer parte desta escritura, para efeitos do artigo quinquagésimo do Código de Processo Civil e os débitos abrangidos pela garantia. -\\n3. Se o Banco efeetuar, na falta e por conta dos MUTUÁRIOS, o pagamento dos.  \\nprémios e das contribuições em dívida, nos termos do disposto no número anterior, os MUTUÁRIOS autorizam desde já o Banco a debitar os seus montantes em qualquer conta aberta em nome dos MUTUÁRIOS junto do Banco Comercial Português, S.A. ----------\\nDÉCIMA SEGUNDA : O crédito cuja garantia é a hipoteca ora constituída fica afecto, sem qualquer prejuízo para os MUTUÁRIOS, ao cumprimento de\\n\"Obrigações Hipotecárias\" a emitir pelo Banco, ao abrigo dos Decretos Lei número Gento e Vinte Cinco barra Noventa, de Dezasseis de Abril e Dezassete barra Noventa e Cinco, de Vinte e Sete de Janeiro, e demais legislação aplicável.  \\nDÉCIMA TERCEIRA : Ficam por conta dos MUTUÁRIOS todas as despesas de segurança e cobrança do empréstimo, designadamente as deste contrato, do registo da hipoteca e do seu distrate e as de qualquer avaliação que o Banco mande efectuar ao imóvel·hipotecado. -----------------------\\nDÉCIMA QUARTA : Para todas as questões emergentes do presente contrato as partes convencionam o foro da comarca de Lisboa, com expressa renúncia a qualquer outro. ----\\n76505 I trived 1678 circus de lima Scelebs Caudisd Ferrecuda')]"
      ]
     },
     "execution_count": 12,
     "metadata": {},
     "output_type": "execute_result"
    }
   ],
   "source": [
    "markdown_splitter = MarkdownHeaderTextSplitter(headers_to_split_on=[\n",
    "    (\"#\", \"Header 1\"),\n",
    "    (\"##\", \"Header 2\"),\n",
    "    (\"###\", \"Header 3\"),\n",
    "], strip_headers=False)\n",
    "\n",
    "chunks = markdown_splitter.split_text(doc)\n",
    "chunks"
   ]
  },
  {
   "cell_type": "code",
   "execution_count": 34,
   "metadata": {},
   "outputs": [
    {
     "ename": "TypeError",
     "evalue": "SemanticChunker.__init__() got an unexpected keyword argument 'chunk_overlap'",
     "output_type": "error",
     "traceback": [
      "\u001b[0;31m---------------------------------------------------------------------------\u001b[0m",
      "\u001b[0;31mTypeError\u001b[0m                                 Traceback (most recent call last)",
      "Cell \u001b[0;32mIn[34], line 1\u001b[0m\n\u001b[0;32m----> 1\u001b[0m text_splitter \u001b[38;5;241m=\u001b[39m \u001b[43mSemanticChunker\u001b[49m\u001b[43m(\u001b[49m\u001b[43mOpenAIEmbeddings\u001b[49m\u001b[43m(\u001b[49m\u001b[43mapi_key\u001b[49m\u001b[38;5;241;43m=\u001b[39;49m\u001b[43mos\u001b[49m\u001b[38;5;241;43m.\u001b[39;49m\u001b[43menviron\u001b[49m\u001b[38;5;241;43m.\u001b[39;49m\u001b[43mget\u001b[49m\u001b[43m(\u001b[49m\u001b[38;5;124;43m\"\u001b[39;49m\u001b[38;5;124;43mOPENAI_API_KEY\u001b[39;49m\u001b[38;5;124;43m\"\u001b[39;49m\u001b[43m)\u001b[49m\u001b[43m)\u001b[49m\u001b[43m,\u001b[49m\u001b[43m \u001b[49m\u001b[43mbreakpoint_threshold_type\u001b[49m\u001b[38;5;241;43m=\u001b[39;49m\u001b[38;5;124;43m'\u001b[39;49m\u001b[38;5;124;43mpercentile\u001b[39;49m\u001b[38;5;124;43m'\u001b[39;49m\u001b[43m,\u001b[49m\u001b[43m \u001b[49m\u001b[43mchunk_overlap\u001b[49m\u001b[38;5;241;43m=\u001b[39;49m\u001b[38;5;241;43m10\u001b[39;49m\u001b[43m)\u001b[49m \u001b[38;5;66;03m# chose which embeddings and breakpoint type and threshold to use\u001b[39;00m\n\u001b[1;32m      2\u001b[0m semantic_chunks \u001b[38;5;241m=\u001b[39m text_splitter\u001b[38;5;241m.\u001b[39mcreate_documents([chunks[\u001b[38;5;241m0\u001b[39m]\u001b[38;5;241m.\u001b[39mpage_content])\n\u001b[1;32m      3\u001b[0m semantic_chunks\n",
      "\u001b[0;31mTypeError\u001b[0m: SemanticChunker.__init__() got an unexpected keyword argument 'chunk_overlap'"
     ]
    }
   ],
   "source": []
  },
  {
   "cell_type": "code",
   "execution_count": 33,
   "metadata": {},
   "outputs": [
    {
     "name": "stdout",
     "output_type": "stream",
     "text": [
      "# Cartório Notarial De Palmela  \n",
      "Telef.:212 350 031 / 212 330 288 - Fax 212 332 542 Av. Rainha D. Leonor, 4 Loja E - 2950 - 204 PALMELA\n",
      "NOTÁRIO\n",
      "Licenciado Jerónimo Monteiro Lourenço O Signatário, Ajudante do Cartório Notarial de Palmela\n",
      "-  Que a fotocópia apensa a esta Certidão está conforme o original que restituí o qual tem / não tem aposto o respectivo selo branco. - Que foi extraída neste Cartório da escritura exarada de folhas per\n",
      "-- a folhas ort do livro de notas para escrituras diversas número Que foi extraída neste Cartório do Testamento exarado de folhas _\n",
      "_ a folhas _\n",
      "do livro de Testamentos número_\n",
      "Que fiz extrair do Bilhete de Identidade número emitido em de de pelos\n",
      "- Que fiz extraír do Passaporte número -\n",
      "de_\n",
      "_ por de de de maine\n",
      "..\n"
     ]
    }
   ],
   "source": [
    "print(semantic_chunks[0].page_content)"
   ]
  },
  {
   "cell_type": "markdown",
   "metadata": {},
   "source": [
    "# Semantic Chunking"
   ]
  },
  {
   "cell_type": "code",
   "execution_count": 37,
   "metadata": {},
   "outputs": [
    {
     "data": {
      "text/plain": [
       "[Document(page_content='# Cartório Notarial De Palmela\\n\\nTelef.:212 350 031 / 212 330 288 - Fax 212 332 542 Av. Rainha D. Leonor, 4 Loja E - 2950 - 204 PALMELA\\nNOTÁRIO\\nLicenciado Jerónimo Monteiro Lourenço O Signatário, Ajudante do Cartório Notarial de Palmela\\n-  Que a fotocópia apensa a esta Certidão está conforme o original que restituí o qual tem / não tem aposto o respectivo selo branco. - Que foi extraída neste Cartório da escritura exarada de folhas per\\n-- a folhas ort do livro de notas para escrituras diversas número Que foi extraída neste Cartório do Testamento exarado de folhas _\\n_ a folhas _\\ndo livro de Testamentos número_\\nQue fiz extrair do Bilhete de Identidade número emitido em de de pelos\\n- Que fiz extraír do Passaporte número -\\nde_\\n_ por de de de maine\\n..'),\n",
       " Document(page_content='- Que me foi presente para conferir. ----------------------\\n- Que fiz extraír do documento. -------------------------\\n- Que ocupa - Ou 3 l - folhas que têm aposto o respectivo selo branco deste Cartório, estão todas elas numeradas e por ele Ajudante rubricadas. Cartório Notarial de Palmela, aos larco de dois mil e cou CO. de CONTA:\\nArt 020 N.º 4.1 Tip. GOUVELA, LOA\\nArt º 20 N.º 4.1.1 ........................ €\\nO Notário / O Ajudante, Art º 20 N.º 4.1.2 .............. Art.º 20 N.º 4.2 ...'),\n",
       " Document(page_content='.'),\n",
       " Document(page_content='Art º 20 N.º 4.4 ... Registada sob o n.º 008 20.00\\n\\n## Compra E Venda E Mútuo Com Hipoteca\\n\\n-No dia dezoito de Março de dois mil e cinco, no Cartório Notarial de Palmela, perante mim, Licenciado Jerónimo Monteiro Lourenço, respectivo Notário, compareceram como outorgantes: ------ -Primeiro - ARMANDO ROSA DA GRAÇA, casado, natural da freguesia de Freixianda, concelho de Ourém, residente na Rua Carvalho Araújo, lote 5-A, Vale de Milhaços, Corroios, Seixal, que outorga na qualidade de gerente e em representação da sociedade comercia! por quotas de responsabilidade limitada, com a firma ARMANDO ROSA GRAÇA, LIMITADA, NIPC  501 669 523, com sede em Vila Amélia, lote quatrocentos e oito, em Cabanas, freguesia de Quinta do Anjo, concelho de Palmela, matriculada na Conservatória do Registo Comercial de Palmela, sob o número mil oitocentos e trinta, com o capital social de cem mil euros, qualidades e poderes que verifiquei pela certidão comercial que arquivo. -Segundo - TERESA DE JESUS VENTURA VERGUEIRO DE LIMA, casada, natural da freguesia de Pena, concelho de Lisboa, residente na Rua latino Coelho, lote 1688-B, Quinta do Conde 2, freguesia de Quinta do Conde, concelho de Sesimbra, que outorga na qualidade de procurador de : JOÃO MANUEL\\nVENTURA VERGUEIRO e mulher ADELAIDE MADALENA PARADA VENTURA VERGUEIRO, casados sob o regime de comunhão de adquiridos, naturais ele da freguesia de Mina, concelho de Amadora e ela da freguesia de Santa Justa, concelho de Lisboa, residentes na Álemanha, em Seehofstr. 10-A, D-60594 Frankfurt/main, CF 153 103 957 e 158 503 074, respectivamente, nos termos da procuração que arquivo. -\\n-Terceiro - LAUREANA FERNANDA DOS SANTOS CARDOSO, casada, natural da freguesia de Santo António da Charneca, concelho do Barreiro, residente na WOS foso GRACE\\n14 Rua Samora Machel, número 23, 3º andar direito, Baixa da Banheira, concelho da Moita, que outorga na qualidade de procuradora do BANCO COMERCIAL\\nPORTUGUÊS, S.A., com sede no Porto, na Praça D. João I, número vinte e oito, NIPC 501 525 882, matriculado na Conservatória do Registo Comercial do Porto, sob o número quarenta mil\\'e quarenta e três, com o capital social de três míl duzentos e cinquenta e sete milhões quatrocentos mil oitocentos e vinte e sete euros, adiante designado abreviadamente por Banco, com poderes para o acto, nos termos de fotocópia da procuração já arquivada neste Cartório, por ter servido para instruir o acto exarado com início a folhas quarenta e nove, do livro de notas para escrituras diversas número duzentos e trinta e cinco - E. —\\n-Verifiquei a identidade da terceira outorgante pelo meu conhecimento pessoal e a dos restantes pela exibição dos seus bilhetes de identidade respectivamente números 5015132 de 19/03/2002 e 7044756 de 12/09/2001, ambos emitidos pelo SIC de Lisboa. ← PELO PRIMEIRO OUTORGANTE, NA INDICADA QUALIDADE, FOI DITO:\\n-Que, pela presente escritura vende aos representados da segunda outorgante, livre de quaisquer ónus ou encargos, e pelo preço de NOVENTA MIL EUROS, que já recebeu, para a sua representada, o seguinte imóvel:  نف\\n-Fracção autónoma designíada pela letra \"G\" que corresponde ao segunde andar A, para habitação, do prédio urbano em regime de propriedade horizontal, situado na Urbanização da Cova dos Vidros, Quinta do Conde, lote 26, freguesia de Quinta, do Conde, concelho de Sesimbra, descrito na  Conservatória do Registo Predial de Sesimbra, sob o núméro TRÊS MIL DUZENTOS E CATORZE DA DITA\\nFREGUESIA DE QUINTA DO CONDE, registada a aquisição  a seu  favor péla inscrição G-dois, com a propriedade horizontal registada pela inscrição F-três, com autorização de loteamento registada pela inscrição F-um, inscrito na respectiva matriz sob o artigo 11036, cóm o valor tributável correspondente de 56744,71€. --- PELA SEGUNDA OUTORGAÑTE, NA INDICADA QUALIDADE, FOI DITO:-\\n-Que, para os seus representados, aceita a presente venda, nos termos exarados, e que a fracção adquirida no presente acto se destina a habitação própria permanente. -Que, confessa os seus representados, devedores ao Banco Comercial Português, S.A., que o terceiro outorgante representa, da importância de NOVENTA MIL\\nEUROS, que  do mesmo Banco recebeu a título deste empréstimo e que vai ser aplicada na precedente aquisição. -Que, os seus representados, constituem a favor daquele Banco hipoteca sobre a fracção autónoma atrás identificada e ora adquirida para garantia do pagamento e liquidação da quantia mutuada, e bem assim dos respectivos juros à taxa anual efectiva de três virgula oitenta e cinco por cento, acrescidos de uma sobretaxa até quatro por  cento ao ano em caso de mora, a título de cláusula penal e despesas judiciais e extrajudiciais fixadas para efeitos de registo em três mil e seiscentos euros. -Que o empréstimo e a hipoteca se regulam pelo Decreto-Lei nº349/98, de 11 de Novembro (Regime Gerál) e demais disposições legais aplicáveis e pelas condições constantes do documento complementar, de que tem perfeito conhecimento e inteiramente aceitam, elaborado de harmonia com o número dois do artigo sessenta e quatro do Código do Notariado. PELO TERCEIRO OUTORGANTE, NA SUA INDICADA QUALIDADE, FOI -\\nDITO: -\\n-Que para o Banco seu representado, aceita a confissão de divida e hipoteca, nos COUVEIA, LDA\\ntermos exarados. (\\n___ PELOS PRIMEIRO E SEGUNDA OUTORGANTES, NAS INDICADAS\\nQUALIDADES, FOI DITO: \\n-Que, dando cumprimento ao disposto no artº50 do Dec-Lei nº211/2004 de 20/08,\\n/declaram que interveio como mediador  imobiliário/no presente acto, Calalau &\\nPereira - Sociedade Mediação Imobiliária, LDA, titular da licença número 826 -\\nAMI advertindo-os das consequências previstas no mesmo, pelas falsas declarações. ## Assim O Outorgaram\\n\\n-Arquivo:  a)Imposto  municipal  de  transmissões,  documento número 160.005.005.095.403 e respectiva declaração nº 57007, emitida em 16/03/2005, pelo 1º Serviço de Finanças do Seixal, e cobrado na mesma data, no montante de 168,00€; e\\n-b) O mencionado documento complementar. -Exibiram: \\n-a) Certidão emitida pela aludida Conservatória aos 04/03/2005, comprovativa dos elementos de registo;\\n-b) Fotocópia certificada da declaração para a inscrição na matriz do citado prédio e do pedido para a sua inscrição na indicada data; e Alvará de licença de utilização nº 7/01, emitido em 08/01/2001, pela Câmara Municipal de Sesimbra, para o aludido prédio. -Esta escritura foi lida aos outorgantes é feita a explicação do seu conteúdo em voz alta e na presença simultânea de todos, tendo sido liquidado hoje por este acto de imposto de selo a quantia de setecentos e quarenta e cinco euros. CARTÓRIO NOTARIAL\\nPAL MELA\\nLivro 27 Fls. TERESS de JESUS I trived JERGIEN de Lind Jamena Faucuda Sauks Coudes taind 1001 epe Estatística n.º ર રે\\nConta n.º ... 3\\n  \\n11\\n ::\\n  \\n190 2\\nાં\\n100\\n.'),\n",
       " Document(page_content='ප 文 色 πρ.'),\n",
       " Document(page_content='σουνεία, ισα. - τομ DOCUMENTO COMPLEMENTAR ELABORADO NOS TERMOS DO\\nNÚMERO DOIS DO ARTIGO SESSENTA E QUATRO DO CÓDIGO DO\\nNOTARIADO, e que faz parte integrante da escritura lavrada em pezorro  DE\\nMARÇO DE DOIS MIL É CINCO A FOLHAS DEZ E SEGUINTES DO LOIVRO DE NOTAS PARA\\nESCRITURAS DIVERSA NUMERO DUZENTOS E SETENTA E ÜM-E DO CARTORIO NOTARIAL DE\\nPALMELA . CLÁUSULAS DO CONTRATO DE MÚTUO COM HIPOTECA, no montante de NOVENTA MIL EUROS, celebrado entre \"Banco Comercial Português, S.A.\", pessoa colectiva número 501525882, adiante designado apenas por Banco, e JOÃO MANUEL -VENTURA VERGUEIRO re ADELAIDE MADALENA PARADA VENTURA VERGUEIRO, adiante designados por MUTUÁRIOS; -------------------\\nPRIMEIRA : A quantia mutuada é nesta data entregue pelo Banco por crédito da conta de depósito à ordem número quatro cinco dois oito quatro oito quatro dois zero sete cinco aberta em nome dos MUTUÁRIOS junto do Banco Comercial Português, S.A. SEGUNDA : 1. O empréstimo é concedido pelo prazo de quatrocentos e vinte meses a contar do próximo dia vinte e cinco, salvo se esse dia coincidir com a data da escritura, e sendo assim, o prazo iniciar-se-á a partir \\'dessa data, e será amortizado em quatrocentos e vinte prestações mensais, de capital e juros, a primeira com vencimento no mesmo dia do mês seguinte e as restantes em igual dia dos meses subsequentes. ----------------------------\\n2. Caso a escritura não coincida com o dia vinte e cinco, os juros respeitantes ao período que decorre entre a data da entrega, pelo Banco, da quantia mutuada e a data de início do prazo indicada no ponto anterior, serão cobrados nesse dia.---- TERCEIRA : 1. O empréstimo vence juros sobre o capital em dívida, AND AND\\ncalculados dia a dia e cobrados postecipadamente ao mês, à taxa resultante da EURIBOR (European InterBank Offer Rate) a noventa dias, que vigore no segundo dia útil anterior ao início do período de contagem de juros, acrescida de // um vírgula seis  pontos percentuais, com arredondamento para o quarto ponto percentual imediatamente superior. - 2. À taxa nominal na data de aprovação do presente empréstimo de três vírgula setenta e cinco por cento corresponde a taxa anual efectiva de três vírgula oitenta e cinco por cento, calculada nos termos do Decreto Lei número Duzentos e Vinte barra Noventa e Quatro de Vinte e Três de Agosto. ------------\\n3. Os períodos de contagem de juros serão trimestrais. ----------------------------\\n4. Em cada período de contagem de juros a taxa de juro manter-se-á inalterável. 5. Se o indexante referido no número um (EURIBOR) deixar de existir ou, no entender do Banco, perder a sua actual representatividade haverá lugar à sua substituição por iniciativa do Banco, obrigando-se este a escolher para indexante uma outra taxa disponível no mercado e que tenha uma representatividade o mais aproximada possível à actual representatividade da EURIBOR.---------------------\\nQUARTA : 1. Em caso de mora, os juros serão contados dia a dia e calculados à taxa que estiver em vigor, acrescida de uma sobretaxa de quatro por cento ao ano, a título de cláusula penal. -\\n2. O Banco reserva-se o direito de, a todo o tempo e independentemente de qualquer regime especial aplicável, capitalizar juros remuneratórios correspondentes a um período não inferior a três meses e juros moratórios correspondentes a um período não inferior a um ano, adicionando tais juros ao capital em dívida, passando aqueles a seguir todo o regime deste.----------------------------\\nQUINTA : 1. Não obstante se entender que o prazo de amortização fica estabelecido a favor de ambas as partes, os MUTUÁRIOS podem antecipar, no todo ou em parte, em qualquer altura do empréstimo, a amortização do mesmo desde que dessa intenção previnam o Banco com a antecedência mínima de quinze dias, não havendo, porém, em caso algum, qualquer restituição de juros já cobrados. 2. As amortizações parciais deverão ser efectuadas em data coincidente com os vencimentos das prestações de reembolso do empréstimo. -------------------------\\n3. Quando a antecipação da amortização seja parcial, ela não poderá ser inferior a mil duzentos e cinquenta euros. 4. Sempre que na data de qualquer amortização parcial antecipada, ou por força desta, o capital em dívida, seja igual ou inferior a metade do capital inicialmente mutuado, por força quer das amortizações ordinárias quer das extraordinárias, os Mutuários indemnizarão o Banco em quantia equivalente a dois por cento do capital amortizado antecipadamente. 5. Se os Mutuários optarem pela antecipação total da amortização, indemnizarão o Banco em quantia equivalente a três por cento do capital amortizado antecipadamente. SEXTA : Os pagamentos a efectuar pelos MUTUÁRIOS para liquidação do capital mutuado, respectivos juros ou outros encargos devidos por força do estipulado no presente contrato, serão efectuados por débito na conta de depósitos à ordem mencionada anteriormente ou em qualquer conta de que os mutuários sejam ou venham a ser titulares junto do Banco Comercial Português, S.A., autorizando, desde já, os MUTUÁRIOS os débitos. -\\nSÉTIMA : A hipoteca ora constituída pelos MUTUÁRIOS abrange todas as construções, benfeitorias e acessões, presentes e futuras, do imóvel hipotecado, pelo que os MUTUÁRIOS desde já se obrigam a proceder aos respectivos averbamentos junto das repartições públicas competentes. ------------------------\\nOITAVA : 1. O Banco, sempre que o julgue necessário, poderá mandar inspeccionar, bem como avaliar à custa dos MUTUÁRIOS, o imóvel hipotecado para o efeito do artigo setecentos e um do Gódigo Civil, sendo as correspondentes despesas, que ficam cobertas pela garantia ora prestada, debitadas na conta de depósitos à ordem mencionada anteriormente, autorizando, desde já, os MUTUÁRIOS os débitos. 2. Os MUTUÁRIOS obrigam-se a reforçar a garantia prestada sempre que o Banco a considerar insuficiente para a segurança do seu crédito. ----------------\\nNONA : A presente hipoteca poderá ser executada: \\na) se não forem pagas as prestações nas datas previstas, caso em que a falta de pagamento de uma delas importa o vencimento imediato de todas; ---------------\\nb) se o imóvel ora hipotecado vier a ser alienado, onerado, arrendado, total ou parcialmente, objecto de arresto, execução ou qualquer outro procedimento cautelar ou acção judicial, casos em que se consideram igualmente vencidas e exigíveis as obrigações que assegura; c) se os MUTUÁRIOS utilizarem\\' para fim divérso do declarado, tanto o empréstimo como o imóvel; d) se se vencer qualquer das obrigações cujo cumprimento assegura, ou se não for cumprido qualquer dos deveres que para os MUTUÁRIOS decorrem deste contrato. DÉCIMA : 1. Os MUTUÁRIOS obrigam-se a subscrever um SEGURO\\nMULTIRISCOS do imóvel ora hipotecado em sociedade de seguros de reconhecido crédito e da confiança do Banco, a pagar atempadamente os respectivos prémios, a fazer inserir na respectiva apólice a existência desta hipoteca para o efeito de, em caso de sinistro e vencida alguma das obrigações asseguradas, o Banco receber a respectiva indemnização, assim como a trazer pontualmente pagas as contribuições que incidirem sobre o imóvel hipotecado. -\\n2. Os MUTUÁRIOS obrigam-se a contratar um SEGURO DE VIDA cujas condições, constantes da respectiva apólice, serão as indicadas pelo Banco, em sociedade de seguros de reconhecido crédito e da confiança do Banco, a pagar atempadamente os respectivos prémios, a fazer inserir na respectiva apólice que o Banco é credor hipotecário e que, em consequência, as indemnizações que sejam devidas em caso de sinistro reverterão para o Banco. --------\\n3. As apólices e actas adicionais dos seguros acima referidos ficarão em poder do Banco mutuante como interessado nos mesmos, na qualidade de credor hipotecário. Só por intermédio do Banco e com o seu acordo por escrito os seguros poderão ser alterados ou anulados. -----------------------\\nDÉCIMA PRIMEIRA : 1. Os MUTUÁRIOS obrigam-se a trazer pontualmente pagos os seguros referidos na cláusula anterior. -----------------\\n2. Os MUTUÁRIOS autorizam desde já, com expressa subrogação, que, em caso de incumprimento de tais obrigações, ó Banco as cumpra, efectuando por conta dos MUTUÁRIOS todos os pagamentos necessários, caso em que os correspondentes recibos e conhecimentos ficam igualmente a fazer parte desta escritura, para efeitos do artigo quinquagésimo do Código de Processo Civil e os débitos abrangidos pela garantia. -\\n3. Se o Banco efeetuar, na falta e por conta dos MUTUÁRIOS, o pagamento dos. prémios e das contribuições em dívida, nos termos do disposto no número anterior, os MUTUÁRIOS autorizam desde já o Banco a debitar os seus montantes em qualquer conta aberta em nome dos MUTUÁRIOS junto do Banco Comercial Português, S.A. ----------\\nDÉCIMA SEGUNDA : O crédito cuja garantia é a hipoteca ora constituída fica afecto, sem qualquer prejuízo para os MUTUÁRIOS, ao cumprimento de\\n\"Obrigações Hipotecárias\" a emitir pelo Banco, ao abrigo dos Decretos Lei número Gento e Vinte Cinco barra Noventa, de Dezasseis de Abril e Dezassete barra Noventa e Cinco, de Vinte e Sete de Janeiro, e demais legislação aplicável. DÉCIMA TERCEIRA : Ficam por conta dos MUTUÁRIOS todas as despesas de segurança e cobrança do empréstimo, designadamente as deste contrato, do registo da hipoteca e do seu distrate e as de qualquer avaliação que o Banco mande efectuar ao imóvel·hipotecado. -----------------------\\nDÉCIMA QUARTA : Para todas as questões emergentes do presente contrato as partes convencionam o foro da comarca de Lisboa, com expressa renúncia a qualquer outro. ----\\n76505 I trived 1678 circus de lima Scelebs Caudisd Ferrecuda')]"
      ]
     },
     "execution_count": 37,
     "metadata": {},
     "output_type": "execute_result"
    }
   ],
   "source": [
    "from langchain_experimental.text_splitter import SemanticChunker\n",
    "from langchain_openai.embeddings import OpenAIEmbeddings\n",
    "\n",
    "text_splitter = SemanticChunker(OpenAIEmbeddings(api_key=os.environ.get(\"OPENAI_API_KEY\")), breakpoint_threshold_type='percentile', ) # chose which embeddings and breakpoint type and threshold to use\n",
    "chunks = text_splitter.create_documents([doc])\n",
    "chunks"
   ]
  },
  {
   "cell_type": "markdown",
   "metadata": {},
   "source": [
    "# Header + Semantic Chunking?"
   ]
  },
  {
   "cell_type": "code",
   "execution_count": 39,
   "metadata": {},
   "outputs": [],
   "source": [
    "chunks[0].id"
   ]
  },
  {
   "cell_type": "markdown",
   "metadata": {},
   "source": [
    "# Basic chunking with overlap"
   ]
  },
  {
   "cell_type": "code",
   "execution_count": 32,
   "metadata": {},
   "outputs": [
    {
     "data": {
      "text/plain": [
       "[Document(page_content='da - Sede: Rua Abel Salazar, 7C e 7D,'),\n",
       " Document(page_content='loja 8, piso 0  2905-290 Almada  Tel:'),\n",
       " Document(page_content='215863163   tipyfamilymo@century21.pt'),\n",
       " Document(page_content='www.century21.pt/tipy/familymc=Licer'),\n",
       " Document(page_content='![0_image_0.png](0_image_0.png)'),\n",
       " Document(page_content='# Century 21'),\n",
       " Document(page_content='![0_Image_1.Png](0_Image_1.Png)'),\n",
       " Document(page_content='Ipv Family MC'),\n",
       " Document(page_content='# Contrato De Colaboração E Partilha De'),\n",
       " Document(page_content='Comissão'),\n",
       " Document(page_content='Entre PRIMEIRA CONTRAENTE:'),\n",
       " Document(page_content='FGM&C Lda., com sede na Rua Abel'),\n",
       " Document(page_content='Salazar, 7C e 7D loja 8 piso 0,'),\n",
       " Document(page_content='2805-290 Almada, com o capital social'),\n",
       " Document(page_content='de €5.000, com o NIPC: 516095188, com o'),\n",
       " Document(page_content='código de acesso à certidão comercial'),\n",
       " Document(page_content='n\\tº 3140-5783-5469, detentora da'),\n",
       " Document(page_content='Licença AMI nº 18194 emitida pelo'),\n",
       " Document(page_content='Instituto dos Mercados Públicos, do'),\n",
       " Document(page_content='Imobiliário e Construção (IMPIC),neste'),\n",
       " Document(page_content='ato representada pela Procuradora Carla'),\n",
       " Document(page_content='Martins, conforme procuração'),\n",
       " Document(page_content='autenticada com o número de registo na'),\n",
       " Document(page_content='Ordem dos Advogados n.º 21535L/3525,'),\n",
       " Document(page_content='adiante designada como Mediadora.: E'),\n",
       " Document(page_content='e segunda contraente:'),\n",
       " Document(page_content='Obvio e Positivo Loc. Mediação'),\n",
       " Document(page_content='Imobiliária, Lda., com sede na Rua Prof'),\n",
       " Document(page_content='Frencisco Gentil nº 20 - Telheras -'),\n",
       " Document(page_content='Inthuse com capital social'),\n",
       " Document(page_content='€ 10000 com o NIPC: 514 707 356'),\n",
       " Document(page_content='detentora da Licença AMI nº 1 6962'),\n",
       " Document(page_content='emitida pelo Instituto dos Mercados'),\n",
       " Document(page_content='Públicos, do Imobiliário e Construção'),\n",
       " Document(page_content='(IMPIC), neste ato representada pela'),\n",
       " Document(page_content='Por Poulo Costa. I von un dorayante'),\n",
       " Document(page_content='designada como Segunda Outorgante.'),\n",
       " Document(page_content='As Contraentes manifestam que é vontade'),\n",
       " Document(page_content='das mesmas subscrever o presente'),\n",
       " Document(page_content='contrato de colaboração que se regerá'),\n",
       " Document(page_content='pelas seguintes cláusulas: -'),\n",
       " Document(page_content='## Primeira'),\n",
       " Document(page_content='As partes trocam habitualmente'),\n",
       " Document(page_content='informação confidencial de produtos'),\n",
       " Document(page_content='imobiliários, apresentando os mesmos'),\n",
       " Document(page_content='aos seus clientes, com o objetivo de'),\n",
       " Document(page_content='levar a bom termo operações de caráter'),\n",
       " Document(page_content='imobiliário. -'),\n",
       " Document(page_content='## Segunda'),\n",
       " Document(page_content='Para a operação de venda do imóvel sito'),\n",
       " Document(page_content='na Rua Cidade de Camona, nº 2 - CvDtF'),\n",
       " Document(page_content='(B) em Corroios, com a referência'),\n",
       " Document(page_content='C0431-00512, com o valor de 122.500€'),\n",
       " Document(page_content='(Cento e vinte e dois mil e quinhentos'),\n",
       " Document(page_content='euros), os Contraentes acordam na'),\n",
       " Document(page_content='repartição de 50% para quem detém o'),\n",
       " Document(page_content='potencial comprador e 50% para quem'),\n",
       " Document(page_content='detém a angariação, da comissão daí'),\n",
       " Document(page_content='resultante e pagável no momento em que'),\n",
       " Document(page_content='a parte que emite a fatura receba'),\n",
       " Document(page_content='efetivamente do cliente proprietário os'),\n",
       " Document(page_content='honorários da operação, e sempre após'),\n",
       " Document(page_content='boa cobrança.'),\n",
       " Document(page_content='.'),\n",
       " Document(page_content='O imóvel partilhado está angariado em'),\n",
       " Document(page_content='regime de exclusividade e o valor da'),\n",
       " Document(page_content='comissão paga pelo cliente, nos'),\n",
       " Document(page_content='negócios de compra e venda, é de 5% do'),\n",
       " Document(page_content='preço pelo qual o negócio seja'),\n",
       " Document(page_content='efetivamente concretizado, acrescida de'),\n",
       " Document(page_content='IVA à taxa legal em vigor. Depois de'),\n",
       " Document(page_content='lido pelas Contraentes e por estarem de'),\n",
       " Document(page_content='acordo com o seu teor, vai por elas ser'),\n",
       " Document(page_content='assinado.'),\n",
       " Document(page_content='# Century 21.'),\n",
       " Document(page_content='Tipy Family MC'),\n",
       " Document(page_content='Almada, _13_de Agosto de 2022 FGM&C Lda'),\n",
       " Document(page_content='(Primeira Contract 095 188 A Gerência'),\n",
       " Document(page_content='![1_image_0.png](1_image_0.png)'),\n",
       " Document(page_content='![1_image_1.png](1_image_1.png)')]"
      ]
     },
     "execution_count": 32,
     "metadata": {},
     "output_type": "execute_result"
    }
   ],
   "source": [
    "from langchain_text_splitters import RecursiveCharacterTextSplitter, CharacterTextSplitter, MarkdownTextSplitter\n",
    "\n",
    "text_splitter = MarkdownTextSplitter(\n",
    "    # Set a really small chunk size, just to show.\n",
    "    chunk_size=40,\n",
    "    chunk_overlap=0\n",
    "    # length_function=len,\n",
    "    # is_separator_regex=False,\n",
    "    # separator=\"ch\"\n",
    ")\n",
    "chunks = text_splitter.create_documents([doc])\n",
    "chunks"
   ]
  },
  {
   "cell_type": "code",
   "execution_count": 28,
   "metadata": {},
   "outputs": [
    {
     "data": {
      "text/plain": [
       "1"
      ]
     },
     "execution_count": 28,
     "metadata": {},
     "output_type": "execute_result"
    }
   ],
   "source": [
    "len(chunks)"
   ]
  },
  {
   "cell_type": "code",
   "execution_count": 18,
   "metadata": {},
   "outputs": [
    {
     "name": "stdout",
     "output_type": "stream",
     "text": [
      "da - Sede: Rua Abel Salazar, 7C e 7D, loja 8, piso 0  2905-290 Almada  Tel: 215863163   tipyfamilymo@century21.pt     www.century21.pt/tipy/familymc=Licer\n",
      "\n",
      "![0_image_0.png](0_image_0.png)\n",
      "\n",
      "# Century 21\n",
      "\n",
      "![0_Image_1.Png](0_Image_1.Png)\n",
      "\n",
      "Ipv Family MC\n",
      "\n",
      "# Contrato De Colaboração E Partilha De Comissão\n"
     ]
    }
   ],
   "source": [
    "print(chunks[0].page_content)"
   ]
  },
  {
   "cell_type": "code",
   "execution_count": 17,
   "metadata": {},
   "outputs": [
    {
     "name": "stdout",
     "output_type": "stream",
     "text": [
      "Entre PRIMEIRA CONTRAENTE:\n"
     ]
    }
   ],
   "source": [
    "print(chunks[1].page_content)"
   ]
  },
  {
   "cell_type": "code",
   "execution_count": 16,
   "metadata": {},
   "outputs": [
    {
     "name": "stdout",
     "output_type": "stream",
     "text": [
      "FGM&C Lda., com sede na Rua Abel Salazar, 7C e 7D loja 8 piso 0, 2805-290 Almada, com o capital social de €5.000, com o NIPC: 516095188, com o código de acesso à certidão comercial n\tº 3140-5783-5469, detentora da Licença AMI nº 18194 emitida pelo Instituto dos Mercados Públicos, do Imobiliário e Construção (IMPIC),neste ato representada pela Procuradora Carla Martins, conforme procuração autenticada com o número de registo na Ordem dos Advogados n.º 21535L/3525, adiante designada como Mediadora.: E\n"
     ]
    }
   ],
   "source": [
    "print(chunks[2].page_content)"
   ]
  },
  {
   "cell_type": "code",
   "execution_count": 19,
   "metadata": {},
   "outputs": [
    {
     "name": "stdout",
     "output_type": "stream",
     "text": [
      "e segunda contraente: \n",
      "Obvio e Positivo Loc. Mediação Imobiliária, Lda., com sede na Rua Prof Frencisco Gentil nº 20 - Telheras - Inthuse com capital social\n",
      "€ 10000 com o NIPC: 514 707 356 detentora da Licença AMI nº 1 6962 emitida pelo Instituto dos Mercados Públicos, do Imobiliário e Construção (IMPIC), neste ato representada pela Por Poulo Costa. I von un dorayante designada como Segunda Outorgante.\n"
     ]
    }
   ],
   "source": [
    "print(chunks[3].page_content)"
   ]
  },
  {
   "cell_type": "code",
   "execution_count": 22,
   "metadata": {},
   "outputs": [
    {
     "name": "stdout",
     "output_type": "stream",
     "text": [
      "As Contraentes manifestam que é vontade das mesmas subscrever o presente contrato de colaboração que se regerá pelas seguintes cláusulas: -\n",
      "\n",
      "## Primeira\n",
      "\n",
      "As partes trocam habitualmente informação confidencial de produtos imobiliários, apresentando os mesmos aos seus clientes, com o objetivo de levar a bom termo operações de caráter imobiliário. -\n",
      "\n",
      "## Segunda\n"
     ]
    }
   ],
   "source": [
    "print(chunks[4].page_content)"
   ]
  },
  {
   "cell_type": "code",
   "execution_count": 21,
   "metadata": {},
   "outputs": [
    {
     "name": "stdout",
     "output_type": "stream",
     "text": [
      "da - Sede: Rua Abel Salazar, 7C e 7D, loja 8, piso 0  2905-290 Almada  Tel: 215863163   tipyfamilymo@century21.pt     www.century21.pt/tipy/familymc=Licer\n",
      "\n",
      "![0_image_0.png](0_image_0.png)\n",
      "\n",
      "# Century 21\n",
      "\n",
      "![0_Image_1.Png](0_Image_1.Png)\n",
      "\n",
      "Ipv Family MC\n",
      "\n",
      "# Contrato De Colaboração E Partilha De Comissão\n",
      "\n",
      "Entre PRIMEIRA CONTRAENTE:\n",
      "FGM&C Lda., com sede na Rua Abel Salazar, 7C e 7D loja 8 piso 0, 2805-290 Almada, com o capital social de €5.000, com o NIPC: 516095188, com o código de acesso à certidão comercial n\tº 3140-5783-5469, detentora da Licença AMI nº 18194 emitida pelo Instituto dos Mercados Públicos, do Imobiliário e Construção (IMPIC),neste ato representada pela Procuradora Carla Martins, conforme procuração autenticada com o número de registo na Ordem dos Advogados n.º 21535L/3525, adiante designada como Mediadora.: E\n",
      "e segunda contraente: \n",
      "Obvio e Positivo Loc. Mediação Imobiliária, Lda., com sede na Rua Prof Frencisco Gentil nº 20 - Telheras - Inthuse com capital social\n",
      "€ 10000 com o NIPC: 514 707 356 detentora da Licença AMI nº 1 6962 emitida pelo Instituto dos Mercados Públicos, do Imobiliário e Construção (IMPIC), neste ato representada pela Por Poulo Costa. I von un dorayante designada como Segunda Outorgante. \n",
      "\n",
      "As Contraentes manifestam que é vontade das mesmas subscrever o presente contrato de colaboração que se regerá pelas seguintes cláusulas: -\n",
      "\n",
      "## Primeira\n",
      "\n",
      "As partes trocam habitualmente informação confidencial de produtos imobiliários, apresentando os mesmos aos seus clientes, com o objetivo de levar a bom termo operações de caráter imobiliário. -\n",
      "\n",
      "## Segunda\n",
      "\n",
      "Para a operação de venda do imóvel sito na Rua Cidade de Camona, nº 2 - CvDtF (B) em Corroios, com a referência C0431-00512, com o valor de 122.500€ (Cento e vinte e dois mil e quinhentos euros), os Contraentes acordam na repartição de 50% para quem detém o potencial comprador e 50% para quem detém a angariação, da comissão daí resultante e pagável no momento em que a parte que emite a fatura receba efetivamente do cliente proprietário os honorários da operação, e sempre após boa cobrança. \n",
      "\n",
      ". \n",
      "\n",
      "O imóvel partilhado está angariado em regime de exclusividade e o valor da comissão paga pelo cliente, nos negócios de compra e venda, é de 5% do preço pelo qual o negócio seja efetivamente concretizado, acrescida de IVA à taxa legal em vigor. Depois de lido pelas Contraentes e por estarem de acordo com o seu teor, vai por elas ser assinado. \n",
      "\n",
      "# Century 21.\n",
      "\n",
      "Tipy Family MC\n",
      "Almada, _13_de Agosto de 2022 FGM&C Lda\n",
      "(Primeira Contract 095 188 A Gerência\n",
      "\n",
      "![1_image_0.png](1_image_0.png)\n",
      "\n",
      "![1_image_1.png](1_image_1.png)\n",
      "\n",
      "\n"
     ]
    }
   ],
   "source": [
    "print(doc)"
   ]
  },
  {
   "cell_type": "code",
   "execution_count": null,
   "metadata": {},
   "outputs": [],
   "source": [
    "from langchain_text_splitters import MarkdownHeaderTextSplitter\n",
    "from langchain.schema.document import Document"
   ]
  },
  {
   "cell_type": "code",
   "execution_count": 36,
   "metadata": {},
   "outputs": [
    {
     "name": "stdout",
     "output_type": "stream",
     "text": [
      "Loaded detection model vikp/surya_det3 on device mps with dtype torch.float16\n",
      "Loaded detection model vikp/surya_layout3 on device mps with dtype torch.float16\n",
      "Loaded reading order model vikp/surya_order on device mps with dtype torch.float16\n",
      "Loaded recognition model vikp/surya_rec2 on device mps with dtype torch.float16\n",
      "Loaded texify model to mps with torch.float16 dtype\n"
     ]
    },
    {
     "name": "stderr",
     "output_type": "stream",
     "text": [
      "Detecting bboxes: 100%|██████████| 1/1 [00:01<00:00,  1.11s/it]\n",
      "Recognizing Text: 100%|██████████| 2/2 [00:36<00:00, 18.26s/it]\n",
      "Detecting bboxes: 100%|██████████| 1/1 [00:01<00:00,  1.18s/it]\n",
      "Finding reading order: 100%|██████████| 1/1 [00:03<00:00,  3.74s/it]\n"
     ]
    },
    {
     "name": "stdout",
     "output_type": "stream",
     "text": [
      "Saved markdown to the /var/folders/b4/t373qrvd4m76swgs_nb9vf9r0000gn/T/tmp3qzey8im/Acordo Partilha Assinado folder\n",
      "Loaded detection model vikp/surya_det3 on device mps with dtype torch.float16\n",
      "Loaded detection model vikp/surya_layout3 on device mps with dtype torch.float16\n",
      "Loaded reading order model vikp/surya_order on device mps with dtype torch.float16\n",
      "Loaded recognition model vikp/surya_rec2 on device mps with dtype torch.float16\n",
      "Loaded texify model to mps with torch.float16 dtype\n"
     ]
    },
    {
     "name": "stderr",
     "output_type": "stream",
     "text": [
      "Detecting bboxes: 100%|██████████| 1/1 [00:01<00:00,  1.07s/it]\n",
      "Recognizing Text: 100%|██████████| 3/3 [00:36<00:00, 12.14s/it]\n",
      "Detecting bboxes: 100%|██████████| 1/1 [00:01<00:00,  1.33s/it]\n",
      "Finding reading order: 100%|██████████| 1/1 [00:04<00:00,  4.10s/it]\n"
     ]
    },
    {
     "name": "stdout",
     "output_type": "stream",
     "text": [
      "Saved markdown to the /var/folders/b4/t373qrvd4m76swgs_nb9vf9r0000gn/T/tmpx58_l1ty/cpu atualizada folder\n",
      "Loaded detection model vikp/surya_det3 on device mps with dtype torch.float16\n",
      "Loaded detection model vikp/surya_layout3 on device mps with dtype torch.float16\n",
      "Loaded reading order model vikp/surya_order on device mps with dtype torch.float16\n",
      "Loaded recognition model vikp/surya_rec2 on device mps with dtype torch.float16\n",
      "Loaded texify model to mps with torch.float16 dtype\n"
     ]
    },
    {
     "name": "stderr",
     "output_type": "stream",
     "text": [
      "Detecting bboxes: 100%|██████████| 3/3 [00:05<00:00,  1.77s/it]\n",
      "Recognizing Text: 100%|██████████| 10/10 [02:18<00:00, 13.86s/it]\n",
      "Detecting bboxes: 100%|██████████| 2/2 [00:04<00:00,  2.25s/it]\n",
      "Finding reading order: 100%|██████████| 2/2 [00:21<00:00, 10.68s/it]\n"
     ]
    },
    {
     "name": "stdout",
     "output_type": "stream",
     "text": [
      "Saved markdown to the /var/folders/b4/t373qrvd4m76swgs_nb9vf9r0000gn/T/tmp8svcrv4a/Escritura folder\n"
     ]
    }
   ],
   "source": [
    "load_document(\"../data/Acordo Partilha Assinado.pdf\")\n",
    "load_document(\"../data/cpu atualizada.pdf\")\n",
    "load_document(\"../data/Escritura.pdf\")"
   ]
  },
  {
   "cell_type": "code",
   "execution_count": null,
   "metadata": {},
   "outputs": [],
   "source": []
  }
 ],
 "metadata": {
  "kernelspec": {
   "display_name": "chatbot-rag-venv",
   "language": "python",
   "name": "python3"
  },
  "language_info": {
   "codemirror_mode": {
    "name": "ipython",
    "version": 3
   },
   "file_extension": ".py",
   "mimetype": "text/x-python",
   "name": "python",
   "nbconvert_exporter": "python",
   "pygments_lexer": "ipython3",
   "version": "3.12.5"
  }
 },
 "nbformat": 4,
 "nbformat_minor": 2
}
